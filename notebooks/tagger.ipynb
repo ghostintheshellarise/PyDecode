{
 "metadata": {
  "name": ""
 },
 "nbformat": 3,
 "nbformat_minor": 0,
 "worksheets": [
  {
   "cells": [
    {
     "cell_type": "code",
     "collapsed": false,
     "input": [
      "import sklearn.preprocessing\n",
      "import sklearn.metrics\n",
      "import pydecode.hyper as ph\n",
      "import pydecode.model \n",
      "from collections import Counter, defaultdict\n",
      "import itertools\n",
      "from pystruct.learners import StructuredPerceptron"
     ],
     "language": "python",
     "outputs": [],
     "prompt_number": 91
    },
    {
     "cell_type": "code",
     "collapsed": false,
     "input": [
      "def output_set(n, tag_size):\n",
      "    return ph.IndexSet((n, tag_size, tag_size))"
     ],
     "language": "python",
     "outputs": [],
     "prompt_number": 2
    },
    {
     "cell_type": "code",
     "collapsed": false,
     "input": [
      "def bigram_tagger(n, tags):\n",
      "    c = ph.ChartBuilder(item_set=ph.IndexSet((n+2, len(tags))), \n",
      "                        output_set=output_set(n, len(tags)))\n",
      "    for tag in tags:\n",
      "        c[0, tag] = c.init()\n",
      "\n",
      "    for i in range(1, n+1):\n",
      "        for tag in tags:\n",
      "            c[i, tag] = \\\n",
      "                [c.merge((i-1, prev), values=[(i-1, tag, prev)])\n",
      "                 for prev in range(len(tags))]\n",
      "\n",
      "    c[n+1, 0] = [c.merge((n, prev), values=[]) \n",
      "               for prev in range(len(tags))]\n",
      "    return c"
     ],
     "language": "python",
     "outputs": [],
     "prompt_number": 3
    },
    {
     "cell_type": "code",
     "collapsed": false,
     "input": [],
     "language": "python",
     "outputs": []
    },
    {
     "cell_type": "code",
     "collapsed": false,
     "input": [
      "class NGramCoder:\n",
      "    def __init__(self, n_size):\n",
      "        self.tag_encoder = sklearn.preprocessing.LabelEncoder()\n",
      "        self.n_size = n_size\n",
      "\n",
      "    def fit(self, tags):\n",
      "        self.tag_encoder.fit(tags) \n",
      "        return self\n",
      "\n",
      "    def inverse_transform(self, elements):\n",
      "        y = []\n",
      "        for element in sorted(elements):\n",
      "            y.append(element[1])\n",
      "        return self.tag_encoder.inverse_transform(y)\n",
      "\n",
      "    def transform(self, y):\n",
      "        tags = self.tag_encoder.transform(y)\n",
      "        return [(i,) + tuple([tags[i - k] if i - k >= 0 else 0 \n",
      "                              for k in range(self.n_size)])\n",
      "                for i in range(len(y))]\n"
     ],
     "language": "python",
     "outputs": [],
     "prompt_number": 77
    },
    {
     "cell_type": "code",
     "collapsed": false,
     "input": [
      "coder = NGramCoder(2).fit([\"N\", \"D\", \"V\"])\n",
      "print coder.transform([\"N\", \"D\", \"N\"])\n",
      "print coder.transform([\"D\", \"D\", \"D\"])"
     ],
     "language": "python",
     "outputs": [
      {
       "output_type": "stream",
       "stream": "stdout",
       "text": [
        "[(0, 1, 0), (1, 0, 1), (2, 1, 0)]\n",
        "[(0, 0, 0), (1, 0, 0), (2, 0, 0)]"
       ]
      },
      {
       "output_type": "stream",
       "stream": "stdout",
       "text": [
        "\n"
       ]
      }
     ],
     "prompt_number": 78
    },
    {
     "cell_type": "code",
     "collapsed": false,
     "input": [
      "class BigramTagger(pydecode.model.DynamicProgrammingModelB):\n",
      "    def __init__(self, tags):\n",
      "        coder = NGramCoder(2)\n",
      "        coder.fit(tags)\n",
      "        super(BigramTagger, self).__init__(output_coder=coder)\n",
      "        self.tags = tags\n",
      "        \n",
      "    def feature_templates(self):\n",
      "        return [(len(self.tags)),\n",
      "                (len(self.tags), len(self.tags))]\n",
      "\n",
      "    def generate_features(self, element, x): \n",
      "        i, tag, prev_tag = element\n",
      "        return [(tag),\n",
      "                (tag, prev_tag)]\n",
      "      \n",
      "    def chart(self, x):\n",
      "        return bigram_tagger(len(x), range(len(self.tags)))\n",
      "\n",
      "    def loss(self, yhat, y):\n",
      "        print yhat, y\n",
      "        return sklearn.metrics.hamming_loss(yhat, y)\n",
      "\n",
      "    def max_loss(self, y):\n",
      "        return len(y)\n"
     ],
     "language": "python",
     "outputs": [],
     "prompt_number": 73
    },
    {
     "cell_type": "code",
     "collapsed": false,
     "input": [
      "tagger = BigramTagger([\"N\", \"V\", \"D\", \"I\"])\n",
      "sp = StructuredPerceptron(tagger, verbose=1, max_iter=3)\n",
      "with warnings.catch_warnings():\n",
      "    warnings.simplefilter(\"ignore\")\n",
      "    sp.fit(data_X, data_Y)"
     ],
     "language": "python",
     "outputs": [
      {
       "output_type": "stream",
       "stream": "stdout",
       "text": [
        "[0 2 3]\n",
        "[1 0 2]\n",
        "[1 0 2]\n",
        "iteration 0\n",
        "['D', 'N', 'V']"
       ]
      },
      {
       "output_type": "stream",
       "stream": "stdout",
       "text": [
        " ['D' 'D' 'D']\n",
        "[0 2 3]\n",
        "[0 0 0]\n",
        "(0, 0, 1) -2.0\n",
        "(0, 0, 2) -2.0\n",
        "(0, 0, 3) -2.0\n",
        "(0, 2, 0) 2.0\n",
        "(0, 2, 1) 1.0\n",
        "(0, 2, 2) 1.0\n",
        "(0, 2, 3)"
       ]
      },
      {
       "output_type": "stream",
       "stream": "stdout",
       "text": [
        " 1.0\n",
        "(0, 3, 0) 1.0\n",
        "(0, 3, 1) 1.0\n",
        "(0, 3, 2) 2.0\n",
        "(0, 3, 3) 1.0\n",
        "(1, 0, 0) -4.0\n",
        "(1, 0, 1) -2.0\n",
        "(1, 0, 2) -2.0\n",
        "(1, 0, 3) -2.0\n",
        "(1, 2, 0) 2.0\n",
        "(1, 2, 1) 1.0\n",
        "(1, 2, 2) 1.0\n",
        "(1, 2, 3) 1.0\n",
        "(1, 3, 0) 1.0\n",
        "(1, 3, 1)"
       ]
      },
      {
       "output_type": "stream",
       "stream": "stdout",
       "text": [
        " 1.0\n",
        "(1, 3, 2) 2.0\n",
        "(1, 3, 3) 1.0\n",
        "(2, 0, 0) -4.0\n",
        "(2, 0, 1) -2.0\n",
        "(2, 0, 2) -2.0\n",
        "(2, 0, 3) -2.0\n",
        "(2, 2, 0) 2.0\n",
        "(2, 2, 1) 1.0\n",
        "(2, 2, 2) 1.0\n",
        "(2, 2, 3) 1.0\n",
        "(2, 3, 0) 1.0\n",
        "(2, 3, 1) 1.0\n",
        "(2, 3, 2) 2.0\n",
        "(2, 3, 3) 1.0\n",
        "['I', 'D', 'N'] ['N' 'V' 'N']\n",
        "[1 0 2]\n",
        "[2 3 2]\n",
        "(0, 0, 2)"
       ]
      },
      {
       "output_type": "stream",
       "stream": "stdout",
       "text": [
        " -1.0\n",
        "(0, 0, 3) -1.0\n",
        "(0, 1, 0) 2.0\n",
        "(0, 1, 1) 1.0\n",
        "(0, 1, 2) 1.0\n",
        "(0, 1, 3) 1.0\n",
        "(0, 2, 0) 1.0\n",
        "(0, 2, 3) -1.0\n",
        "(1, 0, 0) -3.0\n",
        "(1, 0, 2) -1.0\n",
        "(1, 0, 3) -1.0\n",
        "(1, 1, 0) 2.0\n",
        "(1, 1, 1) 1.0\n",
        "(1, 1, 2) 1.0\n",
        "(1, 1, 3) 1.0\n",
        "(1, 2, 0) 1.0\n",
        "(1, 2, 3) -1.0\n",
        "(2, 0, 0)"
       ]
      },
      {
       "output_type": "stream",
       "stream": "stdout",
       "text": [
        " -3.0\n",
        "(2, 0, 2) -1.0\n",
        "(2, 0, 3) -1.0\n",
        "(2, 1, 0) 2.0\n",
        "(2, 1, 1) 1.0\n",
        "(2, 1, 2) 1.0\n",
        "(2, 1, 3) 1.0\n",
        "(2, 2, 0) 1.0\n",
        "(2, 2, 3) -1.0\n",
        "['I', 'D', 'N'] ['I' 'D' 'I']\n",
        "[1 0 2]\n",
        "[1 0 1]\n",
        "avg loss: 0.185185 w: [-1.  0.  1.  0. -2.  0.  2.  0.  1.  0.  0.  0.  0.  0.  0.  0.  0.  0.\n",
        " -1.  0.]\n",
        "effective learning rate: 1.000000\n",
        "iteration 1\n",
        "(0, 0, 2)"
       ]
      },
      {
       "output_type": "stream",
       "stream": "stdout",
       "text": [
        " -1.0\n",
        "(0, 0, 3) -1.0\n",
        "(0, 2, 0) 3.0\n",
        "(0, 2, 1) 1.0\n",
        "(0, 2, 2) 1.0\n",
        "(1, 0, 0) -3.0\n",
        "(1, 0, 2) -1.0\n",
        "(1, 0, 3) -1.0\n",
        "(1, 2, 0) 3.0\n",
        "(1, 2, 1) 1.0\n",
        "(1, 2, 2) 1.0\n",
        "(2, 0, 0) -3.0\n",
        "(2, 0, 2)"
       ]
      },
      {
       "output_type": "stream",
       "stream": "stdout",
       "text": [
        " -1.0\n",
        "(2, 0, 3) -1.0\n",
        "(2, 2, 0) 3.0\n",
        "(2, 2, 1) 1.0\n",
        "(2, 2, 2) 1.0\n",
        "['D', 'N', 'V'] ['N' 'D' 'N']\n",
        "[0 2 3]\n",
        "[2 0 2]\n",
        "(0, 0, 2)"
       ]
      },
      {
       "output_type": "stream",
       "stream": "stdout",
       "text": [
        " -2.0\n",
        "(0, 0, 3) -1.0\n",
        "(0, 2, 0) 1.0\n",
        "(0, 2, 3) -1.0\n",
        "(0, 3, 0) 1.0\n",
        "(0, 3, 1) 1.0\n",
        "(0, 3, 2) 2.0\n",
        "(0, 3, 3) 1.0\n",
        "(1, 0, 0) -2.0\n",
        "(1, 0, 2) -2.0\n",
        "(1, 0, 3) -1.0\n",
        "(1, 2, 0) 1.0\n",
        "(1, 2, 3) -1.0\n",
        "(1, 3, 0) 1.0\n",
        "(1, 3, 1) 1.0\n",
        "(1, 3, 2) 2.0\n",
        "(1, 3, 3) 1.0\n",
        "(2, 0, 0) -2.0\n",
        "(2, 0, 2)"
       ]
      },
      {
       "output_type": "stream",
       "stream": "stdout",
       "text": [
        " -2.0\n",
        "(2, 0, 3) -1.0\n",
        "(2, 2, 0) 1.0\n",
        "(2, 2, 3) -1.0\n",
        "(2, 3, 0) 1.0\n",
        "(2, 3, 1) 1.0\n",
        "(2, 3, 2) 2.0\n",
        "(2, 3, 3) 1.0\n",
        "['I', 'D', 'N'] ['N' 'V' 'V']\n",
        "[1 0 2]\n",
        "[2 3 3]\n",
        "(0, 0, 1)"
       ]
      },
      {
       "output_type": "stream",
       "stream": "stdout",
       "text": [
        " 2.0\n",
        "(0, 0, 2) -1.0\n",
        "(0, 1, 0) 2.0\n",
        "(0, 1, 1) 1.0\n",
        "(0, 1, 2) 1.0\n",
        "(0, 1, 3) 1.0\n",
        "(0, 2, 0) 1.0\n",
        "(0, 2, 3) -1.0\n",
        "(0, 3, 0) -1.0\n",
        "(0, 3, 1) -1.0\n",
        "(0, 3, 2) -1.0\n",
        "(0, 3, 3) -2.0\n",
        "(1, 0, 0) -1.0\n",
        "(1, 0, 1) 2.0\n",
        "(1, 0, 2) -1.0\n",
        "(1, 1, 0) 2.0\n",
        "(1, 1, 1) 1.0\n",
        "(1, 1, 2) 1.0\n",
        "(1, 1, 3) 1.0\n",
        "(1, 2, 0) 1.0\n",
        "(1, 2, 3) -1.0\n",
        "(1, 3, 0)"
       ]
      },
      {
       "output_type": "stream",
       "stream": "stdout",
       "text": [
        " -1.0\n",
        "(1, 3, 1) -1.0\n",
        "(1, 3, 2) -1.0\n",
        "(1, 3, 3) -2.0\n",
        "(2, 0, 0) -1.0\n",
        "(2, 0, 1) 2.0\n",
        "(2, 0, 2) -1.0\n",
        "(2, 1, 0) 2.0\n",
        "(2, 1, 1) 1.0\n",
        "(2, 1, 2) 1.0\n",
        "(2, 1, 3) 1.0\n",
        "(2, 2, 0) 1.0\n",
        "(2, 2, 3) -1.0\n",
        "(2, 3, 0) -1.0\n",
        "(2, 3, 1) -1.0\n",
        "(2, 3, 2) -1.0\n",
        "(2, 3, 3) -2.0\n",
        "['I', 'D', 'N'] ['D' 'I' 'D']\n",
        "[1 0 2]\n",
        "[0 1 0]\n",
        "avg loss: 0.333333 w: [-1.  1.  1. -1. -2.  1.  2.  0.  2.  0.  0.  0. -1.  0.  0.  0.  0.  0.\n",
        " -1. -1.]"
       ]
      },
      {
       "output_type": "stream",
       "stream": "stdout",
       "text": [
        "\n",
        "effective learning rate: 1.000000\n",
        "iteration 2\n",
        "(0, 0, 1) 1.0\n",
        "(0, 0, 2) -2.0\n",
        "(0, 0, 3) -1.0\n",
        "(0, 1, 0) 2.0\n",
        "(0, 1, 1) 1.0\n",
        "(0, 1, 2) 1.0\n",
        "(0, 1, 3) 1.0\n",
        "(0, 2, 0) 3.0\n",
        "(0, 2, 1) 1.0\n",
        "(0, 2, 2) 1.0\n",
        "(0, 3, 0) -1.0\n",
        "(0, 3, 1) -1.0\n",
        "(0, 3, 2) -1.0\n",
        "(0, 3, 3) -2.0\n",
        "(1, 0, 0) -3.0\n",
        "(1, 0, 1) 1.0\n",
        "(1, 0, 2) -2.0\n",
        "(1, 0, 3) -1.0\n",
        "(1, 1, 0)"
       ]
      },
      {
       "output_type": "stream",
       "stream": "stdout",
       "text": [
        " 2.0\n",
        "(1, 1, 1) 1.0\n",
        "(1, 1, 2) 1.0\n",
        "(1, 1, 3) 1.0\n",
        "(1, 2, 0) 3.0\n",
        "(1, 2, 1) 1.0\n",
        "(1, 2, 2) 1.0\n",
        "(1, 3, 0) -1.0\n",
        "(1, 3, 1) -1.0\n",
        "(1, 3, 2) -1.0\n",
        "(1, 3, 3) -2.0\n",
        "(2, 0, 0) -3.0\n",
        "(2, 0, 1) 1.0\n",
        "(2, 0, 2) -2.0\n",
        "(2, 0, 3) -1.0\n",
        "(2, 1, 0) 2.0\n",
        "(2, 1, 1) 1.0\n",
        "(2, 1, 2) 1.0\n",
        "(2, 1, 3) 1.0\n",
        "(2, 2, 0) 3.0\n",
        "(2, 2, 1) 1.0\n",
        "(2, 2, 2) 1.0\n",
        "(2, 3, 0) -1.0\n",
        "(2, 3, 1) -1.0\n",
        "(2, 3, 2) -1.0\n",
        "(2, 3, 3) -2.0\n",
        "['D', 'N', 'V']"
       ]
      },
      {
       "output_type": "stream",
       "stream": "stdout",
       "text": [
        " ['I' 'D' 'N']\n",
        "[0 2 3]\n",
        "[1 0 2]\n",
        "(0, 0, 2) -2.0\n",
        "(0, 0, 3) -1.0\n",
        "(0, 2, 0) 3.0\n",
        "(0, 2, 1) 1.0\n",
        "(0, 2, 2) 1.0\n",
        "(0, 3, 2) 1.0\n",
        "(0, 3, 3) -1.0\n",
        "(1, 0, 0)"
       ]
      },
      {
       "output_type": "stream",
       "stream": "stdout",
       "text": [
        " -2.0\n",
        "(1, 0, 2) -2.0\n",
        "(1, 0, 3) -1.0\n",
        "(1, 2, 0) 3.0\n",
        "(1, 2, 1) 1.0\n",
        "(1, 2, 2) 1.0\n",
        "(1, 3, 2) 1.0\n",
        "(1, 3, 3) -1.0\n",
        "(2, 0, 0) -2.0\n",
        "(2, 0, 2) -2.0\n",
        "(2, 0, 3) -1.0\n",
        "(2, 2, 0) 3.0\n",
        "(2, 2, 1) 1.0\n",
        "(2, 2, 2) 1.0\n",
        "(2, 3, 2)"
       ]
      },
      {
       "output_type": "stream",
       "stream": "stdout",
       "text": [
        " 1.0\n",
        "(2, 3, 3) -1.0\n",
        "['I', 'D', 'N'] ['N' 'N' 'N']\n",
        "[1 0 2]\n",
        "[2 2 2]\n",
        "(0, 0, 1)"
       ]
      },
      {
       "output_type": "stream",
       "stream": "stdout",
       "text": [
        " 2.0\n",
        "(0, 0, 2) -1.0\n",
        "(0, 1, 0) 2.0\n",
        "(0, 1, 1) 1.0\n",
        "(0, 1, 2) 1.0\n",
        "(0, 1, 3) 1.0\n",
        "(0, 2, 0) 1.0\n",
        "(0, 2, 1) -1.0\n",
        "(0, 2, 2) -3.0\n",
        "(0, 2, 3) -2.0\n",
        "(0, 3, 2) 1.0\n",
        "(0, 3, 3) -1.0\n",
        "(1, 0, 0) -1.0\n",
        "(1, 0, 1)"
       ]
      },
      {
       "output_type": "stream",
       "stream": "stdout",
       "text": [
        " 2.0\n",
        "(1, 0, 2) -1.0\n",
        "(1, 1, 0) 2.0\n",
        "(1, 1, 1) 1.0\n",
        "(1, 1, 2) 1.0\n",
        "(1, 1, 3) 1.0\n",
        "(1, 2, 0) 1.0\n",
        "(1, 2, 1) -1.0\n",
        "(1, 2, 2) -3.0\n",
        "(1, 2, 3) -2.0\n",
        "(1, 3, 2) 1.0\n",
        "(1, 3, 3) -1.0\n",
        "(2, 0, 0) -1.0\n",
        "(2, 0, 1) 2.0\n",
        "(2, 0, 2) -1.0\n",
        "(2, 1, 0) 2.0\n",
        "(2, 1, 1) 1.0\n",
        "(2, 1, 2) 1.0\n",
        "(2, 1, 3) 1.0"
       ]
      },
      {
       "output_type": "stream",
       "stream": "stdout",
       "text": [
        "\n",
        "(2, 2, 0) 1.0\n",
        "(2, 2, 1) -1.0\n",
        "(2, 2, 2) -3.0\n",
        "(2, 2, 3) -2.0\n",
        "(2, 3, 2) 1.0\n",
        "(2, 3, 3) -1.0\n",
        "['I', 'D', 'N'] ['D' 'I' 'D']\n",
        "[1 0 2]\n",
        "[0 1 0]\n",
        "avg loss: 0.296296 w: [-1.  1.  0.  0. -2.  1.  3.  0.  2.  0.  0.  0. -1.  0. -2.  1.  0.  0.\n",
        " -1. -1.]\n",
        "effective learning rate: 1.000000\n"
       ]
      }
     ],
     "prompt_number": 74
    },
    {
     "cell_type": "code",
     "collapsed": false,
     "input": [
      "tag_sequences = [tags.split() for tags in [\"D N V\", \"I D N\", \"I D N\"]]\n",
      "\n",
      "\n",
      "data_X = [sentence.split() for sentence in \n",
      "          [\"the dog walked\",\n",
      "           \"in the park\",\n",
      "           \"in the dog\"]]\n",
      "data_Y = [tags.split() for tags in [\"D N V\", \"I D N\", \"I D N\"]]\n",
      "# data_X\n",
      "data_Y"
     ],
     "language": "python",
     "outputs": [
      {
       "output_type": "pyout",
       "prompt_number": 13,
       "text": [
        "[['D', 'N', 'V'], ['I', 'D', 'N'], ['I', 'D', 'N']]"
       ]
      }
     ],
     "prompt_number": 13
    },
    {
     "cell_type": "code",
     "collapsed": false,
     "input": [
      "class TaggingPreprocessor(pydecode.model.SequencePreprocessor):\n",
      "    WORD = 0\n",
      "    PREFIX_1 = 1\n",
      "    PREFIX_2 = 2\n",
      "    PREFIX_3 = 3\n",
      "    SUFFIX_1 = 4\n",
      "    SUFFIX_2 = 5\n",
      "    SUFFIX_3 = 6\n",
      "\n",
      "    def preprocess_item(self, word):\n",
      "        return [word, word[:1], word[:2], word[:3], word[-3:], word[-2:], word[-1:]]"
     ],
     "language": "python",
     "outputs": [
      {
       "ename": "AttributeError",
       "evalue": "'module' object has no attribute 'SequencePreprocessor'",
       "output_type": "pyerr",
       "traceback": [
        "\u001b[1;31m---------------------------------------------------------------------------\u001b[0m\n\u001b[1;31mAttributeError\u001b[0m                            Traceback (most recent call last)",
        "\u001b[1;32m<ipython-input-190-04ffe61fcafa>\u001b[0m in \u001b[0;36m<module>\u001b[1;34m()\u001b[0m\n\u001b[1;32m----> 1\u001b[1;33m \u001b[1;32mclass\u001b[0m \u001b[0mTaggingPreprocessor\u001b[0m\u001b[1;33m(\u001b[0m\u001b[0mpydecode\u001b[0m\u001b[1;33m.\u001b[0m\u001b[0mmodel\u001b[0m\u001b[1;33m.\u001b[0m\u001b[0mSequencePreprocessor\u001b[0m\u001b[1;33m)\u001b[0m\u001b[1;33m:\u001b[0m\u001b[1;33m\u001b[0m\u001b[0m\n\u001b[0m\u001b[0;32m      2\u001b[0m     \u001b[0mWORD\u001b[0m \u001b[1;33m=\u001b[0m \u001b[1;36m0\u001b[0m\u001b[1;33m\u001b[0m\u001b[0m\n\u001b[0;32m      3\u001b[0m     \u001b[0mPREFIX_1\u001b[0m \u001b[1;33m=\u001b[0m \u001b[1;36m1\u001b[0m\u001b[1;33m\u001b[0m\u001b[0m\n\u001b[0;32m      4\u001b[0m     \u001b[0mPREFIX_2\u001b[0m \u001b[1;33m=\u001b[0m \u001b[1;36m2\u001b[0m\u001b[1;33m\u001b[0m\u001b[0m\n\u001b[0;32m      5\u001b[0m     \u001b[0mPREFIX_3\u001b[0m \u001b[1;33m=\u001b[0m \u001b[1;36m3\u001b[0m\u001b[1;33m\u001b[0m\u001b[0m\n",
        "\u001b[1;31mAttributeError\u001b[0m: 'module' object has no attribute 'SequencePreprocessor'"
       ]
      }
     ],
     "prompt_number": 190
    },
    {
     "cell_type": "code",
     "collapsed": false,
     "input": [
      "preprocess = TaggingPreprocessor()\n",
      "preprocess.initialize([\"the dog brown\".split(), \"the brown dog\".split()])\n",
      "preprocess.preprocess(\"the dog brown\".split())"
     ],
     "language": "python",
     "outputs": [
      {
       "output_type": "pyout",
       "prompt_number": 15,
       "text": [
        "[array([2, 1, 0]),\n",
        " array([2, 1, 0]),\n",
        " array([2, 1, 0]),\n",
        " array([2, 1, 0]),\n",
        " array([2, 0, 1]),\n",
        " array([0, 1, 2]),\n",
        " array([0, 1, 2])]"
       ]
      }
     ],
     "prompt_number": 15
    },
    {
     "cell_type": "code",
     "collapsed": false,
     "input": [
      "class BetterBigramTagger(pydecode.model.DynamicProgrammingModelB):\n",
      "    ENC = TaggingPreprocessor\n",
      "    def __init__(self, tags, pruner=None):\n",
      "        print tags\n",
      "        coder = NGramCoder(2)\n",
      "        coder.fit(tags)\n",
      "        super(BetterBigramTagger, self).__init__(TaggingPreprocessor(),\n",
      "                                                 output_coder=coder,\n",
      "                                                 pruner=pruner)\n",
      "        self.tags = tags\n",
      "\n",
      "    def feature_templates(self):\n",
      "        return [(len(self.tags), self._preprocessor.size(self.ENC.WORD)),\n",
      "                (len(self.tags), self._preprocessor.size(self.ENC.SUFFIX_1)),\n",
      "                (len(self.tags), self._preprocessor.size(self.ENC.SUFFIX_2)),\n",
      "                (len(self.tags), self._preprocessor.size(self.ENC.SUFFIX_3)),\n",
      "                (len(self.tags), self._preprocessor.size(self.ENC.PREFIX_1)),\n",
      "                (len(self.tags), self._preprocessor.size(self.ENC.PREFIX_2)),\n",
      "                (len(self.tags), self._preprocessor.size(self.ENC.PREFIX_3)),\n",
      "                (len(self.tags), len(self.tags))\n",
      "                ]\n",
      "\n",
      "    def generate_features(self, element, x): \n",
      "        i, tag, prev_tag = element\n",
      "        return [(tag, x[self.ENC.WORD][i]),\n",
      "                (tag, x[self.ENC.SUFFIX_1][i]),\n",
      "                (tag, x[self.ENC.SUFFIX_2][i]),\n",
      "                (tag, x[self.ENC.SUFFIX_3][i]),\n",
      "                (tag, x[self.ENC.PREFIX_1][i]),\n",
      "                (tag, x[self.ENC.PREFIX_2][i]),\n",
      "                (tag, x[self.ENC.PREFIX_3][i]),\n",
      "                (tag, prev_tag),\n",
      "                ]\n",
      "\n",
      "    def chart(self, x):\n",
      "        return bigram_tagger(len(x), range(len(self.tags)))\n",
      "\n",
      "    def loss(self, yhat, y):\n",
      "        return sklearn.metrics.hamming_loss(yhat, y)\n",
      "\n",
      "    def max_loss(self, y):\n",
      "        return len(y)\n"
     ],
     "language": "python",
     "outputs": [],
     "prompt_number": 183
    },
    {
     "cell_type": "code",
     "collapsed": false,
     "input": [
      "tagger = BetterBigramTagger([\"N\", \"V\", \"D\", \"I\"])\n",
      "sp = StructuredPerceptron(tagger, verbose=1, max_iter=5)\n",
      "with warnings.catch_warnings():\n",
      "    warnings.simplefilter(\"ignore\")\n",
      "    sp.fit(data_X, data_Y)"
     ],
     "language": "python",
     "outputs": [
      {
       "output_type": "stream",
       "stream": "stdout",
       "text": [
        "['N', 'V', 'D', 'I']\n",
        "iteration 0"
       ]
      },
      {
       "output_type": "stream",
       "stream": "stdout",
       "text": [
        "\n",
        "avg loss: 0.185185 w: [-1.  0.  1.  0.  0.  1. -1.  0. -1.  0.  1.  0.  1.  0.  0. -1. -1.  0.\n",
        "  0.  1. -1.  0.  1.  0. -1.  0.  1.  0.  0.  1. -1.  0. -1.  0.  0.  1.\n",
        "  1.  0.  0. -1. -1.  0.  0.  1.  1.  0.  0. -1.  0.  1. -1.  0. -1.  0.\n",
        "  1.  0. -1.  0.  1.  0. -1.  0.  0.  1.  1.  0.  0. -1. -1.  0.  1.  0.\n",
        " -1.  0.  1.  0.  0.  1. -1.  0. -1.  0.  1.  0.  0.  1. -1.  0. -1.  0.\n",
        "  1.  0.  1.  0.  0. -1. -1.  0.  0.  1. -1.  0.  1.  0.  0.  1. -1.  0.\n",
        " -1.  0.  1.  0.  1.  0.  0. -1. -1.  0.  0.  1. -1.  0.  1.  0.  0.  1.\n",
        " -1.  0. -1.  0.  1.  0.  1.  0.  0. -1. -1.  0.  0.  1. -2.  1.  1.  0.\n",
        "  1.  0.  0.  0.  0.  0.  0.  0. -1.  0.  0.  0.]"
       ]
      },
      {
       "output_type": "stream",
       "stream": "stdout",
       "text": [
        "\n",
        "effective learning rate: 1.000000\n",
        "iteration 1\n",
        "avg loss: 0.000000 w: [-1.  0.  1.  0.  0.  1. -1.  0. -1.  0.  1.  0.  1.  0.  0. -1. -1.  0.\n",
        "  0.  1. -1.  0.  1.  0. -1.  0.  1.  0.  0.  1. -1.  0. -1.  0.  0.  1.\n",
        "  1.  0.  0. -1. -1.  0.  0.  1.  1.  0.  0. -1.  0.  1. -1.  0. -1.  0.\n",
        "  1.  0. -1.  0.  1.  0. -1.  0.  0.  1.  1.  0.  0. -1. -1.  0.  1.  0.\n",
        " -1.  0.  1.  0.  0.  1. -1.  0. -1.  0.  1.  0.  0.  1. -1.  0. -1.  0.\n",
        "  1.  0.  1.  0.  0. -1. -1.  0.  0.  1. -1.  0.  1.  0.  0.  1. -1.  0.\n",
        " -1.  0.  1.  0.  1.  0.  0. -1. -1.  0.  0.  1. -1.  0.  1.  0.  0.  1.\n",
        " -1.  0. -1.  0.  1.  0.  1.  0.  0. -1. -1.  0.  0.  1. -2.  1.  1.  0.\n",
        "  1.  0.  0.  0.  0.  0.  0.  0. -1.  0.  0.  0.]"
       ]
      },
      {
       "output_type": "stream",
       "stream": "stdout",
       "text": [
        "\n",
        "effective learning rate: 1.000000\n",
        "Loss zero. Stopping.\n"
       ]
      }
     ],
     "prompt_number": 185
    },
    {
     "cell_type": "code",
     "collapsed": false,
     "input": [
      "def sentences(file):\n",
      "    sentence = []\n",
      "    for l in open(file):\n",
      "        t = l.strip().split()\n",
      "        if len(t) == 2:\n",
      "            sentence.append(t)\n",
      "        else:\n",
      "            yield sentence\n",
      "            sentence = []\n",
      "    yield sentence"
     ],
     "language": "python",
     "outputs": [],
     "prompt_number": 186
    },
    {
     "cell_type": "code",
     "collapsed": false,
     "input": [
      "sents = [zip(*sentence) for sentence in sentences(\"tag/tag_train_small.dat\")]  \n",
      "X, Y = zip(*sents)\n",
      "tags = set()\n",
      "for t in Y:\n",
      "    tags.update(t)"
     ],
     "language": "python",
     "outputs": [],
     "prompt_number": 187
    },
    {
     "cell_type": "code",
     "collapsed": false,
     "input": [
      "tagger = BetterBigramTagger(list(tags))\n",
      "sp = StructuredPerceptron(tagger, verbose=1, max_iter=5)\n",
      "with warnings.catch_warnings():\n",
      "    warnings.simplefilter(\"ignore\")\n",
      "    sp.fit(X, Y)\n"
     ],
     "language": "python",
     "outputs": [
      {
       "output_type": "stream",
       "stream": "stdout",
       "text": [
        "['ADV', 'NOUN', 'ADP', 'PRT', 'DET', '.', 'PRON', 'VERB', 'X', 'NUM', 'CONJ', 'ADJ']\n",
        "iteration 0"
       ]
      },
      {
       "output_type": "stream",
       "stream": "stdout",
       "text": [
        "\n",
        "avg loss: 0.023149 w: [ 0.  0.  0. ...,  0. -1.  0.]"
       ]
      },
      {
       "output_type": "stream",
       "stream": "stdout",
       "text": [
        "\n",
        "effective learning rate: 1.000000\n",
        "iteration 1\n",
        "avg loss: 0.010461 w: [ 0.  0.  0. ...,  0. -1.  0.]"
       ]
      },
      {
       "output_type": "stream",
       "stream": "stdout",
       "text": [
        "\n",
        "effective learning rate: 1.000000\n",
        "iteration 2\n",
        "avg loss: 0.006986 w: [ 0.  0.  0. ...,  0. -1.  0.]"
       ]
      },
      {
       "output_type": "stream",
       "stream": "stdout",
       "text": [
        "\n",
        "effective learning rate: 1.000000\n",
        "iteration 3\n",
        "avg loss: 0.005940 w: [ 0.  0.  0. ...,  0. -1.  0.]"
       ]
      },
      {
       "output_type": "stream",
       "stream": "stdout",
       "text": [
        "\n",
        "effective learning rate: 1.000000\n",
        "iteration 4\n",
        "avg loss: 0.005095 w: [ 0.  0.  0. ...,  0. -1.  0.]"
       ]
      },
      {
       "output_type": "stream",
       "stream": "stdout",
       "text": [
        "\n",
        "effective learning rate: 1.000000\n"
       ]
      }
     ],
     "prompt_number": 189
    },
    {
     "cell_type": "code",
     "collapsed": false,
     "input": [
      "class DictionaryPruner:\n",
      "    def __init__(self, limit=1):\n",
      "        self._limit = limit\n",
      "    \n",
      "    def initialize(self, X, Y, output_coder):\n",
      "        self._word_tag_counts = defaultdict(Counter)\n",
      "        self._word_counts = Counter()\n",
      "        for x, y in itertools.izip(X, Y):\n",
      "            elements = output_coder.transform(y)\n",
      "            for element in elements:\n",
      "                self._word_tag_counts[x[element[0]]][element[1]] += 1\n",
      "                self._word_counts[x[element[0]]] += 1\n",
      "        self._all_tags = range(output_coder.n_size)\n",
      "\n",
      "    def table(self, x):\n",
      "        table = [[0]]\n",
      "        for word in x:\n",
      "            if self._word_counts[word] < self._limit:\n",
      "                table.append(self._all_tags)\n",
      "            else:\n",
      "                table.append(self._word_tag_counts[word].keys())\n",
      "        return table"
     ],
     "language": "python",
     "outputs": [],
     "prompt_number": 138
    },
    {
     "cell_type": "code",
     "collapsed": false,
     "input": [
      "pruner = DictionaryPruner()\n",
      "coder = NGramCoder(2).fit([\"N\", \"V\"])\n",
      "pruner.initialize([[\"hi\", \"you\"]], [[\"N\", \"V\"]], coder)\n",
      "pruner.table([\"hi\", \"you\", \"hi\"])"
     ],
     "language": "python",
     "outputs": [
      {
       "output_type": "pyout",
       "prompt_number": 143,
       "text": [
        "[[0], [0], [1], [0]]"
       ]
      }
     ],
     "prompt_number": 143
    },
    {
     "cell_type": "code",
     "collapsed": false,
     "input": [
      "class PrunedBigramTagger(BetterBigramTagger):\n",
      "    def chart(self, x):\n",
      "        table = self._pruner.table(x)\n",
      "        return pruned_bigram_tagger(len(x), table)"
     ],
     "language": "python",
     "outputs": [],
     "prompt_number": 163
    },
    {
     "cell_type": "code",
     "collapsed": false,
     "input": [
      "def pruned_bigram_tagger(n, tag_sets):\n",
      "    max_size = max([max(tag_set) for tag_set in tag_sets])\n",
      "    c = ph.ChartBuilder(item_set=ph.IndexSet((n+2, max_size + 1)), \n",
      "                        output_set=output_set(n, max_size + 1))\n",
      "    for tag in tag_sets[0]:\n",
      "        c[0, tag] = c.init()\n",
      "\n",
      "    for i in range(1, n+1):\n",
      "        for tag in tag_sets[i]:\n",
      "            c[i, tag] = \\\n",
      "                [c.merge((i-1, prev), values=[(i-1, tag, prev)])\n",
      "                 for prev in tag_sets[i-1]]\n",
      "\n",
      "    c[n+1, 0] = [c.merge((n, prev), values=[]) \n",
      "                 for prev in tag_sets[n]]\n",
      "    return c"
     ],
     "language": "python",
     "outputs": [],
     "prompt_number": 164
    },
    {
     "cell_type": "code",
     "collapsed": false,
     "input": [
      "tagger = PrunedBigramTagger(list(tags), pruner = DictionaryPruner(1000))\n",
      "sp = StructuredPerceptron(tagger, verbose=1, max_iter=3)\n",
      "with warnings.catch_warnings():\n",
      "    warnings.simplefilter(\"ignore\")\n",
      "    sp.fit(X[:50], Y[:50])"
     ],
     "language": "python",
     "outputs": [
      {
       "output_type": "stream",
       "stream": "stdout",
       "text": [
        "['ADV', 'NOUN', 'ADP', 'PRT', 'DET', '.', 'PRON', 'VERB', 'X', 'NUM', 'CONJ', 'ADJ']\n",
        "iteration 0"
       ]
      },
      {
       "output_type": "stream",
       "stream": "stdout",
       "text": [
        "\n",
        "CHART time 0.000558853149414 20\n",
        "INIT time  0.00361800193787\n",
        "ENCODE time  0.00258898735046\n",
        "SPARSE time  0.000684976577759\n",
        "FEATURE MATRIX time 0.0105919837952\n",
        "OUTPUT time 0.0024688243866\n",
        "CHART time 0.00148105621338 48\n",
        "INIT time  0.00368905067444\n",
        "ENCODE time  0.00309205055237\n",
        "SPARSE time  0.000499963760376\n",
        "FEATURE MATRIX time 0.0108549594879\n",
        "OUTPUT time 0.00266695022583\n",
        "CHART time"
       ]
      },
      {
       "output_type": "stream",
       "stream": "stdout",
       "text": [
        " 0.00215792655945 60\n",
        "INIT time  0.00361609458923\n",
        "ENCODE time  0.00432300567627\n",
        "SPARSE time  0.000801086425781\n",
        "FEATURE MATRIX time 0.0124309062958\n",
        "OUTPUT time 0.00273489952087\n",
        "CHART time 0.00124406814575 36\n",
        "INIT time  0.00398302078247\n",
        "ENCODE time  0.00253319740295\n",
        "SPARSE time  0.000751972198486\n",
        "FEATURE MATRIX time 0.010421037674\n",
        "OUTPUT time"
       ]
      },
      {
       "output_type": "stream",
       "stream": "stdout",
       "text": [
        " 0.00322508811951\n",
        "CHART time 0.00190091133118 52\n",
        "INIT time  0.00467896461487\n",
        "ENCODE time  0.00315999984741\n",
        "SPARSE time  0.000787019729614\n",
        "FEATURE MATRIX time 0.0127420425415\n",
        "OUTPUT time 0.00275802612305\n",
        "CHART time"
       ]
      },
      {
       "output_type": "stream",
       "stream": "stdout",
       "text": [
        " 0.00300002098083 40\n",
        "INIT time  0.00444293022156\n",
        "ENCODE time  0.00354385375977\n",
        "SPARSE time  0.000773906707764\n",
        "FEATURE MATRIX time 0.0126969814301\n",
        "OUTPUT time 0.00253009796143\n",
        "CHART time 0.00158500671387 40\n",
        "INIT time  0.00460696220398\n",
        "ENCODE time  0.00371193885803\n",
        "SPARSE time  0.000813961029053\n",
        "FEATURE MATRIX time 0.0133140087128\n",
        "OUTPUT time"
       ]
      },
      {
       "output_type": "stream",
       "stream": "stdout",
       "text": [
        " 0.00425696372986\n",
        "CHART time 0.00170183181763 44\n",
        "INIT time  0.00453114509583\n",
        "ENCODE time  0.00385093688965\n",
        "SPARSE time  0.000893115997314\n",
        "FEATURE MATRIX time 0.0134780406952\n",
        "OUTPUT time 0.00271105766296\n",
        "CHART time"
       ]
      },
      {
       "output_type": "stream",
       "stream": "stdout",
       "text": [
        " 0.00269603729248 28\n",
        "INIT time  0.00457692146301\n",
        "ENCODE time  0.0032320022583\n",
        "SPARSE time  0.000734090805054\n",
        "FEATURE MATRIX time 0.0127818584442\n",
        "OUTPUT time 0.00263094902039\n",
        "CHART time 0.00179314613342 48\n",
        "INIT time  0.00453400611877\n",
        "ENCODE time  0.00389790534973\n",
        "SPARSE time  0.000806093215942\n",
        "FEATURE MATRIX time 0.0133249759674\n"
       ]
      },
      {
       "output_type": "stream",
       "stream": "stdout",
       "text": [
        "OUTPUT time 0.00278997421265\n",
        "CHART time 0.00148487091064 36\n",
        "INIT time  0.00520205497742\n",
        "ENCODE time  0.00344586372375\n",
        "SPARSE time  0.00076699256897\n",
        "FEATURE MATRIX time 0.0133390426636\n",
        "OUTPUT time 0.00251579284668\n",
        "CHART time"
       ]
      },
      {
       "output_type": "stream",
       "stream": "stdout",
       "text": [
        " 0.00302219390869 32\n",
        "INIT time  0.00456094741821\n",
        "ENCODE time  0.00327110290527\n",
        "SPARSE time  0.000734090805054\n",
        "FEATURE MATRIX time 0.0126709938049\n",
        "OUTPUT time 0.00259304046631\n",
        "CHART time 0.00219893455505 60\n",
        "INIT time  0.00475692749023\n",
        "ENCODE time  0.00478601455688\n",
        "SPARSE time  0.000706911087036\n",
        "FEATURE MATRIX time"
       ]
      },
      {
       "output_type": "stream",
       "stream": "stdout",
       "text": [
        " 0.0156619548798\n",
        "OUTPUT time 0.00237703323364\n",
        "CHART time 0.00126695632935 44\n",
        "INIT time  0.00347900390625\n",
        "ENCODE time  0.00290489196777\n",
        "SPARSE time  0.000678777694702\n",
        "FEATURE MATRIX time 0.0103859901428\n",
        "OUTPUT time 0.00206899642944\n",
        "CHART time 0.00144100189209 60\n",
        "INIT time "
       ]
      },
      {
       "output_type": "stream",
       "stream": "stdout",
       "text": [
        " 0.00451278686523\n",
        "ENCODE time  0.0052318572998\n",
        "SPARSE time  0.000746011734009\n",
        "FEATURE MATRIX time 0.013927936554\n",
        "OUTPUT time 0.0021071434021\n",
        "CHART time 0.00146913528442 52\n",
        "INIT time  0.00365805625916\n",
        "ENCODE time  0.00315690040588\n",
        "SPARSE time  0.000619888305664\n",
        "FEATURE MATRIX time 0.0106089115143\n",
        "OUTPUT time 0.00230884552002\n",
        "CHART time"
       ]
      },
      {
       "output_type": "stream",
       "stream": "stdout",
       "text": [
        " 0.00303888320923 60\n",
        "INIT time  0.00363898277283\n",
        "ENCODE time  0.00338697433472\n",
        "SPARSE time  0.000764131546021\n",
        "FEATURE MATRIX time 0.0109639167786\n",
        "OUTPUT time 0.00221800804138\n",
        "CHART time 0.00111794471741 36\n",
        "INIT time  0.00350785255432\n",
        "ENCODE time  0.00261211395264\n",
        "SPARSE time  0.000527143478394\n",
        "FEATURE MATRIX time 0.00955986976624\n",
        "OUTPUT time 0.00187993049622\n",
        "CHART time"
       ]
      },
      {
       "output_type": "stream",
       "stream": "stdout",
       "text": [
        " 0.00466513633728 52\n",
        "INIT time  0.00360798835754\n",
        "ENCODE time  0.00321507453918\n",
        "SPARSE time  0.000512838363647\n",
        "FEATURE MATRIX time 0.0106599330902\n",
        "OUTPUT time 0.00205492973328\n",
        "CHART time 0.00152492523193 56\n",
        "INIT time  0.00389409065247\n",
        "ENCODE time  0.00298094749451\n",
        "SPARSE time  0.000653982162476\n",
        "FEATURE MATRIX time 0.0107378959656\n",
        "OUTPUT time 0.00201296806335\n",
        "CHART time"
       ]
      },
      {
       "output_type": "stream",
       "stream": "stdout",
       "text": [
        " 0.00174593925476 24\n",
        "INIT time  0.00347709655762\n",
        "ENCODE time  0.00233292579651\n",
        "SPARSE time  0.000609159469604\n",
        "FEATURE MATRIX time 0.00953793525696\n",
        "OUTPUT time 0.00197505950928\n",
        "CHART time 0.000708103179932 20\n",
        "INIT time  0.00345396995544\n",
        "ENCODE time  0.00207185745239\n",
        "SPARSE time  0.000401020050049\n",
        "FEATURE MATRIX time 0.00908708572388\n",
        "OUTPUT time 0.00220704078674\n",
        "CHART time"
       ]
      },
      {
       "output_type": "stream",
       "stream": "stdout",
       "text": [
        " 0.00508594512939 60\n",
        "INIT time  0.00425410270691\n",
        "ENCODE time  0.003249168396\n",
        "SPARSE time  0.000678062438965\n",
        "FEATURE MATRIX time 0.0115180015564\n",
        "OUTPUT time 0.00226211547852\n",
        "CHART time 0.0015230178833 48\n",
        "INIT time  0.00282502174377\n",
        "ENCODE time  0.00220894813538\n",
        "SPARSE time  0.000447034835815\n",
        "FEATURE MATRIX time 0.00795006752014\n",
        "OUTPUT time 0.00155901908875\n",
        "CHART time"
       ]
      },
      {
       "output_type": "stream",
       "stream": "stdout",
       "text": [
        " 0.00492000579834 20\n",
        "INIT time  0.00407886505127\n",
        "ENCODE time  0.00263595581055\n",
        "SPARSE time  0.000625133514404\n",
        "FEATURE MATRIX time 0.0113389492035\n",
        "OUTPUT time 0.00244998931885\n",
        "CHART time 0.000564098358154 16\n",
        "INIT time  0.00260305404663\n",
        "ENCODE time  0.00149321556091\n",
        "SPARSE time  0.000365018844604\n",
        "FEATURE MATRIX time 0.00697898864746\n",
        "OUTPUT time 0.0018298625946\n",
        "CHART time"
       ]
      },
      {
       "output_type": "stream",
       "stream": "stdout",
       "text": [
        " 0.00484800338745 56\n",
        "INIT time  0.0043580532074\n",
        "ENCODE time  0.00417494773865\n",
        "SPARSE time  0.000849008560181\n",
        "FEATURE MATRIX time 0.0134909152985\n",
        "OUTPUT time 0.00269508361816\n",
        "CHART time 0.000601053237915 20\n",
        "INIT time  0.00258898735046\n",
        "ENCODE time  0.00183796882629\n",
        "SPARSE time  0.000563859939575\n",
        "FEATURE MATRIX time 0.00765609741211\n",
        "OUTPUT time 0.00173902511597\n",
        "CHART time"
       ]
      },
      {
       "output_type": "stream",
       "stream": "stdout",
       "text": [
        " 0.00445604324341 40\n",
        "INIT time  0.00421690940857\n",
        "ENCODE time  0.00348401069641\n",
        "SPARSE time  0.000738859176636\n",
        "FEATURE MATRIX time 0.0124800205231\n",
        "OUTPUT time 0.00260305404663\n",
        "CHART time 0.000513076782227 16\n",
        "INIT time  0.00251197814941\n",
        "ENCODE time  0.00158095359802\n",
        "SPARSE time  0.000533103942871\n",
        "FEATURE MATRIX time 0.0068531036377\n",
        "OUTPUT time 0.00140595436096\n",
        "CHART time"
       ]
      },
      {
       "output_type": "stream",
       "stream": "stdout",
       "text": [
        " 0.00170207023621 28\n",
        "INIT time  0.00420904159546\n",
        "ENCODE time  0.00292801856995\n",
        "SPARSE time  0.000682830810547\n",
        "FEATURE MATRIX time 0.0117950439453\n",
        "OUTPUT time 0.00248098373413\n",
        "CHART time 0.000764131546021 28\n",
        "INIT time  0.00259685516357\n",
        "ENCODE time  0.00190114974976\n",
        "SPARSE time  0.000396966934204\n",
        "FEATURE MATRIX time 0.00752401351929\n",
        "OUTPUT time 0.00146293640137\n",
        "CHART time"
       ]
      },
      {
       "output_type": "stream",
       "stream": "stdout",
       "text": [
        " 0.00157904624939 24\n",
        "INIT time  0.00416398048401\n",
        "ENCODE time  0.00275897979736\n",
        "SPARSE time  0.000653028488159\n",
        "FEATURE MATRIX time 0.011442899704\n",
        "OUTPUT time 0.00246095657349\n",
        "CHART time 0.000611066818237 20\n",
        "INIT time  0.00352096557617\n",
        "ENCODE time  0.00196385383606\n",
        "SPARSE time  0.000524044036865\n",
        "FEATURE MATRIX time 0.00930786132812\n",
        "OUTPUT time 0.0017511844635\n",
        "CHART time"
       ]
      },
      {
       "output_type": "stream",
       "stream": "stdout",
       "text": [
        " 0.00246715545654 44\n",
        "INIT time  0.00654292106628\n",
        "ENCODE time  0.00400900840759\n",
        "SPARSE time  0.000799894332886\n",
        "FEATURE MATRIX time 0.0153589248657\n",
        "OUTPUT time 0.00243902206421\n",
        "CHART time 0.00105714797974 24\n",
        "INIT time  0.00424385070801\n",
        "ENCODE time  0.00199604034424\n",
        "SPARSE time  0.00039005279541\n",
        "FEATURE MATRIX time 0.00913095474243\n"
       ]
      },
      {
       "output_type": "stream",
       "stream": "stdout",
       "text": [
        "OUTPUT time 0.00241184234619\n",
        "CHART time 0.0010039806366 28\n",
        "INIT time  0.00370192527771\n",
        "ENCODE time  0.00265908241272\n",
        "SPARSE time  0.000597953796387\n",
        "FEATURE MATRIX time 0.0104179382324\n",
        "OUTPUT time 0.00219011306763\n",
        "CHART time 0.00173997879028 56\n",
        "INIT time "
       ]
      },
      {
       "output_type": "stream",
       "stream": "stdout",
       "text": [
        " 0.00760197639465\n",
        "ENCODE time  0.00382304191589\n",
        "SPARSE time  0.000722885131836\n",
        "FEATURE MATRIX time 0.0156900882721\n",
        "OUTPUT time 0.00234198570251\n",
        "CHART time 0.000933885574341 24\n",
        "INIT time  0.00381588935852\n",
        "ENCODE time  0.00259494781494\n",
        "SPARSE time  0.000587940216064\n",
        "FEATURE MATRIX time 0.0103838443756\n",
        "OUTPUT time 0.00215291976929\n",
        "CHART time"
       ]
      },
      {
       "output_type": "stream",
       "stream": "stdout",
       "text": [
        " 0.00567102432251 60\n",
        "INIT time  0.00433588027954\n",
        "ENCODE time  0.00421810150146\n",
        "SPARSE time  0.000794887542725\n",
        "FEATURE MATRIX time 0.0131149291992\n",
        "OUTPUT time 0.0023980140686\n",
        "CHART time 0.00163078308105 40\n",
        "INIT time  0.00440096855164\n",
        "ENCODE time  0.00364995002747\n",
        "SPARSE time  0.000778913497925\n",
        "FEATURE MATRIX time 0.0128929615021\n",
        "OUTPUT time"
       ]
      },
      {
       "output_type": "stream",
       "stream": "stdout",
       "text": [
        " 0.00745701789856\n",
        "CHART time 0.00174999237061 44\n",
        "INIT time  0.0045280456543\n",
        "ENCODE time  0.0037829875946\n",
        "SPARSE time  0.000781059265137\n",
        "FEATURE MATRIX time 0.0132250785828\n",
        "OUTPUT time 0.00258588790894\n",
        "CHART time"
       ]
      },
      {
       "output_type": "stream",
       "stream": "stdout",
       "text": [
        " 0.00583600997925 48\n",
        "INIT time  0.00467586517334\n",
        "ENCODE time  0.00396394729614\n",
        "SPARSE time  0.000808000564575\n",
        "FEATURE MATRIX time 0.0133821964264\n",
        "OUTPUT time 0.00269913673401\n",
        "CHART time 0.00205588340759 60\n",
        "INIT time  0.00361514091492\n",
        "ENCODE time  0.00324702262878\n",
        "SPARSE time  0.000801086425781\n",
        "FEATURE MATRIX time 0.0112798213959\n",
        "OUTPUT time"
       ]
      },
      {
       "output_type": "stream",
       "stream": "stdout",
       "text": [
        " 0.00768899917603\n",
        "CHART time 0.00107192993164 24\n",
        "INIT time  0.00429892539978\n",
        "ENCODE time  0.00390791893005\n",
        "SPARSE time  0.000689029693604\n",
        "FEATURE MATRIX time 0.0121529102325\n",
        "OUTPUT time 0.00147008895874\n",
        "CHART time 0.000617980957031 24\n",
        "INIT time  0.00248098373413\n",
        "ENCODE time  0.00159502029419\n",
        "SPARSE time  0.000380992889404\n",
        "FEATURE MATRIX time"
       ]
      },
      {
       "output_type": "stream",
       "stream": "stdout",
       "text": [
        " 0.00763320922852\n",
        "OUTPUT time 0.0023250579834\n",
        "CHART time 0.00148701667786 36\n",
        "INIT time  0.00435781478882\n",
        "ENCODE time  0.00334286689758\n",
        "SPARSE time  0.000531196594238\n",
        "FEATURE MATRIX time 0.0109198093414\n",
        "OUTPUT time 0.00150513648987\n",
        "CHART time 0.00101494789124 48\n",
        "INIT time  0.00276899337769\n",
        "ENCODE time "
       ]
      },
      {
       "output_type": "stream",
       "stream": "stdout",
       "text": [
        " 0.00314378738403\n",
        "SPARSE time  0.00078296661377\n",
        "FEATURE MATRIX time 0.0104401111603\n",
        "OUTPUT time 0.00248384475708\n",
        "CHART time 0.00212407112122 60\n",
        "INIT time  0.00425601005554\n",
        "ENCODE time  0.00255703926086\n",
        "SPARSE time  0.000479221343994\n",
        "FEATURE MATRIX time 0.00984311103821\n",
        "OUTPUT time 0.00156283378601\n",
        "CHART time"
       ]
      },
      {
       "output_type": "stream",
       "stream": "stdout",
       "text": [
        " 0.00171494483948 32\n",
        "INIT time  0.00339508056641\n",
        "ENCODE time  0.00307393074036\n",
        "SPARSE time  0.00066089630127\n",
        "FEATURE MATRIX time 0.0106770992279\n",
        "OUTPUT time 0.00258302688599\n",
        "avg loss: 0.082842 w: [-4. -3.  0. ...,  0.  0.  0.]\n",
        "effective learning rate: 1.000000\n",
        "iteration 1\n",
        "CHART time 0.000566005706787 20\n",
        "INIT time  0.00264883041382\n",
        "ENCODE time  0.00155782699585\n",
        "SPARSE time  0.000378131866455\n",
        "FEATURE MATRIX time 0.00681900978088\n",
        "OUTPUT time 0.00141716003418\n",
        "CHART time"
       ]
      },
      {
       "output_type": "stream",
       "stream": "stdout",
       "text": [
        " 0.00197887420654 48\n",
        "INIT time  0.00433993339539\n",
        "ENCODE time  0.00376987457275\n",
        "SPARSE time  0.000764846801758\n",
        "FEATURE MATRIX time 0.0128681659698\n",
        "OUTPUT time 0.00266599655151\n",
        "CHART time 0.00121212005615 60\n",
        "INIT time  0.00284385681152\n",
        "ENCODE time  0.00248908996582\n",
        "SPARSE time  0.000473022460938\n",
        "FEATURE MATRIX time 0.00812292098999\n",
        "OUTPUT time 0.00154185295105\n",
        "CHART time"
       ]
      },
      {
       "output_type": "stream",
       "stream": "stdout",
       "text": [
        " 0.00182485580444 36\n",
        "INIT time  0.00407099723816\n",
        "ENCODE time  0.00275993347168\n",
        "SPARSE time  0.00046706199646\n",
        "FEATURE MATRIX time 0.0102910995483\n",
        "OUTPUT time 0.00193905830383\n",
        "CHART time 0.0014750957489 52\n",
        "INIT time  0.00351595878601\n",
        "ENCODE time  0.00339508056641\n",
        "SPARSE time  0.000661134719849\n",
        "FEATURE MATRIX time 0.0106310844421\n",
        "OUTPUT time 0.00215005874634\n",
        "CHART time"
       ]
      },
      {
       "output_type": "stream",
       "stream": "stdout",
       "text": [
        " 0.00244307518005 40\n",
        "INIT time  0.00323700904846\n",
        "ENCODE time  0.00212097167969\n",
        "SPARSE time  0.000427007675171\n",
        "FEATURE MATRIX time 0.00824093818665\n",
        "OUTPUT time 0.00192403793335\n",
        "CHART time 0.00130105018616 40\n",
        "INIT time  0.00359702110291\n",
        "ENCODE time  0.00270700454712\n",
        "SPARSE time  0.000622987747192\n",
        "FEATURE MATRIX time 0.0101959705353\n",
        "OUTPUT time 0.00203609466553\n",
        "CHART time"
       ]
      },
      {
       "output_type": "stream",
       "stream": "stdout",
       "text": [
        " 0.00245213508606 44\n",
        "INIT time  0.00328493118286\n",
        "ENCODE time  0.00213193893433\n",
        "SPARSE time  0.000438928604126\n",
        "FEATURE MATRIX time 0.0083110332489\n",
        "OUTPUT time 0.00150990486145\n",
        "CHART time 0.000948190689087 28\n",
        "INIT time  0.00337409973145\n",
        "ENCODE time  0.00237107276917\n",
        "SPARSE time  0.000623941421509\n",
        "FEATURE MATRIX time 0.00941705703735\n",
        "OUTPUT time 0.00198411941528\n",
        "CHART time"
       ]
      },
      {
       "output_type": "stream",
       "stream": "stdout",
       "text": [
        " 0.00270891189575 48\n",
        "INIT time  0.00406718254089\n",
        "ENCODE time  0.00281310081482\n",
        "SPARSE time  0.00071382522583\n",
        "FEATURE MATRIX time 0.0108230113983\n",
        "OUTPUT time 0.00205588340759\n",
        "CHART time 0.00118684768677 36\n",
        "INIT time  0.00367498397827\n",
        "ENCODE time  0.00251197814941\n",
        "SPARSE time  0.000611066818237\n",
        "FEATURE MATRIX time 0.00996494293213\n",
        "OUTPUT time 0.0015389919281\n",
        "CHART time"
       ]
      },
      {
       "output_type": "stream",
       "stream": "stdout",
       "text": [
        " 0.00171279907227 32\n",
        "INIT time  0.0043318271637\n",
        "ENCODE time  0.00308299064636\n",
        "SPARSE time  0.000735998153687\n",
        "FEATURE MATRIX time 0.0119309425354\n",
        "OUTPUT time 0.00251197814941\n",
        "CHART time 0.00125312805176 60\n",
        "INIT time  0.00278496742249\n",
        "ENCODE time  0.00250792503357\n",
        "SPARSE time  0.00046706199646\n",
        "FEATURE MATRIX time 0.00805306434631\n",
        "OUTPUT time 0.00153803825378\n",
        "CHART time"
       ]
      },
      {
       "output_type": "stream",
       "stream": "stdout",
       "text": [
        " 0.00192189216614 44\n",
        "INIT time  0.00432109832764\n",
        "ENCODE time  0.00366401672363\n",
        "SPARSE time  0.000744104385376\n",
        "FEATURE MATRIX time 0.0125510692596\n",
        "OUTPUT time 0.00261211395264\n",
        "CHART time 0.00206804275513 60\n",
        "INIT time  0.00471591949463\n",
        "ENCODE time  0.00457191467285\n",
        "SPARSE time  0.000854015350342\n",
        "FEATURE MATRIX time"
       ]
      },
      {
       "output_type": "stream",
       "stream": "stdout",
       "text": [
        " 0.0159928798676\n",
        "OUTPUT time 0.00284290313721\n",
        "CHART time 0.00186014175415 52\n",
        "INIT time  0.00466299057007\n",
        "ENCODE time  0.00403904914856\n",
        "SPARSE time  0.000874996185303\n",
        "FEATURE MATRIX time 0.0136690139771\n",
        "OUTPUT time 0.00202798843384\n",
        "CHART time"
       ]
      },
      {
       "output_type": "stream",
       "stream": "stdout",
       "text": [
        " 0.00223088264465 60\n",
        "INIT time  0.0045371055603\n",
        "ENCODE time  0.00440788269043\n",
        "SPARSE time  0.000839948654175\n",
        "FEATURE MATRIX time 0.0139129161835\n",
        "OUTPUT time 0.00272393226624\n",
        "CHART time 0.0011100769043 36\n",
        "INIT time  0.00351309776306\n",
        "ENCODE time  0.00271511077881\n",
        "SPARSE time  0.000517845153809\n",
        "FEATURE MATRIX time 0.00986099243164\n",
        "OUTPUT time"
       ]
      },
      {
       "output_type": "stream",
       "stream": "stdout",
       "text": [
        " 0.00310492515564\n",
        "CHART time 0.00188207626343 52\n",
        "INIT time  0.00459504127502\n",
        "ENCODE time  0.00413393974304\n",
        "SPARSE time  0.000818014144897\n",
        "FEATURE MATRIX time 0.0136518478394\n",
        "OUTPUT time 0.00168490409851\n",
        "CHART time"
       ]
      },
      {
       "output_type": "stream",
       "stream": "stdout",
       "text": [
        " 0.00278902053833 56\n",
        "INIT time  0.00449395179749\n",
        "ENCODE time  0.00415897369385\n",
        "SPARSE time  0.000887155532837\n",
        "FEATURE MATRIX time 0.0136079788208\n",
        "OUTPUT time 0.00270915031433\n",
        "CHART time 0.000648021697998 24\n",
        "INIT time  0.00266790390015\n",
        "ENCODE time  0.00220203399658\n",
        "SPARSE time  0.000710964202881\n",
        "FEATURE MATRIX time 0.00916218757629\n",
        "OUTPUT time 0.00200295448303\n",
        "CHART time"
       ]
      },
      {
       "output_type": "stream",
       "stream": "stdout",
       "text": [
        " 0.00228881835938 20\n",
        "INIT time  0.00434494018555\n",
        "ENCODE time  0.00313901901245\n",
        "SPARSE time  0.000698089599609\n",
        "FEATURE MATRIX time 0.0121431350708\n",
        "OUTPUT time 0.00240683555603\n",
        "CHART time 0.00204491615295 60\n",
        "INIT time  0.00471186637878\n",
        "ENCODE time  0.00468397140503\n",
        "SPARSE time  0.000853061676025\n",
        "FEATURE MATRIX time 0.0145769119263\n",
        "OUTPUT time"
       ]
      },
      {
       "output_type": "stream",
       "stream": "stdout",
       "text": [
        " 0.00453615188599\n",
        "CHART time 0.00178408622742 48\n",
        "INIT time  0.00471091270447\n",
        "ENCODE time  0.00443601608276\n",
        "SPARSE time  0.000787973403931\n",
        "FEATURE MATRIX time 0.0142188072205\n",
        "OUTPUT time 0.00269889831543\n",
        "CHART time"
       ]
      },
      {
       "output_type": "stream",
       "stream": "stdout",
       "text": [
        " 0.00160598754883 20\n",
        "INIT time  0.0040500164032\n",
        "ENCODE time  0.00213599205017\n",
        "SPARSE time  0.000393867492676\n",
        "FEATURE MATRIX time 0.00967788696289\n",
        "OUTPUT time 0.00182199478149\n",
        "CHART time 0.000687122344971 16\n",
        "INIT time  0.00332593917847\n",
        "ENCODE time  0.00208401679993\n",
        "SPARSE time  0.000504970550537\n",
        "FEATURE MATRIX time 0.00931787490845\n",
        "OUTPUT time 0.00183796882629\n",
        "CHART time"
       ]
      },
      {
       "output_type": "stream",
       "stream": "stdout",
       "text": [
        " 0.00284886360168 56\n",
        "INIT time  0.00426602363586\n",
        "ENCODE time  0.00338196754456\n",
        "SPARSE time  0.000699043273926\n",
        "FEATURE MATRIX time 0.0116209983826\n",
        "OUTPUT time 0.00216603279114\n",
        "CHART time 0.000916004180908 20\n",
        "INIT time  0.00335502624512\n",
        "ENCODE time  0.00208616256714\n",
        "SPARSE time  0.000407934188843\n",
        "FEATURE MATRIX time 0.00903511047363\n",
        "OUTPUT time 0.00185418128967\n",
        "CHART time"
       ]
      },
      {
       "output_type": "stream",
       "stream": "stdout",
       "text": [
        " 0.00189208984375 40\n",
        "INIT time  0.00386500358582\n",
        "ENCODE time  0.0029411315918\n",
        "SPARSE time  0.000701904296875\n",
        "FEATURE MATRIX time 0.0107300281525\n",
        "OUTPUT time 0.00207805633545\n",
        "CHART time 0.00082802772522 16\n",
        "INIT time  0.00410604476929\n",
        "ENCODE time  0.00268602371216\n",
        "SPARSE time  0.000604152679443\n",
        "FEATURE MATRIX time 0.0105209350586\n",
        "OUTPUT time 0.00174307823181\n",
        "CHART time"
       ]
      },
      {
       "output_type": "stream",
       "stream": "stdout",
       "text": [
        " 0.00220108032227 28\n",
        "INIT time  0.0035228729248\n",
        "ENCODE time  0.00216889381409\n",
        "SPARSE time  0.000575065612793\n",
        "FEATURE MATRIX time 0.00950598716736\n",
        "OUTPUT time 0.00180697441101\n",
        "CHART time 0.000891208648682 28\n",
        "INIT time  0.00297403335571\n",
        "ENCODE time  0.00255608558655\n",
        "SPARSE time  0.000427007675171\n",
        "FEATURE MATRIX time 0.00875997543335\n",
        "OUTPUT time 0.00186586380005\n",
        "CHART time"
       ]
      },
      {
       "output_type": "stream",
       "stream": "stdout",
       "text": [
        " 0.00197601318359 24\n",
        "INIT time  0.00353503227234\n",
        "ENCODE time  0.00206112861633\n",
        "SPARSE time  0.000478982925415\n",
        "FEATURE MATRIX time 0.00890803337097\n",
        "OUTPUT time 0.00170397758484\n",
        "CHART time 0.000770092010498 20\n",
        "INIT time  0.00365090370178\n",
        "ENCODE time  0.00288510322571\n",
        "SPARSE time  0.000697135925293\n",
        "FEATURE MATRIX time 0.0114078521729\n",
        "OUTPUT time 0.00249886512756\n",
        "CHART time"
       ]
      },
      {
       "output_type": "stream",
       "stream": "stdout",
       "text": [
        " 0.0026798248291 44\n",
        "INIT time  0.00343990325928\n",
        "ENCODE time  0.00380992889404\n",
        "SPARSE time  0.00079083442688\n",
        "FEATURE MATRIX time 0.0123019218445\n",
        "OUTPUT time 0.00268912315369\n",
        "CHART time 0.000962972640991 24\n",
        "INIT time  0.00332093238831\n",
        "ENCODE time  0.00228595733643\n",
        "SPARSE time  0.000530004501343\n",
        "FEATURE MATRIX time 0.0085928440094\n",
        "OUTPUT time 0.00143098831177\n",
        "CHART time"
       ]
      },
      {
       "output_type": "stream",
       "stream": "stdout",
       "text": [
        " 0.00196099281311 28\n",
        "INIT time  0.00313806533813\n",
        "ENCODE time  0.00174903869629\n",
        "SPARSE time  0.000396966934204\n",
        "FEATURE MATRIX time 0.00838303565979\n",
        "OUTPUT time 0.00204014778137\n",
        "CHART time 0.00170397758484 56\n",
        "INIT time  0.00389409065247\n",
        "ENCODE time  0.00373196601868\n",
        "SPARSE time  0.000755071640015\n",
        "FEATURE MATRIX time 0.0115849971771\n",
        "OUTPUT time 0.00207901000977\n",
        "CHART time"
       ]
      },
      {
       "output_type": "stream",
       "stream": "stdout",
       "text": [
        " 0.00210094451904 24\n",
        "INIT time  0.00413393974304\n",
        "ENCODE time  0.00273108482361\n",
        "SPARSE time  0.000681161880493\n",
        "FEATURE MATRIX time 0.0112869739532\n",
        "OUTPUT time 0.00210618972778\n",
        "CHART time 0.00180697441101 60\n",
        "INIT time  0.00408315658569\n",
        "ENCODE time  0.00380301475525\n",
        "SPARSE time  0.000795841217041\n",
        "FEATURE MATRIX time 0.0121779441833\n",
        "OUTPUT time 0.00230717658997\n",
        "CHART time"
       ]
      },
      {
       "output_type": "stream",
       "stream": "stdout",
       "text": [
        " 0.00294089317322 40\n",
        "INIT time  0.00404214859009\n",
        "ENCODE time  0.00315713882446\n",
        "SPARSE time  0.000667810440063\n",
        "FEATURE MATRIX time 0.011440038681\n",
        "OUTPUT time 0.0022828578949\n",
        "CHART time 0.00147700309753 44\n",
        "INIT time  0.00397801399231\n",
        "ENCODE time  0.0033540725708\n",
        "SPARSE time  0.000643968582153\n",
        "FEATURE MATRIX time 0.0115339756012\n",
        "OUTPUT time 0.00237512588501\n",
        "CHART time"
       ]
      },
      {
       "output_type": "stream",
       "stream": "stdout",
       "text": [
        " 0.00329995155334 48\n",
        "INIT time  0.00430202484131\n",
        "ENCODE time  0.00364518165588\n",
        "SPARSE time  0.000715970993042\n",
        "FEATURE MATRIX time 0.0121698379517\n",
        "OUTPUT time 0.00250816345215\n",
        "CHART time 0.00212788581848 60\n",
        "INIT time  0.00322413444519\n",
        "ENCODE time  0.00297689437866\n",
        "SPARSE time  0.000583171844482\n",
        "FEATURE MATRIX time 0.00944900512695\n",
        "OUTPUT time 0.00224709510803\n",
        "CHART time"
       ]
      },
      {
       "output_type": "stream",
       "stream": "stdout",
       "text": [
        " 0.00201487541199 24\n",
        "INIT time  0.00391912460327\n",
        "ENCODE time  0.00236988067627\n",
        "SPARSE time  0.000572919845581\n",
        "FEATURE MATRIX time 0.0103569030762\n",
        "OUTPUT time 0.00205111503601\n",
        "CHART time 0.000720977783203 24\n",
        "INIT time  0.00341701507568\n",
        "ENCODE time  0.00260996818542\n",
        "SPARSE time  0.000653982162476\n",
        "FEATURE MATRIX time 0.00974988937378\n",
        "OUTPUT time 0.00201988220215\n",
        "CHART time"
       ]
      },
      {
       "output_type": "stream",
       "stream": "stdout",
       "text": [
        " 0.00231313705444 36\n",
        "INIT time  0.00353693962097\n",
        "ENCODE time  0.00261211395264\n",
        "SPARSE time  0.000647068023682\n",
        "FEATURE MATRIX time 0.0100719928741\n",
        "OUTPUT time 0.00227093696594\n",
        "CHART time 0.0017671585083 48\n",
        "INIT time  0.00394010543823\n",
        "ENCODE time  0.00301003456116\n",
        "SPARSE time  0.000614881515503\n",
        "FEATURE MATRIX time 0.0105969905853\n",
        "OUTPUT time 0.00198006629944\n",
        "CHART time"
       ]
      },
      {
       "output_type": "stream",
       "stream": "stdout",
       "text": [
        " 0.00287699699402 60\n",
        "INIT time  0.0045280456543\n",
        "ENCODE time  0.00431704521179\n",
        "SPARSE time  0.000807046890259\n",
        "FEATURE MATRIX time 0.0137071609497\n",
        "OUTPUT time 0.00272512435913\n",
        "CHART time 0.00129318237305 32\n",
        "INIT time  0.00455498695374\n",
        "ENCODE time  0.0032958984375\n",
        "SPARSE time  0.00074291229248\n",
        "FEATURE MATRIX time"
       ]
      },
      {
       "output_type": "stream",
       "stream": "stdout",
       "text": [
        " 0.0139729976654\n",
        "OUTPUT time 0.00262999534607\n",
        "avg loss: 0.075615 w: [-7. -7.  0. ...,  0.  0.  0.]\n",
        "effective learning rate: 1.000000\n",
        "iteration 2\n",
        "CHART time 0.000910043716431 20\n",
        "INIT time  0.0044322013855\n",
        "ENCODE time  0.00277400016785\n",
        "SPARSE time  0.000684976577759\n",
        "FEATURE MATRIX time 0.011950969696\n",
        "OUTPUT time 0.00250101089478\n",
        "CHART time"
       ]
      },
      {
       "output_type": "stream",
       "stream": "stdout",
       "text": [
        " 0.00566720962524 48\n",
        "INIT time  0.00409197807312\n",
        "ENCODE time  0.00381994247437\n",
        "SPARSE time  0.00078296661377\n",
        "FEATURE MATRIX time 0.0138349533081\n",
        "OUTPUT time 0.0026547908783\n",
        "CHART time 0.00164008140564 60\n",
        "INIT time  0.00375699996948\n",
        "ENCODE time  0.00349807739258\n",
        "SPARSE time  0.000908851623535\n",
        "FEATURE MATRIX time 0.0115780830383\n",
        "OUTPUT time"
       ]
      },
      {
       "output_type": "stream",
       "stream": "stdout",
       "text": [
        " 0.00563311576843\n",
        "CHART time 0.00159788131714 36\n",
        "INIT time  0.0046398639679\n",
        "ENCODE time  0.00355792045593\n",
        "SPARSE time  0.000751972198486\n",
        "FEATURE MATRIX time 0.0131189823151\n",
        "OUTPUT time 0.0025839805603\n",
        "CHART time"
       ]
      },
      {
       "output_type": "stream",
       "stream": "stdout",
       "text": [
        " 0.00585889816284 52\n",
        "INIT time  0.00461506843567\n",
        "ENCODE time  0.00416588783264\n",
        "SPARSE time  0.000827074050903\n",
        "FEATURE MATRIX time 0.0137991905212\n",
        "OUTPUT time 0.00265908241272\n",
        "CHART time 0.00167107582092 40\n",
        "INIT time  0.00451803207397\n",
        "ENCODE time  0.00372886657715\n",
        "SPARSE time  0.000763893127441\n",
        "FEATURE MATRIX time"
       ]
      },
      {
       "output_type": "stream",
       "stream": "stdout",
       "text": [
        " 0.0170931816101\n",
        "OUTPUT time 0.00265097618103\n",
        "CHART time 0.00159907341003 40\n",
        "INIT time  0.00533103942871\n",
        "ENCODE time  0.00386500358582\n",
        "SPARSE time  0.000765085220337\n",
        "FEATURE MATRIX time 0.0136451721191\n",
        "OUTPUT time 0.0021641254425\n",
        "CHART time"
       ]
      },
      {
       "output_type": "stream",
       "stream": "stdout",
       "text": [
        " 0.00250291824341 44\n",
        "INIT time  0.0038890838623\n",
        "ENCODE time  0.00299501419067\n",
        "SPARSE time  0.000566005706787\n",
        "FEATURE MATRIX time 0.0106649398804\n",
        "OUTPUT time 0.00245904922485\n",
        "CHART time 0.00113606452942 28\n",
        "INIT time  0.00285291671753\n",
        "ENCODE time  0.00184988975525\n",
        "SPARSE time  0.000399112701416\n",
        "FEATURE MATRIX time 0.00790095329285\n",
        "OUTPUT time 0.0014500617981\n",
        "CHART time"
       ]
      },
      {
       "output_type": "stream",
       "stream": "stdout",
       "text": [
        " 0.00205397605896 48\n",
        "INIT time  0.00354790687561\n",
        "ENCODE time  0.00224089622498\n",
        "SPARSE time  0.00044584274292\n",
        "FEATURE MATRIX time 0.00870299339294\n",
        "OUTPUT time 0.00211119651794\n",
        "CHART time 0.00110197067261 36\n",
        "INIT time  0.00358390808105\n",
        "ENCODE time  0.00269603729248\n",
        "SPARSE time  0.000720977783203\n",
        "FEATURE MATRIX time 0.0101389884949\n",
        "OUTPUT time 0.00187993049622\n",
        "CHART time"
       ]
      },
      {
       "output_type": "stream",
       "stream": "stdout",
       "text": [
        " 0.00171184539795 32\n",
        "INIT time  0.00428509712219\n",
        "ENCODE time  0.00310516357422\n",
        "SPARSE time  0.000675916671753\n",
        "FEATURE MATRIX time 0.0117948055267\n",
        "OUTPUT time 0.00249099731445\n",
        "CHART time 0.00213098526001 60\n",
        "INIT time  0.00475692749023\n",
        "ENCODE time  0.00436592102051\n",
        "SPARSE time  0.000519037246704\n",
        "FEATURE MATRIX time 0.0123920440674\n",
        "OUTPUT time"
       ]
      },
      {
       "output_type": "stream",
       "stream": "stdout",
       "text": [
        " 0.00259208679199\n",
        "CHART time 0.00170493125916 44\n",
        "INIT time  0.0045530796051\n",
        "ENCODE time  0.00379395484924\n",
        "SPARSE time  0.000916957855225\n",
        "FEATURE MATRIX time 0.0133419036865\n",
        "OUTPUT time 0.00279092788696\n",
        "CHART time"
       ]
      },
      {
       "output_type": "stream",
       "stream": "stdout",
       "text": [
        " 0.00229406356812 60\n",
        "INIT time  0.00424003601074\n",
        "ENCODE time  0.00610494613647\n",
        "SPARSE time  0.000836849212646\n",
        "FEATURE MATRIX time 0.0150780677795\n",
        "OUTPUT time 0.00278496742249\n",
        "CHART time 0.0012309551239 52\n",
        "INIT time  0.00322318077087\n",
        "ENCODE time  0.00400900840759\n",
        "SPARSE time  0.000761985778809\n",
        "FEATURE MATRIX time"
       ]
      },
      {
       "output_type": "stream",
       "stream": "stdout",
       "text": [
        " 0.0137429237366\n",
        "OUTPUT time 0.00254702568054\n",
        "CHART time 0.0021538734436 60\n",
        "INIT time  0.00484585762024\n",
        "ENCODE time  0.00518798828125\n",
        "SPARSE time  0.000634908676147\n",
        "FEATURE MATRIX time 0.0142409801483\n",
        "OUTPUT time"
       ]
      },
      {
       "output_type": "stream",
       "stream": "stdout",
       "text": [
        " 0.00339603424072\n",
        "CHART time 0.00107288360596 36\n",
        "INIT time  0.00358605384827\n",
        "ENCODE time  0.00270891189575\n",
        "SPARSE time  0.00053596496582\n",
        "FEATURE MATRIX time 0.0101470947266\n",
        "OUTPUT time 0.00214099884033\n",
        "CHART time 0.00141382217407 52\n",
        "INIT time "
       ]
      },
      {
       "output_type": "stream",
       "stream": "stdout",
       "text": [
        " 0.00474786758423\n",
        "ENCODE time  0.00338697433472\n",
        "SPARSE time  0.000607967376709\n",
        "FEATURE MATRIX time 0.0118160247803\n",
        "OUTPUT time 0.00201296806335\n",
        "CHART time 0.00160598754883 56\n",
        "INIT time  0.00361394882202\n",
        "ENCODE time  0.00337886810303\n",
        "SPARSE time  0.000738143920898\n",
        "FEATURE MATRIX time 0.0110840797424\n",
        "OUTPUT time 0.00208187103271\n",
        "CHART time"
       ]
      },
      {
       "output_type": "stream",
       "stream": "stdout",
       "text": [
        " 0.00160312652588 24\n",
        "INIT time  0.00346612930298\n",
        "ENCODE time  0.00296020507812\n",
        "SPARSE time  0.000669002532959\n",
        "FEATURE MATRIX time 0.0104198455811\n",
        "OUTPUT time 0.00204205513\n",
        "CHART time 0.000816822052002 20\n",
        "INIT time  0.0043420791626\n",
        "ENCODE time  0.00294899940491\n",
        "SPARSE time  0.000691890716553\n",
        "FEATURE MATRIX time 0.0119979381561\n",
        "OUTPUT time 0.00192093849182\n",
        "CHART time"
       ]
      },
      {
       "output_type": "stream",
       "stream": "stdout",
       "text": [
        " 0.00285696983337 60\n",
        "INIT time  0.00397801399231\n",
        "ENCODE time  0.00324892997742\n",
        "SPARSE time  0.000735998153687\n",
        "FEATURE MATRIX time 0.0109739303589\n",
        "OUTPUT time 0.00199890136719\n",
        "CHART time 0.00138688087463 48\n",
        "INIT time  0.00359177589417\n",
        "ENCODE time  0.00338983535767\n",
        "SPARSE time  0.000530004501343\n",
        "FEATURE MATRIX time 0.0105419158936\n",
        "OUTPUT time 0.00194001197815\n",
        "CHART time"
       ]
      },
      {
       "output_type": "stream",
       "stream": "stdout",
       "text": [
        " 0.00213289260864 20\n",
        "INIT time  0.003662109375\n",
        "ENCODE time  0.00224995613098\n",
        "SPARSE time  0.000391960144043\n",
        "FEATURE MATRIX time 0.00972199440002\n",
        "OUTPUT time 0.00213718414307\n",
        "CHART time 0.000704050064087 16\n",
        "INIT time  0.00327587127686\n",
        "ENCODE time  0.00189709663391\n",
        "SPARSE time  0.000555992126465\n",
        "FEATURE MATRIX time 0.00896501541138\n",
        "OUTPUT time 0.0020010471344\n",
        "CHART time"
       ]
      },
      {
       "output_type": "stream",
       "stream": "stdout",
       "text": [
        " 0.00264501571655 56\n",
        "INIT time  0.00423789024353\n",
        "ENCODE time  0.00326895713806\n",
        "SPARSE time  0.000753879547119\n",
        "FEATURE MATRIX time 0.0114238262177\n",
        "OUTPUT time 0.002121925354\n",
        "CHART time 0.000880002975464 20\n",
        "INIT time  0.00326609611511\n",
        "ENCODE time  0.00224018096924\n",
        "SPARSE time  0.000650882720947\n",
        "FEATURE MATRIX time 0.0104877948761\n",
        "OUTPUT time 0.00252103805542\n",
        "CHART time"
       ]
      },
      {
       "output_type": "stream",
       "stream": "stdout",
       "text": [
        " 0.00306010246277 40\n",
        "INIT time  0.0039529800415\n",
        "ENCODE time  0.0028088092804\n",
        "SPARSE time  0.000486135482788\n",
        "FEATURE MATRIX time 0.0106761455536\n",
        "OUTPUT time 0.00206995010376\n",
        "CHART time 0.000813007354736 16\n",
        "INIT time  0.00403809547424\n",
        "ENCODE time  0.00241112709045\n",
        "SPARSE time  0.000588893890381\n",
        "FEATURE MATRIX time 0.0107009410858\n",
        "OUTPUT time 0.00224685668945\n",
        "CHART time"
       ]
      },
      {
       "output_type": "stream",
       "stream": "stdout",
       "text": [
        " 0.00248193740845 28\n",
        "INIT time  0.0040078163147\n",
        "ENCODE time  0.00296711921692\n",
        "SPARSE time  0.000650882720947\n",
        "FEATURE MATRIX time 0.0113079547882\n",
        "OUTPUT time 0.00232601165771\n",
        "CHART time 0.00112390518188 28\n",
        "INIT time  0.0040500164032\n",
        "ENCODE time  0.00303316116333\n",
        "SPARSE time  0.000662088394165\n",
        "FEATURE MATRIX time 0.0114500522614\n",
        "OUTPUT time 0.00242495536804\n",
        "CHART time"
       ]
      },
      {
       "output_type": "stream",
       "stream": "stdout",
       "text": [
        " 0.00235795974731 24\n",
        "INIT time  0.00397992134094\n",
        "ENCODE time  0.00279998779297\n",
        "SPARSE time  0.000668048858643\n",
        "FEATURE MATRIX time 0.0111179351807\n",
        "OUTPUT time 0.00228404998779\n",
        "CHART time 0.000995874404907 20\n",
        "INIT time  0.00447297096252\n",
        "ENCODE time  0.0028760433197\n",
        "SPARSE time  0.000690937042236\n",
        "FEATURE MATRIX time 0.012423992157\n",
        "OUTPUT time"
       ]
      },
      {
       "output_type": "stream",
       "stream": "stdout",
       "text": [
        " 0.0044322013855\n",
        "CHART time 0.00170087814331 44\n",
        "INIT time  0.00486207008362\n",
        "ENCODE time  0.00393891334534\n",
        "SPARSE time  0.00078296661377\n",
        "FEATURE MATRIX time 0.0138828754425\n",
        "OUTPUT time 0.0027551651001\n",
        "CHART time"
       ]
      },
      {
       "output_type": "stream",
       "stream": "stdout",
       "text": [
        " 0.00499200820923 24\n",
        "INIT time  0.00391101837158\n",
        "ENCODE time  0.00265097618103\n",
        "SPARSE time  0.000695943832397\n",
        "FEATURE MATRIX time 0.0113160610199\n",
        "OUTPUT time 0.00259399414062\n",
        "CHART time 0.00115704536438 28\n",
        "INIT time  0.00499987602234\n",
        "ENCODE time  0.00320601463318\n",
        "SPARSE time  0.000718116760254\n",
        "FEATURE MATRIX time 0.0129961967468\n",
        "OUTPUT time"
       ]
      },
      {
       "output_type": "stream",
       "stream": "stdout",
       "text": [
        " 0.00304818153381\n",
        "CHART time 0.00201916694641 56\n",
        "INIT time  0.00485610961914\n",
        "ENCODE time  0.0043032169342\n",
        "SPARSE time  0.000829935073853\n",
        "FEATURE MATRIX time 0.0140600204468\n",
        "OUTPUT time 0.00173282623291\n",
        "CHART time 0.000633001327515 24\n",
        "INIT time "
       ]
      },
      {
       "output_type": "stream",
       "stream": "stdout",
       "text": [
        " 0.00494599342346\n",
        "ENCODE time  0.00271391868591\n",
        "SPARSE time  0.000596046447754\n",
        "FEATURE MATRIX time 0.0112879276276\n",
        "OUTPUT time 0.00208401679993\n",
        "CHART time 0.00155305862427 60\n",
        "INIT time  0.00372099876404\n",
        "ENCODE time  0.00344395637512\n",
        "SPARSE time  0.000627040863037\n",
        "FEATURE MATRIX time 0.0112059116364\n",
        "OUTPUT time 0.00211405754089\n",
        "CHART time"
       ]
      },
      {
       "output_type": "stream",
       "stream": "stdout",
       "text": [
        " 0.00243592262268 40\n",
        "INIT time  0.00384402275085\n",
        "ENCODE time  0.00299000740051\n",
        "SPARSE time  0.000653982162476\n",
        "FEATURE MATRIX time 0.0111269950867\n",
        "OUTPUT time 0.00202298164368\n",
        "CHART time 0.00136399269104 44\n",
        "INIT time  0.0035572052002\n",
        "ENCODE time  0.00299596786499\n",
        "SPARSE time  0.000453948974609\n",
        "FEATURE MATRIX time 0.0102479457855\n",
        "OUTPUT time 0.00207805633545\n",
        "CHART time"
       ]
      },
      {
       "output_type": "stream",
       "stream": "stdout",
       "text": [
        " 0.00453186035156 48\n",
        "INIT time  0.0040340423584\n",
        "ENCODE time  0.0029821395874\n",
        "SPARSE time  0.000718116760254\n",
        "FEATURE MATRIX time 0.0111329555511\n",
        "OUTPUT time 0.00227499008179\n",
        "CHART time 0.00198888778687 60\n",
        "INIT time  0.00383901596069\n",
        "ENCODE time  0.00463914871216\n",
        "SPARSE time  0.000822067260742\n",
        "FEATURE MATRIX time 0.0123400688171\n",
        "OUTPUT time 0.00254201889038\n",
        "CHART time"
       ]
      },
      {
       "output_type": "stream",
       "stream": "stdout",
       "text": [
        " 0.0030460357666 24\n",
        "INIT time  0.00464391708374\n",
        "ENCODE time  0.00267314910889\n",
        "SPARSE time  0.000866174697876\n",
        "FEATURE MATRIX time 0.0122120380402\n",
        "OUTPUT time 0.00235605239868\n",
        "CHART time 0.00122499465942 24\n",
        "INIT time  0.00432300567627\n",
        "ENCODE time  0.00266289710999\n",
        "SPARSE time  0.000878095626831\n",
        "FEATURE MATRIX time 0.0123820304871\n",
        "OUTPUT time"
       ]
      },
      {
       "output_type": "stream",
       "stream": "stdout",
       "text": [
        " 0.00433802604675\n",
        "CHART time 0.00192523002625 36\n",
        "INIT time  0.00339198112488\n",
        "ENCODE time  0.00286507606506\n",
        "SPARSE time  0.000590085983276\n",
        "FEATURE MATRIX time 0.010066986084\n",
        "OUTPUT time 0.0021870136261\n",
        "CHART time 0.0010039806366 48\n",
        "INIT time "
       ]
      },
      {
       "output_type": "stream",
       "stream": "stdout",
       "text": [
        " 0.00368404388428\n",
        "ENCODE time  0.00272297859192\n",
        "SPARSE time  0.000447988510132\n",
        "FEATURE MATRIX time 0.010143995285\n",
        "OUTPUT time 0.0020592212677\n",
        "CHART time 0.00205612182617 60\n",
        "INIT time  0.00511503219604\n",
        "ENCODE time  0.00451016426086\n",
        "SPARSE time  0.000619888305664\n",
        "FEATURE MATRIX time 0.0130310058594\n",
        "OUTPUT time 0.00212502479553\n",
        "CHART time"
       ]
      },
      {
       "output_type": "stream",
       "stream": "stdout",
       "text": [
        " 0.00241899490356 32\n",
        "INIT time  0.00429797172546\n",
        "ENCODE time  0.00381803512573\n",
        "SPARSE time  0.000685214996338\n",
        "FEATURE MATRIX time 0.0126419067383\n",
        "OUTPUT time 0.00251817703247\n",
        "avg loss: 0.075615 w: [-11. -10.   0. ...,   0.   0.   0.]\n",
        "effective learning rate: 1.000000\n"
       ]
      }
     ],
     "prompt_number": 182
    },
    {
     "cell_type": "code",
     "collapsed": false,
     "input": [
      "output = sp.predict(X[:100])\n",
      "output\n",
      "import sklearn.metrics\n",
      "sklearn.metrics.hamming_loss([o.tolist() for o in output][:100], Y[:100])"
     ],
     "language": "python",
     "outputs": [
      {
       "output_type": "pyout",
       "prompt_number": 308,
       "text": [
        "0.0275"
       ]
      }
     ]
    }
   ]
  }
 ]
}