{
 "metadata": {
  "name": "hypergraphs"
 },
 "nbformat": 3,
 "nbformat_minor": 0,
 "worksheets": [
  {
   "cells": [
    {
     "cell_type": "heading",
     "level": 1,
     "source": [
      "Simple Hypergraph Example"
     ]
    },
    {
     "cell_type": "code",
     "collapsed": false,
     "input": [
      "import pydecode.hyper as hyper\n",
      "import pydecode.display as display\n",
      "import networkx as nx \n",
      "import matplotlib.pyplot as plt \n",
      "from IPython.display import Image"
     ],
     "language": "python",
     "outputs": [],
     "prompt_number": 19
    },
    {
     "cell_type": "code",
     "collapsed": false,
     "input": [
      "hyp = hyper.Hypergraph()\n",
      "with hyp.builder() as b:\n",
      "     n1 = b.add_node(\"first\", terminal=True)\n",
      "     n2 = b.add_node(\"second\")\n",
      "     b.add_edge(n2, [n1], label = \"Edge\")"
     ],
     "language": "python",
     "outputs": [],
     "prompt_number": 7
    },
    {
     "cell_type": "markdown",
     "source": [
      "Draw the graph\n"
     ]
    },
    {
     "cell_type": "code",
     "collapsed": false,
     "input": [
      "G = display.to_networkx(hyp)\n",
      "d = nx.drawing.to_agraph(G)\n",
      "d.layout(\"dot\")\n",
      "d.draw(\"/tmp/tmp.png\")\n",
      "Image(filename =\"/tmp/tmp.png\")"
     ],
     "language": "python",
     "outputs": [
      {
       "output_type": "pyout",
       "png": "[encoded data removed]",
       "prompt_number": 23,
       "text": [
        "<IPython.core.display.Image at 0x4755750>"
       ]
      }
     ],
     "prompt_number": 23
    }
   ]
  }
 ]
}