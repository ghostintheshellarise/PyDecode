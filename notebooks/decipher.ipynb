{
 "metadata": {
  "name": ""
 },
 "nbformat": 3,
 "nbformat_minor": 0,
 "worksheets": [
  {
   "cells": [
    {
     "cell_type": "heading",
     "level": 1,
     "source": [
      "Decipherment Note"
     ]
    },
    {
     "cell_type": "markdown",
     "source": [
      "This is a note on running decipherment."
     ]
    },
    {
     "cell_type": "code",
     "collapsed": false,
     "input": [
      "from nltk.util import ngrams\n",
      "from nltk.model.ngram import NgramModel\n",
      "from nltk.probability import LidstoneProbDist\n",
      "t = \"hello this is the president calling hello this is a lot of english probably text that I am writing currently down now\"\n",
      "t = list(t)\n",
      "est = lambda fdist, bins: LidstoneProbDist(fdist, 0.0001)\n",
      "lm = NgramModel(2, t, estimator = est)\n",
      "lm.prob(\"e\", \"h\")\n",
      "lm.prob(\"p\", \"e\")"
     ],
     "language": "python",
     "outputs": [
      {
       "output_type": "pyout",
       "prompt_number": 1,
       "text": [
        "0.05434714678158703"
       ]
      }
     ],
     "prompt_number": 1
    },
    {
     "cell_type": "code",
     "collapsed": false,
     "input": [
      "import random, math"
     ],
     "language": "python",
     "outputs": [],
     "prompt_number": 2
    },
    {
     "cell_type": "code",
     "collapsed": false,
     "input": [
      "letters = set(t) #[chr(ord('a') + i) for i in range(26)]\n",
      "letters.remove(\" \")\n",
      "shuffled = list(letters)\n",
      "random.shuffle(shuffled)\n",
      "substitution_table = dict(zip(letters, shuffled))\n",
      "substitution_table[\" \"] = \" \""
     ],
     "language": "python",
     "outputs": [],
     "prompt_number": 3
    },
    {
     "cell_type": "code",
     "collapsed": false,
     "input": [
      "plaintext1 = \"abac\"\n",
      "ciphertext1 = \"\".join([substitution_table[l] for l in plaintext1])"
     ],
     "language": "python",
     "outputs": [],
     "prompt_number": 4
    },
    {
     "cell_type": "code",
     "collapsed": false,
     "input": [
      "plaintext2 = \"hello this is the president calling\"\n",
      "ciphertext2 = \"\".join([substitution_table[l] for l in plaintext2])"
     ],
     "language": "python",
     "outputs": [],
     "prompt_number": 5
    },
    {
     "cell_type": "code",
     "collapsed": false,
     "input": [
      "import pydecode.hyper as hyper\n",
      "import pydecode.display as display\n",
      "from collections import namedtuple        "
     ],
     "language": "python",
     "outputs": [],
     "prompt_number": 6
    },
    {
     "cell_type": "code",
     "collapsed": false,
     "input": [],
     "language": "python",
     "outputs": [],
     "prompt_number": 6
    },
    {
     "cell_type": "code",
     "collapsed": false,
     "input": [
      "class Conversion(namedtuple(\"Conversion\", [\"i\", \"cypherletter\", \"prevletter\", \"letter\"])):\n",
      "    __slots__ = ()\n",
      "    def __str__(self):\n",
      "        return \"%s %s %s\"%(self.cypherletter, self.prevletter, self.letter)"
     ],
     "language": "python",
     "outputs": [],
     "prompt_number": 7
    },
    {
     "cell_type": "code",
     "collapsed": false,
     "input": [
      "def build_cipher_graph(ciphertext):\n",
      "    hypergraph = hyper.Hypergraph()\n",
      "    with hypergraph.builder() as b:\n",
      "        prev_nodes = [(\" \", b.add_node([], label=\"start\"))]\n",
      "        for i, c in enumerate(ciphertext):\n",
      "            nodes = []\n",
      "            possibilities = letters\n",
      "            if c == \" \": possibilities = [\" \"]\n",
      "            for letter in possibilities:\n",
      "                edges = [([prev_node], Conversion(i, c, old_letter, letter))\n",
      "                         for (old_letter, prev_node) in prev_nodes]\n",
      "                \n",
      "                node = b.add_node(edges, label = \"%s %s %s\"%(i, c, letter))\n",
      "                nodes.append((letter, node))\n",
      "            prev_nodes = nodes\n",
      "        letter = \" \"\n",
      "        final_edges = [([prev_node], Conversion(i, c, old_letter, letter))\n",
      "                       for (old_letter, prev_node) in prev_nodes]\n",
      "        b.add_node(final_edges)\n",
      "    return hypergraph"
     ],
     "language": "python",
     "outputs": [],
     "prompt_number": 8
    },
    {
     "cell_type": "code",
     "collapsed": false,
     "input": [
      "hyper1 = build_cipher_graph(ciphertext1)"
     ],
     "language": "python",
     "outputs": [],
     "prompt_number": 9
    },
    {
     "cell_type": "code",
     "collapsed": false,
     "input": [
      "print ciphertext2\n",
      "hyper2 = build_cipher_graph(ciphertext2)"
     ],
     "language": "python",
     "outputs": [
      {
       "output_type": "stream",
       "stream": "stdout",
       "text": [
        "dhggn bdlo lo bdh Itholuhxb fygglxe\n"
       ]
      }
     ],
     "prompt_number": 10
    },
    {
     "cell_type": "code",
     "collapsed": false,
     "input": [
      "# display.to_ipython(hyper1)"
     ],
     "language": "python",
     "outputs": [],
     "prompt_number": 11
    },
    {
     "cell_type": "markdown",
     "source": [
      "Constraint is that the sum of edges with the conversion is equal to the 0.\n",
      "\n",
      "l^2 constraints"
     ]
    },
    {
     "cell_type": "code",
     "collapsed": false,
     "input": [
      "def build_constraints(hypergraph, ciphertext):\n",
      "    constraints = hyper.Constraints(hypergraph)\n",
      "    for l in letters:\n",
      "        positions = [i for i, c in enumerate(ciphertext) if c == l]\n",
      "        count = len(positions)\n",
      "        for l2 in letters:\n",
      "            def constraint(conv):\n",
      "                if l == conv.cypherletter and l2 == conv.letter:\n",
      "                    if positions[0] == conv.i:\n",
      "                        return count - 1\n",
      "                    else:\n",
      "                        return -1\n",
      "                return 0\n",
      "            constraints.add(\"letter_%s_from_letter_%s\"%(l, l2), constraint, 0)\n",
      "    return constraints\n",
      "constraints = build_constraints(hyper1, ciphertext1)"
     ],
     "language": "python",
     "outputs": [],
     "prompt_number": 12
    },
    {
     "cell_type": "code",
     "collapsed": false,
     "input": [
      "def build_weights(edge):\n",
      "    return random.random()\n",
      "weights = hyper.Weights(hyper1, build_weights)"
     ],
     "language": "python",
     "outputs": [],
     "prompt_number": 13
    },
    {
     "cell_type": "code",
     "collapsed": false,
     "input": [
      "def build_ngram_weights(edge):\n",
      "    return math.log(lm.prob(edge.letter, edge.prevletter))\n",
      "weights2 = hyper.Weights(hyper2, build_ngram_weights)\n",
      "constraints2 = build_constraints(hyper2, ciphertext2)"
     ],
     "language": "python",
     "outputs": [],
     "prompt_number": 14
    },
    {
     "cell_type": "code",
     "collapsed": false,
     "input": [
      "path, _ = hyper.best_path(hyper1, weights)\n",
      "# display.to_ipython(hyper1, paths = [path])"
     ],
     "language": "python",
     "outputs": [],
     "prompt_number": 15
    },
    {
     "cell_type": "code",
     "collapsed": false,
     "input": [
      "print weights.dot(path)\n",
      "constraints.check(path)"
     ],
     "language": "python",
     "outputs": [
      {
       "output_type": "stream",
       "stream": "stdout",
       "text": [
        "4.88314900867\n"
       ]
      },
      {
       "output_type": "pyout",
       "prompt_number": 16,
       "text": [
        "['letter_y_from_letter_i', 'letter_y_from_letter_p']"
       ]
      }
     ],
     "prompt_number": 16
    },
    {
     "cell_type": "code",
     "collapsed": false,
     "input": [
      "cpath, duals = hyper.best_constrained(hyper1, weights, constraints)"
     ],
     "language": "python",
     "outputs": [],
     "prompt_number": 17
    },
    {
     "cell_type": "code",
     "collapsed": false,
     "input": [
      "print len(duals)\n",
      "weights.dot(duals[-1].path)"
     ],
     "language": "python",
     "outputs": [
      {
       "output_type": "stream",
       "stream": "stdout",
       "text": [
        "29\n"
       ]
      },
      {
       "output_type": "pyout",
       "prompt_number": 18,
       "text": [
        "4.691439913717937"
       ]
      }
     ],
     "prompt_number": 18
    },
    {
     "cell_type": "code",
     "collapsed": false,
     "input": [
      "# display.to_ipython(hyper1)"
     ],
     "language": "python",
     "outputs": [],
     "prompt_number": 19
    },
    {
     "cell_type": "code",
     "collapsed": false,
     "input": [
      "import pandas as pd\n",
      "df = pd.DataFrame(data = {\"dual\": [d.dual for d in duals], \n",
      "                          \"ncons\": [len(d.constraints) for d in duals]}, index = range(len(duals)))\n",
      "df.plot()"
     ],
     "language": "python",
     "outputs": [
      {
       "output_type": "pyout",
       "prompt_number": 20,
       "text": [
        "<matplotlib.axes.AxesSubplot at 0x584ced0>"
       ]
      },
      {
       "output_type": "display_data",
       "png": "[encoded data removed]",
       "text": [
        "<matplotlib.figure.Figure at 0x584cad0>"
       ]
      }
     ],
     "prompt_number": 20
    },
    {
     "cell_type": "code",
     "collapsed": false,
     "input": [
      "for d in duals:\n",
      "    for cons in d.constraints:\n",
      "        print cons,\n",
      "    print "
     ],
     "language": "python",
     "outputs": [
      {
       "output_type": "stream",
       "stream": "stdout",
       "text": [
        "letter_y_from_letter_i letter_y_from_letter_p\n",
        "letter_y_from_letter_i letter_y_from_letter_p\n",
        "letter_y_from_letter_a letter_y_from_letter_r\n",
        "letter_y_from_letter_a letter_y_from_letter_m\n",
        "letter_y_from_letter_a letter_y_from_letter_m\n",
        "letter_y_from_letter_a letter_y_from_letter_r\n",
        "letter_y_from_letter_b letter_y_from_letter_h\n",
        "letter_y_from_letter_d letter_y_from_letter_h\n",
        "letter_y_from_letter_d letter_y_from_letter_s\n",
        "letter_y_from_letter_s letter_y_from_letter_x\n",
        "letter_y_from_letter_p letter_y_from_letter_x\n",
        "letter_y_from_letter_p letter_y_from_letter_x\n",
        "letter_y_from_letter_p letter_y_from_letter_x\n",
        "letter_y_from_letter_p letter_y_from_letter_s\n",
        "letter_y_from_letter_m letter_y_from_letter_s\n",
        "letter_y_from_letter_a letter_y_from_letter_m\n",
        "letter_y_from_letter_a letter_y_from_letter_m\n",
        "letter_y_from_letter_a letter_y_from_letter_m\n",
        "letter_y_from_letter_a letter_y_from_letter_m\n",
        "letter_y_from_letter_a letter_y_from_letter_m\n",
        "letter_y_from_letter_a letter_y_from_letter_m\n",
        "letter_y_from_letter_a letter_y_from_letter_m\n",
        "letter_y_from_letter_a letter_y_from_letter_m\n",
        "letter_y_from_letter_a letter_y_from_letter_m\n",
        "letter_y_from_letter_b letter_y_from_letter_m\n",
        "letter_y_from_letter_a letter_y_from_letter_m\n",
        "letter_y_from_letter_i letter_y_from_letter_h\n",
        "letter_y_from_letter_i letter_y_from_letter_s\n",
        "\n"
       ]
      }
     ],
     "prompt_number": 21
    },
    {
     "cell_type": "code",
     "collapsed": false,
     "input": [],
     "language": "python",
     "outputs": [],
     "prompt_number": 21
    },
    {
     "cell_type": "code",
     "collapsed": false,
     "input": [
      "print len(duals)"
     ],
     "language": "python",
     "outputs": [
      {
       "output_type": "stream",
       "stream": "stdout",
       "text": [
        "29\n"
       ]
      }
     ],
     "prompt_number": 22
    },
    {
     "cell_type": "markdown",
     "source": [
      "Weights are the bigram language model scores.\n"
     ]
    },
    {
     "cell_type": "code",
     "collapsed": false,
     "input": [
      "lm.prob(\"e\",\"h\")"
     ],
     "language": "python",
     "outputs": [
      {
       "output_type": "pyout",
       "prompt_number": 23,
       "text": [
        "0.428561225072853"
       ]
      }
     ],
     "prompt_number": 23
    },
    {
     "cell_type": "code",
     "collapsed": false,
     "input": [
      "path2, _ = hyper.best_path(hyper2, weights2)\n",
      "print weights2.dot(path2)\n",
      "for edge in path2.edges:\n",
      "    print hyper2.label(edge).letter, "
     ],
     "language": "python",
     "outputs": [
      {
       "output_type": "stream",
       "stream": "stdout",
       "text": [
        "-32.7426478855\n",
        "p r e n g   t h i s   p r   c u r   c u r e t h e n g   c u r t h i s  \n"
       ]
      }
     ],
     "prompt_number": 24
    },
    {
     "cell_type": "code",
     "collapsed": false,
     "input": [
      "path2, duals = hyper.best_constrained(hyper2, weights2, constraints2)\n",
      "# print weights2.dot(path2)\n",
      "# for edge in path2.edges:\n",
      "#     print hyper2.label(edge).letter, "
     ],
     "language": "python",
     "outputs": [],
     "prompt_number": 25
    },
    {
     "cell_type": "code",
     "collapsed": false,
     "input": [
      "df = pd.DataFrame(data = {\"dual\": [d.dual for d in duals], \n",
      "                          \"ncons\": [len(d.constraints) for d in duals]}, index = range(len(duals)))\n",
      "df.plot()\n"
     ],
     "language": "python",
     "outputs": [
      {
       "output_type": "pyout",
       "prompt_number": 26,
       "text": [
        "<matplotlib.axes.AxesSubplot at 0x584c890>"
       ]
      },
      {
       "output_type": "display_data",
       "png": "[encoded data removed]",
       "text": [
        "<matplotlib.figure.Figure at 0x4e3e850>"
       ]
      }
     ],
     "prompt_number": 26
    }
   ]
  }
 ]
}