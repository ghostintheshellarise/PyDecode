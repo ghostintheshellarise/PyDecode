{
 "metadata": {
  "name": ""
 },
 "nbformat": 3,
 "nbformat_minor": 0,
 "worksheets": [
  {
   "cells": [
    {
     "cell_type": "code",
     "collapsed": false,
     "input": [
      "import pydecode.hyper as ph\n",
      "import pydecode.display as display\n",
      "from collections import namedtuple\n",
      "\n",
      "import pydecode.chart as chart\n",
      "import pydecode.optimization as opt\n",
      "import pydecode.constraints as cons\n",
      "import pydecode.semiring as semi\n",
      "import pandas as pd\n"
     ],
     "language": "python",
     "outputs": [],
     "prompt_number": 48
    },
    {
     "cell_type": "heading",
     "level": 1,
     "source": [
      "Tutorial 3: HMM Tagger (with constraints)"
     ]
    },
    {
     "cell_type": "markdown",
     "source": [
      "We begin by constructing the HMM probabilities."
     ]
    },
    {
     "cell_type": "code",
     "collapsed": false,
     "input": [
      "# The emission probabilities.\n",
      "emission = {'ROOT' : {'ROOT' : 1.0},\n",
      "            'the' :  {'D': 0.8, 'N': 0.1, 'V': 0.1},\n",
      "            'dog' :  {'D': 0.1, 'N': 0.8, 'V': 0.1},\n",
      "            'walked':{'V': 1},\n",
      "            'in' :   {'D': 1},\n",
      "            'park' : {'N': 0.1, 'V': 0.9},\n",
      "            'END' :  {'END' : 1.0}}\n",
      "\n",
      "# The transition probabilities.\n",
      "transition = {'D' :    {'D' : 0.1, 'N' : 0.8, 'V' : 0.1, 'END' : 0},\n",
      "              'N' :    {'D' : 0.1, 'N' : 0.1, 'V' : 0.8, 'END' : 0},\n",
      "              'V' :    {'D' : 0.4, 'N' : 0.3, 'V' : 0.3, 'END' : 0},\n",
      "              'ROOT' : {'D' : 0.4, 'N' : 0.3, 'V' : 0.3}}"
     ],
     "language": "python",
     "outputs": [],
     "prompt_number": 49
    },
    {
     "cell_type": "code",
     "collapsed": false,
     "input": [
      "pd.DataFrame(transition).fillna(0) "
     ],
     "language": "python",
     "outputs": [
      {
       "html": [
        "<div style=\"max-height:1000px;max-width:1500px;overflow:auto;\">\n",
        "<table border=\"1\" class=\"dataframe\">\n",
        "  <thead>\n",
        "    <tr style=\"text-align: right;\">\n",
        "      <th></th>\n",
        "      <th>D</th>\n",
        "      <th>N</th>\n",
        "      <th>ROOT</th>\n",
        "      <th>V</th>\n",
        "    </tr>\n",
        "  </thead>\n",
        "  <tbody>\n",
        "    <tr>\n",
        "      <th>D</th>\n",
        "      <td> 0.1</td>\n",
        "      <td> 0.1</td>\n",
        "      <td> 0.4</td>\n",
        "      <td> 0.4</td>\n",
        "    </tr>\n",
        "    <tr>\n",
        "      <th>END</th>\n",
        "      <td> 0.0</td>\n",
        "      <td> 0.0</td>\n",
        "      <td> 0.0</td>\n",
        "      <td> 0.0</td>\n",
        "    </tr>\n",
        "    <tr>\n",
        "      <th>N</th>\n",
        "      <td> 0.8</td>\n",
        "      <td> 0.1</td>\n",
        "      <td> 0.3</td>\n",
        "      <td> 0.3</td>\n",
        "    </tr>\n",
        "    <tr>\n",
        "      <th>V</th>\n",
        "      <td> 0.1</td>\n",
        "      <td> 0.8</td>\n",
        "      <td> 0.3</td>\n",
        "      <td> 0.3</td>\n",
        "    </tr>\n",
        "  </tbody>\n",
        "</table>\n",
        "</div>"
       ],
       "output_type": "pyout",
       "prompt_number": 50,
       "text": [
        "       D    N  ROOT    V\n",
        "D    0.1  0.1   0.4  0.4\n",
        "END  0.0  0.0   0.0  0.0\n",
        "N    0.8  0.1   0.3  0.3\n",
        "V    0.1  0.8   0.3  0.3"
       ]
      }
     ],
     "prompt_number": 50
    },
    {
     "cell_type": "code",
     "collapsed": false,
     "input": [
      "pd.DataFrame(emission).fillna(0)"
     ],
     "language": "python",
     "outputs": [
      {
       "html": [
        "<div style=\"max-height:1000px;max-width:1500px;overflow:auto;\">\n",
        "<table border=\"1\" class=\"dataframe\">\n",
        "  <thead>\n",
        "    <tr style=\"text-align: right;\">\n",
        "      <th></th>\n",
        "      <th>END</th>\n",
        "      <th>ROOT</th>\n",
        "      <th>dog</th>\n",
        "      <th>in</th>\n",
        "      <th>park</th>\n",
        "      <th>the</th>\n",
        "      <th>walked</th>\n",
        "    </tr>\n",
        "  </thead>\n",
        "  <tbody>\n",
        "    <tr>\n",
        "      <th>D</th>\n",
        "      <td> 0</td>\n",
        "      <td> 0</td>\n",
        "      <td> 0.1</td>\n",
        "      <td> 1</td>\n",
        "      <td> 0.0</td>\n",
        "      <td> 0.8</td>\n",
        "      <td> 0</td>\n",
        "    </tr>\n",
        "    <tr>\n",
        "      <th>END</th>\n",
        "      <td> 1</td>\n",
        "      <td> 0</td>\n",
        "      <td> 0.0</td>\n",
        "      <td> 0</td>\n",
        "      <td> 0.0</td>\n",
        "      <td> 0.0</td>\n",
        "      <td> 0</td>\n",
        "    </tr>\n",
        "    <tr>\n",
        "      <th>N</th>\n",
        "      <td> 0</td>\n",
        "      <td> 0</td>\n",
        "      <td> 0.8</td>\n",
        "      <td> 0</td>\n",
        "      <td> 0.1</td>\n",
        "      <td> 0.1</td>\n",
        "      <td> 0</td>\n",
        "    </tr>\n",
        "    <tr>\n",
        "      <th>ROOT</th>\n",
        "      <td> 0</td>\n",
        "      <td> 1</td>\n",
        "      <td> 0.0</td>\n",
        "      <td> 0</td>\n",
        "      <td> 0.0</td>\n",
        "      <td> 0.0</td>\n",
        "      <td> 0</td>\n",
        "    </tr>\n",
        "    <tr>\n",
        "      <th>V</th>\n",
        "      <td> 0</td>\n",
        "      <td> 0</td>\n",
        "      <td> 0.1</td>\n",
        "      <td> 0</td>\n",
        "      <td> 0.9</td>\n",
        "      <td> 0.1</td>\n",
        "      <td> 1</td>\n",
        "    </tr>\n",
        "  </tbody>\n",
        "</table>\n",
        "</div>"
       ],
       "output_type": "pyout",
       "prompt_number": 51,
       "text": [
        "      END  ROOT  dog  in  park  the  walked\n",
        "D       0     0  0.1   1   0.0  0.8       0\n",
        "END     1     0  0.0   0   0.0  0.0       0\n",
        "N       0     0  0.8   0   0.1  0.1       0\n",
        "ROOT    0     1  0.0   0   0.0  0.0       0\n",
        "V       0     0  0.1   0   0.9  0.1       1"
       ]
      }
     ],
     "prompt_number": 51
    },
    {
     "cell_type": "markdown",
     "source": [
      "Next we specify the labels for the transitions."
     ]
    },
    {
     "cell_type": "code",
     "collapsed": false,
     "input": [
      "class Bigram(namedtuple(\"Bigram\", [\"word\", \"tag\", \"prevtag\"])):\n",
      "    def __str__(self): return \"%s -> %s\"%(self.prevtag, self.tag)\n",
      "\n",
      "class Tagged(namedtuple(\"Tagged\", [\"position\", \"word\", \"tag\"])):\n",
      "    def __str__(self): return \"%s %s\"%(self.word, self.tag)\n",
      "\n"
     ],
     "language": "python",
     "outputs": [],
     "prompt_number": 52
    },
    {
     "cell_type": "markdown",
     "source": [
      "And the scoring function."
     ]
    },
    {
     "cell_type": "code",
     "collapsed": false,
     "input": [
      "def bigram_weight(bigram):\n",
      "    return transition[bigram.prevtag][bigram.tag] + \\\n",
      "    emission[bigram.word][bigram.tag] "
     ],
     "language": "python",
     "outputs": [],
     "prompt_number": 53
    },
    {
     "cell_type": "markdown",
     "source": [
      "Now we write out dynamic program. "
     ]
    },
    {
     "cell_type": "code",
     "collapsed": false,
     "input": [
      "def viterbi(chart):\n",
      "    words = [\"ROOT\"] + sentence.strip().split(\" \") + [\"END\"]\n",
      "    c.init(Tagged(0, \"ROOT\", \"ROOT\"))    \n",
      "    for i, word in enumerate(words[1:], 1):\n",
      "        prev_tags = emission[words[i-1]].keys()\n",
      "        for tag in emission[word].iterkeys():\n",
      "            c[Tagged(i, word, tag)] = \\\n",
      "                c.sum([c[key] * c.sr(Bigram(word, tag, prev)) \n",
      "                       for prev in prev_tags \n",
      "                       for key in [Tagged(i - 1, words[i - 1], prev)] \n",
      "                       if key in c])\n",
      "    return c"
     ],
     "language": "python",
     "outputs": [],
     "prompt_number": 54
    },
    {
     "cell_type": "markdown",
     "source": [
      "Now we are ready to build the structure itself."
     ]
    },
    {
     "cell_type": "code",
     "collapsed": false,
     "input": [
      "# The sentence to be tagged.\n",
      "sentence = 'the dog walked in the park'"
     ],
     "language": "python",
     "outputs": [],
     "prompt_number": 55
    },
    {
     "cell_type": "code",
     "collapsed": false,
     "input": [
      "# Create a chart using to compute the probability of the sentence.\n",
      "c = chart.ChartBuilder(bigram_weight)\n",
      "viterbi(c).finish()"
     ],
     "language": "python",
     "outputs": [
      {
       "output_type": "pyout",
       "prompt_number": 56,
       "text": [
        "9.600000381469727"
       ]
      }
     ],
     "prompt_number": 56
    },
    {
     "cell_type": "code",
     "collapsed": false,
     "input": [
      "# Create a chart to compute the max paths.\n",
      "c = chart.ChartBuilder(bigram_weight, \n",
      "                       ph._InsideW)\n",
      "viterbi(c).finish()"
     ],
     "language": "python",
     "outputs": [
      {
       "output_type": "pyout",
       "prompt_number": 57,
       "text": [
        "9.087200164794922"
       ]
      }
     ],
     "prompt_number": 57
    },
    {
     "cell_type": "markdown",
     "source": [
      "But even better we can construct the entrire search space."
     ]
    },
    {
     "cell_type": "code",
     "collapsed": false,
     "input": [
      "c = chart.ChartBuilder(lambda a:a, semi.HypergraphSemiRing, \n",
      "                       build_hypergraph = True)\n",
      "hypergraph = viterbi(c).finish()"
     ],
     "language": "python",
     "outputs": [],
     "prompt_number": 58
    },
    {
     "cell_type": "code",
     "collapsed": false,
     "input": [
      "weights = ph.Weights(hypergraph).build(bigram_weight)\n",
      "\n",
      "# Find the best path.\n",
      "path = ph.best_path(hypergraph, weights)\n",
      "print weights.dot(path)"
     ],
     "language": "python",
     "outputs": [
      {
       "ename": "AttributeError",
       "evalue": "'NoneType' object has no attribute 'prevtag'",
       "output_type": "pyerr",
       "traceback": [
        "\u001b[1;31m---------------------------------------------------------------------------\u001b[0m\n\u001b[1;31mAttributeError\u001b[0m                            Traceback (most recent call last)",
        "\u001b[1;32m<ipython-input-59-5d9224c40bbb>\u001b[0m in \u001b[0;36m<module>\u001b[1;34m()\u001b[0m\n\u001b[1;32m----> 1\u001b[1;33m \u001b[0mweights\u001b[0m \u001b[1;33m=\u001b[0m \u001b[0mph\u001b[0m\u001b[1;33m.\u001b[0m\u001b[0mWeights\u001b[0m\u001b[1;33m(\u001b[0m\u001b[0mhypergraph\u001b[0m\u001b[1;33m)\u001b[0m\u001b[1;33m.\u001b[0m\u001b[0mbuild\u001b[0m\u001b[1;33m(\u001b[0m\u001b[0mbigram_weight\u001b[0m\u001b[1;33m)\u001b[0m\u001b[1;33m\u001b[0m\u001b[0m\n\u001b[0m\u001b[0;32m      2\u001b[0m \u001b[1;33m\u001b[0m\u001b[0m\n\u001b[0;32m      3\u001b[0m \u001b[1;31m# Find the best path.\u001b[0m\u001b[1;33m\u001b[0m\u001b[1;33m\u001b[0m\u001b[0m\n\u001b[0;32m      4\u001b[0m \u001b[0mpath\u001b[0m \u001b[1;33m=\u001b[0m \u001b[0mph\u001b[0m\u001b[1;33m.\u001b[0m\u001b[0mbest_path\u001b[0m\u001b[1;33m(\u001b[0m\u001b[0mhypergraph\u001b[0m\u001b[1;33m,\u001b[0m \u001b[0mweights\u001b[0m\u001b[1;33m)\u001b[0m\u001b[1;33m\u001b[0m\u001b[0m\n\u001b[0;32m      5\u001b[0m \u001b[1;32mprint\u001b[0m \u001b[0mweights\u001b[0m\u001b[1;33m.\u001b[0m\u001b[0mdot\u001b[0m\u001b[1;33m(\u001b[0m\u001b[0mpath\u001b[0m\u001b[1;33m)\u001b[0m\u001b[1;33m\u001b[0m\u001b[0m\n",
        "\u001b[1;32m/home/srush/Projects/decoding/python/pydecode/hyper.so\u001b[0m in \u001b[0;36mpydecode.hyper._LogViterbiWeights.build (python/pydecode/hyper.cpp:10448)\u001b[1;34m()\u001b[0m\n",
        "\u001b[1;32m<ipython-input-53-fc220ccbeda4>\u001b[0m in \u001b[0;36mbigram_weight\u001b[1;34m(bigram)\u001b[0m\n\u001b[0;32m      1\u001b[0m \u001b[1;32mdef\u001b[0m \u001b[0mbigram_weight\u001b[0m\u001b[1;33m(\u001b[0m\u001b[0mbigram\u001b[0m\u001b[1;33m)\u001b[0m\u001b[1;33m:\u001b[0m\u001b[1;33m\u001b[0m\u001b[0m\n\u001b[1;32m----> 2\u001b[1;33m     \u001b[1;32mreturn\u001b[0m \u001b[0mtransition\u001b[0m\u001b[1;33m[\u001b[0m\u001b[0mbigram\u001b[0m\u001b[1;33m.\u001b[0m\u001b[0mprevtag\u001b[0m\u001b[1;33m]\u001b[0m\u001b[1;33m[\u001b[0m\u001b[0mbigram\u001b[0m\u001b[1;33m.\u001b[0m\u001b[0mtag\u001b[0m\u001b[1;33m]\u001b[0m \u001b[1;33m+\u001b[0m     \u001b[0memission\u001b[0m\u001b[1;33m[\u001b[0m\u001b[0mbigram\u001b[0m\u001b[1;33m.\u001b[0m\u001b[0mword\u001b[0m\u001b[1;33m]\u001b[0m\u001b[1;33m[\u001b[0m\u001b[0mbigram\u001b[0m\u001b[1;33m.\u001b[0m\u001b[0mtag\u001b[0m\u001b[1;33m]\u001b[0m\u001b[1;33m\u001b[0m\u001b[0m\n\u001b[0m",
        "\u001b[1;31mAttributeError\u001b[0m: 'NoneType' object has no attribute 'prevtag'"
       ]
      }
     ],
     "prompt_number": 59
    },
    {
     "cell_type": "markdown",
     "source": [
      "We can also output the path itself."
     ]
    },
    {
     "cell_type": "code",
     "collapsed": false,
     "input": [
      "print [hypergraph.label(edge) for edge in path.edges]"
     ],
     "language": "python",
     "outputs": []
    },
    {
     "cell_type": "code",
     "collapsed": false,
     "input": [
      "display.HypergraphPathFormatter(hypergraph, [path]).to_ipython()"
     ],
     "language": "python",
     "outputs": [
      {
       "ename": "NameError",
       "evalue": "name 'path' is not defined",
       "output_type": "pyerr",
       "traceback": [
        "\u001b[1;31m---------------------------------------------------------------------------\u001b[0m\n\u001b[1;31mNameError\u001b[0m                                 Traceback (most recent call last)",
        "\u001b[1;32m<ipython-input-60-66085a6e7465>\u001b[0m in \u001b[0;36m<module>\u001b[1;34m()\u001b[0m\n\u001b[1;32m----> 1\u001b[1;33m \u001b[0mdisplay\u001b[0m\u001b[1;33m.\u001b[0m\u001b[0mHypergraphPathFormatter\u001b[0m\u001b[1;33m(\u001b[0m\u001b[0mhypergraph\u001b[0m\u001b[1;33m,\u001b[0m \u001b[1;33m[\u001b[0m\u001b[0mpath\u001b[0m\u001b[1;33m]\u001b[0m\u001b[1;33m)\u001b[0m\u001b[1;33m.\u001b[0m\u001b[0mto_ipython\u001b[0m\u001b[1;33m(\u001b[0m\u001b[1;33m)\u001b[0m\u001b[1;33m\u001b[0m\u001b[0m\n\u001b[0m",
        "\u001b[1;31mNameError\u001b[0m: name 'path' is not defined"
       ]
      }
     ],
     "prompt_number": 60
    },
    {
     "cell_type": "markdown",
     "source": [
      "We can also use a custom fancier formatter. These attributes are from graphviz (http://www.graphviz.org/content/attrs)"
     ]
    },
    {
     "cell_type": "code",
     "collapsed": false,
     "input": [
      "class HMMFormat(display.HypergraphPathFormatter):\n",
      "    def hypernode_attrs(self, node):\n",
      "        label = self.hypergraph.node_label(node)\n",
      "        return {\"label\": label.tag, \"shape\": \"\"}\n",
      "    def hyperedge_node_attrs(self, edge):\n",
      "        return {\"color\": \"pink\", \"shape\": \"point\"}\n",
      "    def hypernode_subgraph(self, node):\n",
      "        label = self.hypergraph.node_label(node)\n",
      "        return [(\"cluster_\" + str(label.position), None)]\n",
      "    def subgraph_format(self, subgraph):\n",
      "        return {\"label\": ([\"ROOT\"] + sentence.split() + [\"END\"])[int(subgraph.split(\"_\")[1])],\n",
      "                \"rank\" : \"same\"}\n",
      "    def graph_attrs(self): return {\"rankdir\":\"RL\"}\n",
      "\n",
      "HMMFormat(hypergraph, [path]).to_ipython()"
     ],
     "language": "python",
     "outputs": []
    },
    {
     "cell_type": "markdown",
     "source": [
      "PyDecode also allows you to add extra constraints to the problem. As an example we can add constraints to enfore that the tag of \"dog\" is the same tag as \"park\"."
     ]
    },
    {
     "cell_type": "code",
     "collapsed": false,
     "input": [
      "def cons_name(tag): return \"tag_%s\"%tag\n",
      "\n",
      "def build_constraints(bigram):\n",
      "    if bigram.word == \"dog\":\n",
      "        return [(cons_name(bigram.tag), 1)]\n",
      "    elif bigram.word == \"park\":\n",
      "        return [(cons_name(bigram.tag), -1)]\n",
      "    return []\n",
      "\n",
      "constraints = \\\n",
      "    cons.Constraints(hypergraph, [(cons_name(tag), 0) for tag in [\"D\", \"V\", \"N\"]]).build( \n",
      "                   build_constraints)"
     ],
     "language": "python",
     "outputs": []
    },
    {
     "cell_type": "markdown",
     "source": [
      "This check fails because the tags do not agree."
     ]
    },
    {
     "cell_type": "code",
     "collapsed": false,
     "input": [
      "print \"check\", constraints.check(path)"
     ],
     "language": "python",
     "outputs": []
    },
    {
     "cell_type": "markdown",
     "source": [
      "Solve instead using subgradient."
     ]
    },
    {
     "cell_type": "code",
     "collapsed": false,
     "input": [
      "gpath = opt.best_constrained_path(hypergraph, weights, constraints)"
     ],
     "language": "python",
     "outputs": []
    },
    {
     "cell_type": "code",
     "collapsed": false,
     "input": [
      "import pydecode.lp as lp\n",
      "hypergraph_lp = lp.HypergraphLP.make_lp(hypergraph, weights)\n",
      "hypergraph_lp.solve()\n",
      "path = hypergraph_lp.path"
     ],
     "language": "python",
     "outputs": []
    },
    {
     "cell_type": "code",
     "collapsed": false,
     "input": [
      "# Output the path.\n",
      "for edge in gpath.edges:\n",
      "    print hypergraph.label(edge)"
     ],
     "language": "python",
     "outputs": []
    },
    {
     "cell_type": "code",
     "collapsed": false,
     "input": [
      "print \"check\", constraints.check(gpath)\n",
      "print \"score\", weights.dot(gpath)"
     ],
     "language": "python",
     "outputs": []
    },
    {
     "cell_type": "code",
     "collapsed": false,
     "input": [
      "HMMFormat(hypergraph, [path, gpath]).to_ipython()\n"
     ],
     "language": "python",
     "outputs": []
    },
    {
     "cell_type": "code",
     "collapsed": false,
     "input": [
      "class HMMConstraintFormat(display.HypergraphConstraintFormatter):\n",
      "    def hypernode_attrs(self, node):\n",
      "        label = self.hypergraph.node_label(node)\n",
      "        return {\"label\": label.tag, \"shape\": \"\"}\n",
      "    def hyperedge_node_attrs(self, edge):\n",
      "        return {\"color\": \"pink\", \"shape\": \"point\"}\n",
      "    def hypernode_subgraph(self, node):\n",
      "        label = self.hypergraph.node_label(node)\n",
      "        return [(\"cluster_\" + str(label.position), None)]\n",
      "    def subgraph_format(self, subgraph):\n",
      "        return {\"label\": ([\"ROOT\"] + sentence.split() + [\"END\"])[int(subgraph.split(\"_\")[1])]}\n",
      "\n",
      "#HMMConstraintFormat(hypergraph, constraints).to_ipython()"
     ],
     "language": "python",
     "outputs": []
    },
    {
     "cell_type": "markdown",
     "source": [
      "Pruning\n"
     ]
    },
    {
     "cell_type": "code",
     "collapsed": false,
     "input": [
      "pruned_hypergraph, pruned_weights = ph.prune_hypergraph(hypergraph, weights, 0.8)"
     ],
     "language": "python",
     "outputs": []
    },
    {
     "cell_type": "code",
     "collapsed": false,
     "input": [
      "HMMFormat(pruned_hypergraph, []).to_ipython()"
     ],
     "language": "python",
     "outputs": []
    },
    {
     "cell_type": "code",
     "collapsed": false,
     "input": [
      "very_pruned_hypergraph, _ = ph.prune_hypergraph(hypergraph, weights, 0.9)"
     ],
     "language": "python",
     "outputs": []
    }
   ]
  }
 ]
}