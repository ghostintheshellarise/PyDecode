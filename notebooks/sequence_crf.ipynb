{
 "metadata": {
  "name": ""
 },
 "nbformat": 3,
 "nbformat_minor": 0,
 "worksheets": [
  {
   "cells": [
    {
     "cell_type": "heading",
     "level": 1,
     "source": [
      "Sequence CRF"
     ]
    },
    {
     "cell_type": "code",
     "collapsed": false,
     "input": [
      "from sklearn.feature_extraction import DictVectorizer\n",
      "from collections import namedtuple\n",
      "import pydecode.model as model\n",
      "import pydecode.chart as chart"
     ],
     "language": "python",
     "outputs": [],
     "prompt_number": 56
    },
    {
     "cell_type": "code",
     "collapsed": false,
     "input": [
      "# The emission probabilities.\n",
      "emission = {'ROOT' : {'ROOT' : 1.0},\n",
      "            'the' :  {'D': 0.8, 'N': 0.1, 'V': 0.1},\n",
      "            'dog' :  {'D': 0.1, 'N': 0.8, 'V': 0.1},\n",
      "            'walked':{'V': 1},\n",
      "            'in' :   {'D': 1},\n",
      "            'park' : {'N': 0.1, 'V': 0.9},\n",
      "            'END' :  {'END' : 1.0}}\n",
      "\n",
      "# The transition probabilities.\n",
      "transition = {'D' :    {'D' : 0.1, 'N' : 0.8, 'V' : 0.1, 'END' : 0},\n",
      "              'N' :    {'D' : 0.1, 'N' : 0.1, 'V' : 0.8, 'END' : 0},\n",
      "              'V' :    {'D' : 0.4, 'N' : 0.3, 'V' : 0.3, 'END' : 0},\n",
      "              'ROOT' : {'D' : 0.4, 'N' : 0.3, 'V' : 0.3}}"
     ],
     "language": "python",
     "outputs": [],
     "prompt_number": 57
    },
    {
     "cell_type": "code",
     "collapsed": false,
     "input": [
      "class Bigram(namedtuple(\"Bigram\", [\"position\", \"word\", \"tag\", \"prevtag\"])):\n",
      "    def __str__(self): return \"%s -> %s\"%(self.prevtag, self.tag)\n",
      "\n",
      "class Tagged(namedtuple(\"Tagged\", [\"position\", \"word\", \"tag\"])):\n",
      "    def __str__(self): return \"%s %s\"%(self.word, self.tag)"
     ],
     "language": "python",
     "outputs": [],
     "prompt_number": 101
    },
    {
     "cell_type": "code",
     "collapsed": false,
     "input": [
      "def sequence_dynamic_program(sentence, c):\n",
      "    words = [\"ROOT\"] + sentence + [\"END\"]\n",
      "    c.init(Tagged(0, \"ROOT\", \"ROOT\"))\n",
      "    for i, word in enumerate(words[1:], 1):\n",
      "        prev_tags = emission[words[i-1]].keys()\n",
      "        for tag in emission[word].iterkeys():\n",
      "            c[Tagged(i, word, tag)] = \\\n",
      "                c.sum([c[key] * c.sr(Bigram(i, word, tag, prev))\n",
      "                       for prev in prev_tags \n",
      "                       for key in [Tagged(i - 1, words[i - 1], prev)] \n",
      "                       if key in c])\n",
      "    return c"
     ],
     "language": "python",
     "outputs": [],
     "prompt_number": 102
    },
    {
     "cell_type": "code",
     "collapsed": false,
     "input": [
      "c = chart.ChartBuilder(lambda a:a, chart.HypergraphSemiRing, \n",
      "                       build_hypergraph = True)\n",
      "hypergraph = sequence_dynamic_program([\"the\", \"dog\"], c).finish()\n",
      "for edge in hypergraph.edges:\n",
      "    print hypergraph.label(edge)"
     ],
     "language": "python",
     "outputs": [
      {
       "output_type": "stream",
       "stream": "stdout",
       "text": [
        "start\n",
        "the V <pydecode.semiring.HypergraphSemiRing instance at 0x3be7758>\n",
        "[([<pydecode.hyper.Node object at 0x3bd1eb8>], Bigram(position=1, word='the', tag='V', prevtag='ROOT'))]\n",
        "the D <pydecode.semiring.HypergraphSemiRing instance at 0x3bfcfc8>\n",
        "[([<pydecode.hyper.Node object at 0x3bd1eb8>], Bigram(position=1, word='the', tag='D', prevtag='ROOT'))]\n",
        "the N <pydecode.semiring.HypergraphSemiRing instance at 0x3bec4d0>\n",
        "[([<pydecode.hyper.Node object at 0x3bd1eb8>], Bigram(position=1, word='the', tag='N', prevtag='ROOT'))]\n",
        "dog V <pydecode.semiring.HypergraphSemiRing instance at 0x3bec170>\n",
        "[([<pydecode.hyper.Node object at 0x3bd1828>], Bigram(position=2, word='dog', tag='V', prevtag='V')), ([<pydecode.hyper.Node object at 0x3bd1b70>], Bigram(position=2, word='dog', tag='V', prevtag='D')), ([<pydecode.hyper.Node object at 0x3bd1df0>], Bigram(position=2, word='dog', tag='V', prevtag='N'))]\n",
        "dog D <pydecode.semiring.HypergraphSemiRing instance at 0x3bec050>\n",
        "[([<pydecode.hyper.Node object at 0x3bd1828>], Bigram(position=2, word='dog', tag='D', prevtag='V')), ([<pydecode.hyper.Node object at 0x3bd1b70>], Bigram(position=2, word='dog', tag='D', prevtag='D')), ([<pydecode.hyper.Node object at 0x3bd1df0>], Bigram(position=2, word='dog', tag='D', prevtag='N'))]\n",
        "dog N <pydecode.semiring.HypergraphSemiRing instance at 0x3bec710>\n",
        "[([<pydecode.hyper.Node object at 0x3bd1828>], Bigram(position=2, word='dog', tag='N', prevtag='V')), ([<pydecode.hyper.Node object at 0x3bd1b70>], Bigram(position=2, word='dog', tag='N', prevtag='D')), ([<pydecode.hyper.Node object at 0x3bd1df0>], Bigram(position=2, word='dog', tag='N', prevtag='N'))]\n",
        "END END <pydecode.semiring.HypergraphSemiRing instance at 0x3bec128>\n",
        "[([<pydecode.hyper.Node object at 0x3bd15a8>], Bigram(position=3, word='END', tag='END', prevtag='V')), ([<pydecode.hyper.Node object at 0x3bd1508>], Bigram(position=3, word='END', tag='END', prevtag='D')), ([<pydecode.hyper.Node object at 0x3bd1238>], Bigram(position=3, word='END', tag='END', prevtag='N'))]\n",
        "ROOT -> V\n",
        "ROOT -> D\n",
        "ROOT -> N\n",
        "V -> V\n",
        "D -> V\n",
        "N -> V\n",
        "V -> D\n",
        "D -> D\n",
        "N -> D\n",
        "V -> N\n",
        "D -> N\n",
        "N -> N\n",
        "V -> END\n",
        "D -> END\n",
        "N -> END\n"
       ]
      }
     ],
     "prompt_number": 68
    },
    {
     "cell_type": "code",
     "collapsed": false,
     "input": [
      "class TaggingCRFModel:\n",
      "    def dynamic_program(self, sentence, c):\n",
      "        return sequence_dynamic_program(sentence, c) \n",
      "\n",
      "    def labels(self, sentence, tagging):\n",
      "        return [Bigram(i, word=word, tag=tag, prevtag=tagging[i-1])\n",
      "                for i, (word, tag) in enumerate(zip(sentence, tagging))]\n",
      "\n",
      "    def gen_features(self, sentence, bigram):\n",
      "        return {#\"word-1:%s\"%sentence[bigram.position - 1] if bigram.position != 0 else \"\", \n",
      "                \"word:%s\"%bigram.word, \n",
      "                \"tag-1:%s\"%bigram.prevtag, \n",
      "                \"tag:%s\"%bigram.tag}"
     ],
     "language": "python",
     "outputs": [],
     "prompt_number": 106
    },
    {
     "cell_type": "code",
     "collapsed": false,
     "input": [
      "data_X = map(lambda a: a.split(),\n",
      "             [\"the dog walked\",\n",
      "              \"in the park\",\n",
      "              \"in the dog\"])\n",
      "data_Y = map(lambda a: a.split(),\n",
      "             [\"D N V\", \"I D N\", \"I D N\"])\n",
      "\n",
      "hm = model.HypergraphModel(TaggingCRFModel())"
     ],
     "language": "python",
     "outputs": [],
     "prompt_number": 107
    },
    {
     "cell_type": "code",
     "collapsed": false,
     "input": [
      "from pystruct.learners import StructuredPerceptron  \n",
      "sp = StructuredPerceptron(hm)\n",
      "sp.fit(data_X, data_Y)"
     ],
     "language": "python",
     "outputs": [
      {
       "ename": "NotImplementedError",
       "evalue": "",
       "output_type": "pyerr",
       "traceback": [
        "\u001b[1;31m---------------------------------------------------------------------------\u001b[0m\n\u001b[1;31mNotImplementedError\u001b[0m                       Traceback (most recent call last)",
        "\u001b[1;32m<ipython-input-111-189798b14cf0>\u001b[0m in \u001b[0;36m<module>\u001b[1;34m()\u001b[0m\n\u001b[0;32m      1\u001b[0m \u001b[1;32mfrom\u001b[0m \u001b[0mpystruct\u001b[0m\u001b[1;33m.\u001b[0m\u001b[0mlearners\u001b[0m \u001b[1;32mimport\u001b[0m \u001b[0mStructuredPerceptron\u001b[0m\u001b[1;33m\u001b[0m\u001b[0m\n\u001b[0;32m      2\u001b[0m \u001b[0msp\u001b[0m \u001b[1;33m=\u001b[0m \u001b[0mStructuredPerceptron\u001b[0m\u001b[1;33m(\u001b[0m\u001b[0mhm\u001b[0m\u001b[1;33m)\u001b[0m\u001b[1;33m\u001b[0m\u001b[0m\n\u001b[1;32m----> 3\u001b[1;33m \u001b[0msp\u001b[0m\u001b[1;33m.\u001b[0m\u001b[0mfit\u001b[0m\u001b[1;33m(\u001b[0m\u001b[0mdata_X\u001b[0m\u001b[1;33m,\u001b[0m \u001b[0mdata_Y\u001b[0m\u001b[1;33m)\u001b[0m\u001b[1;33m\u001b[0m\u001b[0m\n\u001b[0m",
        "\u001b[1;32m/usr/local/lib/python2.7/dist-packages/pystruct/learners/structured_perceptron.pyc\u001b[0m in \u001b[0;36mfit\u001b[1;34m(self, X, Y, initialize)\u001b[0m\n\u001b[0;32m    146\u001b[0m                         \u001b[0mlosses\u001b[0m \u001b[1;33m+=\u001b[0m \u001b[0mcurrent_loss\u001b[0m\u001b[1;33m\u001b[0m\u001b[0m\n\u001b[0;32m    147\u001b[0m                         \u001b[1;32mif\u001b[0m \u001b[0mcurrent_loss\u001b[0m\u001b[1;33m:\u001b[0m\u001b[1;33m\u001b[0m\u001b[0m\n\u001b[1;32m--> 148\u001b[1;33m                             self.w += effective_lr * (self.model.psi(x, y) -\n\u001b[0m\u001b[0;32m    149\u001b[0m                                                       self.model.psi(x, y_hat))\n\u001b[0;32m    150\u001b[0m                         if (self.average is not False and\n",
        "\u001b[1;32m/usr/local/lib/python2.7/dist-packages/pystruct/models/base.pyc\u001b[0m in \u001b[0;36mpsi\u001b[1;34m(self, x, y)\u001b[0m\n\u001b[0;32m     29\u001b[0m \u001b[1;33m\u001b[0m\u001b[0m\n\u001b[0;32m     30\u001b[0m     \u001b[1;32mdef\u001b[0m \u001b[0mpsi\u001b[0m\u001b[1;33m(\u001b[0m\u001b[0mself\u001b[0m\u001b[1;33m,\u001b[0m \u001b[0mx\u001b[0m\u001b[1;33m,\u001b[0m \u001b[0my\u001b[0m\u001b[1;33m)\u001b[0m\u001b[1;33m:\u001b[0m\u001b[1;33m\u001b[0m\u001b[0m\n\u001b[1;32m---> 31\u001b[1;33m         \u001b[1;32mraise\u001b[0m \u001b[0mNotImplementedError\u001b[0m\u001b[1;33m(\u001b[0m\u001b[1;33m)\u001b[0m\u001b[1;33m\u001b[0m\u001b[0m\n\u001b[0m\u001b[0;32m     32\u001b[0m \u001b[1;33m\u001b[0m\u001b[0m\n\u001b[0;32m     33\u001b[0m     \u001b[1;32mdef\u001b[0m \u001b[0mbatch_psi\u001b[0m\u001b[1;33m(\u001b[0m\u001b[0mself\u001b[0m\u001b[1;33m,\u001b[0m \u001b[0mX\u001b[0m\u001b[1;33m,\u001b[0m \u001b[0mY\u001b[0m\u001b[1;33m,\u001b[0m \u001b[0mY_true\u001b[0m\u001b[1;33m=\u001b[0m\u001b[0mNone\u001b[0m\u001b[1;33m)\u001b[0m\u001b[1;33m:\u001b[0m\u001b[1;33m\u001b[0m\u001b[0m\n",
        "\u001b[1;31mNotImplementedError\u001b[0m: "
       ]
      },
      {
       "output_type": "stream",
       "stream": "stdout",
       "text": [
        "start\n",
        "the V <pydecode.semiring.HypergraphSemiRing instance at 0x3b83638>\n",
        "[([<pydecode.hyper.Node object at 0x39e0c88>], Bigram(position=1, word='the', tag='V', prevtag='ROOT'))]\n",
        "the D <pydecode.semiring.HypergraphSemiRing instance at 0x3bcf440>\n",
        "[([<pydecode.hyper.Node object at 0x39e0c88>], Bigram(position=1, word='the', tag='D', prevtag='ROOT'))]\n",
        "the N <pydecode.semiring.HypergraphSemiRing instance at 0x3bcfc68>\n",
        "[([<pydecode.hyper.Node object at 0x39e0c88>], Bigram(position=1, word='the', tag='N', prevtag='ROOT'))]\n",
        "dog V <pydecode.semiring.HypergraphSemiRing instance at 0x3b6e7e8>\n",
        "[([<pydecode.hyper.Node object at 0x3bda8f0>], Bigram(position=2, word='dog', tag='V', prevtag='V')), ([<pydecode.hyper.Node object at 0x3bda8a0>], Bigram(position=2, word='dog', tag='V', prevtag='D')), ([<pydecode.hyper.Node object at 0x3bda7b0>], Bigram(position=2, word='dog', tag='V', prevtag='N'))]\n",
        "dog D <pydecode.semiring.HypergraphSemiRing instance at 0x3b6e878>\n",
        "[([<pydecode.hyper.Node object at 0x3bda8f0>], Bigram(position=2, word='dog', tag='D', prevtag='V')), ([<pydecode.hyper.Node object at 0x3bda8a0>], Bigram(position=2, word='dog', tag='D', prevtag='D')), ([<pydecode.hyper.Node object at 0x3bda7b0>], Bigram(position=2, word='dog', tag='D', prevtag='N'))]\n",
        "dog N <pydecode.semiring.HypergraphSemiRing instance at 0x3b6ea28>\n",
        "[([<pydecode.hyper.Node object at 0x3bda8f0>], Bigram(position=2, word='dog', tag='N', prevtag='V')), ([<pydecode.hyper.Node object at 0x3bda8a0>], Bigram(position=2, word='dog', tag='N', prevtag='D')), ([<pydecode.hyper.Node object at 0x3bda7b0>], Bigram(position=2, word='dog', tag='N', prevtag='N'))]\n",
        "walked V <pydecode.semiring.HypergraphSemiRing instance at 0x3b6e638>\n",
        "[([<pydecode.hyper.Node object at 0x3bda7d8>], Bigram(position=3, word='walked', tag='V', prevtag='V')), ([<pydecode.hyper.Node object at 0x3bda3f0>], Bigram(position=3, word='walked', tag='V', prevtag='D')), ([<pydecode.hyper.Node object at 0x3bdaaf8>], Bigram(position=3, word='walked', tag='V', prevtag='N'))]\n",
        "END END <pydecode.semiring.HypergraphSemiRing instance at 0x3b6e878>\n",
        "[([<pydecode.hyper.Node object at 0x3bda300>], Bigram(position=4, word='END', tag='END', prevtag='V'))]\n",
        "ROOT -> V\n",
        "ROOT -> D\n",
        "ROOT -> N\n",
        "V -> V\n",
        "D -> V\n",
        "N -> V\n",
        "V -> D\n",
        "D -> D\n",
        "N -> D\n",
        "V -> N\n",
        "D -> N\n",
        "N -> N\n",
        "V -> V\n",
        "D -> V\n",
        "N -> V\n",
        "V -> END\n",
        "ROOT -> V\n",
        "V -> V\n",
        "V -> V\n",
        "V -> END\n"
       ]
      }
     ],
     "prompt_number": 111
    }
   ]
  }
 ]
}