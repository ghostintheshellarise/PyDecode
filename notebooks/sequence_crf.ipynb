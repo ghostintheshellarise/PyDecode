{
 "metadata": {
  "name": ""
 },
 "nbformat": 3,
 "nbformat_minor": 0,
 "worksheets": [
  {
   "cells": [
    {
     "cell_type": "heading",
     "level": 1,
     "source": [
      "Tutorial 5: Training a CRF"
     ]
    },
    {
     "cell_type": "code",
     "collapsed": false,
     "input": [
      "from sklearn.feature_extraction import DictVectorizer\n",
      "from collections import namedtuple\n",
      "import pydecode.model as model\n",
      "import pydecode.chart as chart\n",
      "\n",
      "from collections import Counter, defaultdict\n",
      "from itertools import izip"
     ],
     "language": "python",
     "outputs": [],
     "prompt_number": 191
    },
    {
     "cell_type": "code",
     "collapsed": false,
     "input": [
      "class Dictionary:\n",
      "    def __init__(self, counts, word_counts, tag_set):\n",
      "        self.counts = counts \n",
      "        self.word_counts = word_counts\n",
      "        self.tag_set = tag_set\n",
      "        self.tag_num = {tag:i for i, tag in enumerate(tag_set)}\n",
      "        self.word_num = {word:i for i, word in enumerate(word_counts.iterkeys())}\n",
      "\n",
      "    def emission(self, word):\n",
      "        if word == \"ROOT\": return [\"<t>\"]\n",
      "        if word == \"END\": return [\"</t>\"]\n",
      "        if self.word_counts[word] > 5:\n",
      "            return self.counts[word].keys()\n",
      "        return self.tag_set\n",
      "\n",
      "    def tag_id(self, tag):\n",
      "        return self.tag_num.get(tag, 0)\n",
      "\n",
      "    def word_id(self, word):\n",
      "        return self.word_num.get(word, 0)\n",
      "\n",
      "    @staticmethod\n",
      "    def make(sentences, taggings):\n",
      "        tag_set = set()\n",
      "        word_counts = Counter()\n",
      "        counts = defaultdict(Counter)\n",
      "        for sentence, tags in izip(sentences, taggings):\n",
      "            #print sentence, tags\n",
      "            for word, tag in izip(sentence, tags):\n",
      "                counts[word][tag.tag] += 1\n",
      "                word_counts[word] += 1\n",
      "                tag_set.add(tag.tag)\n",
      "        print tag_set\n",
      "        return Dictionary(counts, word_counts, tag_set)\n",
      "\n",
      "    "
     ],
     "language": "python",
     "outputs": [],
     "prompt_number": 192
    },
    {
     "cell_type": "code",
     "collapsed": false,
     "input": [
      "class Bigram(namedtuple(\"Bigram\", [\"position\", \"prevtag\", \"tag\"])):\n",
      "    def __str__(self): return \"%s -> %s\"%(self.prevtag, self.tag)\n",
      "    \n",
      "    @staticmethod\n",
      "    def from_tagging(tagging):\n",
      "        return [Bigram(i, tag=tag, prevtag=tagging[i-1] if i > 0 else \"<t>\")\n",
      "                for i, tag in enumerate(tagging)] + [Bigram(len(tagging), tag=\"</t>\", prevtag=tagging[-1])] \n",
      "      \n",
      "class Tagged(namedtuple(\"Tagged\", [\"position\",  \"tag\"])):\n",
      "    def __str__(self): return \"%s\"%(self.tag,)"
     ],
     "language": "python",
     "outputs": [],
     "prompt_number": 193
    },
    {
     "cell_type": "code",
     "collapsed": false,
     "input": [
      "class TaggingCRFModel(model.DynamicProgrammingModel):\n",
      "    def initialize(self, sentences, tags):\n",
      "        self.dictionary = Dictionary.make(sentences, tags)\n",
      "        super(TaggingCRFModel, self).initialize(sentences, tags)\n",
      "\n",
      "\n",
      "    def dynamic_program(self, sentence, c):\n",
      "        words = [\"ROOT\"] + sentence + [\"END\"]\n",
      "        c.init(Tagged(0, \"<t>\"))\n",
      "        for i, word in enumerate(words[1:], 1):\n",
      "            prev_tags = self.dictionary.emission(words[i-1])\n",
      "            for tag in self.dictionary.emission(word):\n",
      "                c[Tagged(i, tag)] = \\\n",
      "                    c.sum([c[key] * c.sr(Bigram(i - 1, prev, tag))\n",
      "                           for prev in prev_tags \n",
      "                           for key in [Tagged(i - 1, prev)] \n",
      "                           if key in c])\n",
      "        return c\n",
      "\n",
      "    def initialize_features(self, sentence):\n",
      "        return [self.dictionary.word_id(word) for word in sentence]\n",
      "\n",
      "    def factored_psi(self, sentence, bigram, data):\n",
      "        word = sentence[bigram.position] if bigram.position < len(sentence) else \"END\"\n",
      "        return {\"word:tag:%s:%s\" % (bigram.tag, word) : 1, \n",
      "                \"word:%s\" %  word : 1, \n",
      "                \"tag-1:%s\" % bigram.prevtag : 1, \n",
      "                \"tag:%s\" % bigram.tag : 1,\n",
      "                \"bi:%s:%s\" % (bigram.prevtag, bigram.tag): 1,\n",
      "                }"
     ],
     "language": "python",
     "outputs": [],
     "prompt_number": 194
    },
    {
     "cell_type": "code",
     "collapsed": false,
     "input": [
      "data_X = map(lambda a: a.split(),\n",
      "             [\"the dog walked\",\n",
      "              \"in the park\",\n",
      "              \"in the dog\"])\n",
      "data_Y = map(lambda a: Bigram.from_tagging(a.split()),\n",
      "             [\"D N V\", \"I D N\", \"I D N\"])"
     ],
     "language": "python",
     "outputs": [],
     "prompt_number": 195
    },
    {
     "cell_type": "code",
     "collapsed": false,
     "input": [
      "def parse_training(handle):\n",
      "    x = []\n",
      "    y = []\n",
      "    for l in handle:\n",
      "        if not l.strip():\n",
      "            yield (x, y)\n",
      "            x = []\n",
      "            y = []\n",
      "        else:\n",
      "            word, tag = l.split()\n",
      "            x.append(word)\n",
      "            y.append(tag)\n",
      "    yield (x, y)\n",
      "data_X, data_Y = zip(*parse_training(open(\"tag/tag_train_small.dat\")))\n",
      "data_Y = [Bigram.from_tagging(t) for t in data_Y] "
     ],
     "language": "python",
     "outputs": [],
     "prompt_number": 196
    },
    {
     "cell_type": "code",
     "collapsed": false,
     "input": [
      "hm = TaggingCRFModel()\n",
      "hm.initialize(data_X, data_Y)\n",
      "for i in range(len(data_X))[:10]:\n",
      "    s = set(data_Y[i])\n",
      "    c = chart.ChartBuilder(lambda a: a,\n",
      "                           chart.HypergraphSemiRing, True)\n",
      "    hm.dynamic_program(data_X[i], c)\n",
      "    h = c.finish()\n",
      "    bool_pot = ph.BoolPotentials(h).build(lambda a: a in s)\n",
      "    path = ph.best_path(h, bool_pot)\n",
      "    #for edge in path: print h.label(edge)\n",
      "    assert bool_pot.dot(path)"
     ],
     "language": "python",
     "outputs": [
      {
       "output_type": "stream",
       "stream": "stdout",
       "text": [
        "set(['ADV', 'NOUN', 'ADP', 'PRT', 'DET', '.', 'PRON', 'VERB', 'X', 'NUM', 'CONJ', 'ADJ'])\n"
       ]
      }
     ],
     "prompt_number": 245
    },
    {
     "cell_type": "code",
     "collapsed": false,
     "input": [
      "print data_Y[0]"
     ],
     "language": "python",
     "outputs": [
      {
       "output_type": "stream",
       "stream": "stdout",
       "text": [
        "[Bigram(position=0, prevtag='<t>', tag='NOUN'), Bigram(position=1, prevtag='NOUN', tag='NOUN'), Bigram(position=2, prevtag='NOUN', tag='VERB'), Bigram(position=3, prevtag='VERB', tag='NOUN'), Bigram(position=4, prevtag='NOUN', tag='.'), Bigram(position=5, prevtag='.', tag='</t>')]\n"
       ]
      }
     ],
     "prompt_number": 205
    },
    {
     "cell_type": "code",
     "collapsed": false,
     "input": [
      "from pystruct.learners import StructuredPerceptron\n",
      "hm = TaggingCRFModel()\n",
      "sp = StructuredPerceptron(hm, verbose=1, max_iter=5)\n",
      "\n",
      "with warnings.catch_warnings():\n",
      "    warnings.simplefilter(\"ignore\")\n",
      "   # sp.fit(data_X, data_Y)\n"
     ],
     "language": "python",
     "outputs": [],
     "prompt_number": 259
    },
    {
     "cell_type": "code",
     "collapsed": false,
     "input": [
      "wordfs = \"Ms. Haag plays Elianti .\".split()\n",
      "sp.predict([words])"
     ],
     "language": "python",
     "outputs": [
      {
       "ename": "AttributeError",
       "evalue": "'StructuredPerceptron' object has no attribute 'w'",
       "output_type": "pyerr",
       "traceback": [
        "\u001b[1;31m---------------------------------------------------------------------------\u001b[0m\n\u001b[1;31mAttributeError\u001b[0m                            Traceback (most recent call last)",
        "\u001b[1;32m<ipython-input-206-9d8d4d1c3ad2>\u001b[0m in \u001b[0;36m<module>\u001b[1;34m()\u001b[0m\n\u001b[0;32m      1\u001b[0m \u001b[0mwordfs\u001b[0m \u001b[1;33m=\u001b[0m \u001b[1;34m\"Ms. Haag plays Elianti .\"\u001b[0m\u001b[1;33m.\u001b[0m\u001b[0msplit\u001b[0m\u001b[1;33m(\u001b[0m\u001b[1;33m)\u001b[0m\u001b[1;33m\u001b[0m\u001b[0m\n\u001b[1;32m----> 2\u001b[1;33m \u001b[0msp\u001b[0m\u001b[1;33m.\u001b[0m\u001b[0mpredict\u001b[0m\u001b[1;33m(\u001b[0m\u001b[1;33m[\u001b[0m\u001b[0mwords\u001b[0m\u001b[1;33m]\u001b[0m\u001b[1;33m)\u001b[0m\u001b[1;33m\u001b[0m\u001b[0m\n\u001b[0m",
        "\u001b[1;32m/usr/local/lib/python2.7/dist-packages/pystruct/learners/ssvm.pyc\u001b[0m in \u001b[0;36mpredict\u001b[1;34m(self, X)\u001b[0m\n\u001b[0;32m     40\u001b[0m         \u001b[1;32melse\u001b[0m\u001b[1;33m:\u001b[0m\u001b[1;33m\u001b[0m\u001b[0m\n\u001b[0;32m     41\u001b[0m             \u001b[1;32mif\u001b[0m \u001b[0mhasattr\u001b[0m\u001b[1;33m(\u001b[0m\u001b[0mself\u001b[0m\u001b[1;33m.\u001b[0m\u001b[0mmodel\u001b[0m\u001b[1;33m,\u001b[0m \u001b[1;34m'batch_inference'\u001b[0m\u001b[1;33m)\u001b[0m\u001b[1;33m:\u001b[0m\u001b[1;33m\u001b[0m\u001b[0m\n\u001b[1;32m---> 42\u001b[1;33m                 \u001b[1;32mreturn\u001b[0m \u001b[0mself\u001b[0m\u001b[1;33m.\u001b[0m\u001b[0mmodel\u001b[0m\u001b[1;33m.\u001b[0m\u001b[0mbatch_inference\u001b[0m\u001b[1;33m(\u001b[0m\u001b[0mX\u001b[0m\u001b[1;33m,\u001b[0m \u001b[0mself\u001b[0m\u001b[1;33m.\u001b[0m\u001b[0mw\u001b[0m\u001b[1;33m)\u001b[0m\u001b[1;33m\u001b[0m\u001b[0m\n\u001b[0m\u001b[0;32m     43\u001b[0m             \u001b[1;32mreturn\u001b[0m \u001b[1;33m[\u001b[0m\u001b[0mself\u001b[0m\u001b[1;33m.\u001b[0m\u001b[0mmodel\u001b[0m\u001b[1;33m.\u001b[0m\u001b[0minference\u001b[0m\u001b[1;33m(\u001b[0m\u001b[0mx\u001b[0m\u001b[1;33m,\u001b[0m \u001b[0mself\u001b[0m\u001b[1;33m.\u001b[0m\u001b[0mw\u001b[0m\u001b[1;33m)\u001b[0m \u001b[1;32mfor\u001b[0m \u001b[0mx\u001b[0m \u001b[1;32min\u001b[0m \u001b[0mX\u001b[0m\u001b[1;33m]\u001b[0m\u001b[1;33m\u001b[0m\u001b[0m\n\u001b[0;32m     44\u001b[0m \u001b[1;33m\u001b[0m\u001b[0m\n",
        "\u001b[1;31mAttributeError\u001b[0m: 'StructuredPerceptron' object has no attribute 'w'"
       ]
      }
     ],
     "prompt_number": 206
    },
    {
     "cell_type": "code",
     "collapsed": false,
     "input": [
      "c = Counter()\n",
      "c[\"ell\"] += 20\n",
      "c.keys()"
     ],
     "language": "python",
     "outputs": [
      {
       "output_type": "pyout",
       "prompt_number": 200,
       "text": [
        "['ell']"
       ]
      }
     ],
     "prompt_number": 200
    },
    {
     "cell_type": "code",
     "collapsed": false,
     "input": [
      "# from  pystruct.plot_learning import plot_learning\n",
      "# plot_learning(sp)"
     ],
     "language": "python",
     "outputs": [],
     "prompt_number": 201
    }
   ]
  }
 ]
}