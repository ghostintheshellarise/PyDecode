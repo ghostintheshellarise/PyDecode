{
 "metadata": {
  "name": ""
 },
 "nbformat": 3,
 "nbformat_minor": 0,
 "worksheets": [
  {
   "cells": [
    {
     "cell_type": "code",
     "collapsed": false,
     "input": [
      "n = 6"
     ],
     "language": "python",
     "outputs": [],
     "prompt_number": 24
    },
    {
     "cell_type": "code",
     "collapsed": false,
     "input": [
      "import pydecode.hyper as ph\n",
      "import pydecode.chart as chart\n",
      "import numpy as np"
     ],
     "language": "python",
     "outputs": [],
     "prompt_number": 25
    },
    {
     "cell_type": "code",
     "collapsed": false,
     "input": [
      "def make_lattice(c):\n",
      "    for k in range(n):\n",
      "        c.init((0,k))\n",
      "    for i in range(1,n):\n",
      "        for j in range(n):\n",
      "            c[(i,j)] = c.sum([c[i-1,k] for k in range(n if i > 1 else 1) ])\n",
      "    return c"
     ],
     "language": "python",
     "outputs": [],
     "prompt_number": 26
    },
    {
     "cell_type": "code",
     "collapsed": false,
     "input": [
      "c = chart.ChartBuilder(lambda a: a, semiring=chart.HypergraphSemiRing, build_hypergraph=True)\n",
      "h = make_lattice(c).finish()"
     ],
     "language": "python",
     "outputs": [],
     "prompt_number": 27
    },
    {
     "cell_type": "code",
     "collapsed": false,
     "input": [
      "# import pydecode.display as display\n",
      "# display.HypergraphFormatter(h).to_ipython()"
     ],
     "language": "python",
     "outputs": [],
     "prompt_number": 28
    },
    {
     "cell_type": "code",
     "collapsed": false,
     "input": [
      "p = np.random.random(len(h.edges))\n",
      "w = ph.LogViterbiPotentials(h).from_array(p)"
     ],
     "language": "python",
     "outputs": [],
     "prompt_number": 29
    },
    {
     "cell_type": "code",
     "collapsed": false,
     "input": [
      "ins = ph.inside(h, w)\n",
      "out = ph.outside(h, w, ins)"
     ],
     "language": "python",
     "outputs": [],
     "prompt_number": 30
    },
    {
     "cell_type": "code",
     "collapsed": false,
     "input": [
      "def build_constraints(edge):\n",
      "    b = ph.Bitset()\n",
      "    i, j = edge.head.label\n",
      "    b[j] = 1\n",
      "    return b\n",
      "cons1 = ph.BinaryVectorPotentials(h).from_vector([build_constraints(edge) for edge in h.edges])"
     ],
     "language": "python",
     "outputs": [],
     "prompt_number": 31
    },
    {
     "cell_type": "code",
     "collapsed": false,
     "input": [
      "k = [0, 1, 2, 1, 5, 2] \n",
      "def build_constraints(edge):\n",
      "    b = [-1] * 26\n",
      "    i, j = edge.head.label\n",
      "    b[k[i]] = j\n",
      "    return b\n",
      "cons2 = ph.AlphabetPotentials(h).from_vector([build_constraints(edge) \n",
      "                                             for edge in h.edges])"
     ],
     "language": "python",
     "outputs": [],
     "prompt_number": 32
    },
    {
     "cell_type": "code",
     "collapsed": false,
     "input": [
      "# for edge in h.edges:\n",
      "#     print cons[edge]"
     ],
     "language": "python",
     "outputs": [],
     "prompt_number": 33
    },
    {
     "cell_type": "code",
     "collapsed": false,
     "input": [
      "groups = [node.label[0] for node in h.nodes]\n",
      "num_groups = max(groups) + 1\n",
      "beam_chart = ph.beam_search_Alphabet(h, w, cons2, out, -10000, [node.label[0] for node in h.nodes], [10] * num_groups, num_groups)"
     ],
     "language": "python",
     "outputs": [],
     "prompt_number": 34
    },
    {
     "cell_type": "code",
     "collapsed": false,
     "input": [
      "from collections import defaultdict\n",
      "d = defaultdict(list)\n",
      "for i, g in enumerate(groups):\n",
      "    d[g].append(i)"
     ],
     "language": "python",
     "outputs": [],
     "prompt_number": 35
    },
    {
     "cell_type": "code",
     "collapsed": false,
     "input": [
      "def show_alphabet(alpha):\n",
      "    for i, a in enumerate(alpha):\n",
      "        if a != -1:\n",
      "            print chr(ord(\"A\")+ i) + \"->\"+  chr(ord(\"A\")+ a),\n",
      "    print"
     ],
     "language": "python",
     "outputs": [],
     "prompt_number": 36
    },
    {
     "cell_type": "code",
     "collapsed": false,
     "input": [
      "for g in d:\n",
      "    print \"Group \" + str(g)\n",
      "    for node in [h.nodes[i] for i in d[g]] :\n",
      "        print node.label\n",
      "        for (hyp, score, future) in beam_chart[node]:\n",
      "            print \"\\t\", score, \n",
      "            show_alphabet(hyp)\n",
      "            #print \" \".join(str(hyp[i]) for i in range(10))\n",
      "        print "
     ],
     "language": "python",
     "outputs": [
      {
       "output_type": "stream",
       "stream": "stdout",
       "text": [
        "Group 0\n",
        "(0, 0)\n",
        "\t0.0\n",
        "\n",
        "Group 1\n",
        "(1, 0)\n",
        "\t0.711710703161 B->A\n",
        "\n",
        "(1, 1)\n",
        "\t0.0614356931475 B->B\n",
        "\n",
        "(1, 2)\n",
        "\t0.53201036668 B->C\n",
        "\n",
        "(1, 3)\n",
        "\t0.870028470961 B->D\n",
        "\n",
        "(1, 4)\n",
        "\t0.789168176371 B->E\n",
        "\n",
        "(1, 5)\n",
        "\t0.348823343084 B->F\n",
        "\n",
        "Group 2\n",
        "(2, 0)\n",
        "\t1.24701335537 B->E C->A\n",
        "\t1.13047055222 B->D C->A\n",
        "\n",
        "(2, 1)\n",
        "\t1.51168778018 B->D C->B\n",
        "\t1.38395191144 B->C C->B\n",
        "\t1.24395011809 B->A C->B\n",
        "\t1.18852761614 B->E C->B\n",
        "\n",
        "(2, 2)\n",
        "\t1.38279865218 B->C C->C\n",
        "\n",
        "(2, 3)\n",
        "\t1.43315264511 B->C C->D\n",
        "\n",
        "(2, 4)\n",
        "\t1.69265506147 B->E C->E\n",
        "\n",
        "(2, 5)\n",
        "\t1.79868146674 B->D C->F\n",
        "\n",
        "Group 3\n",
        "(3, 0)\n",
        "\t1.77639597624 B->A C->B\n",
        "\n",
        "(3, 1)\n",
        "\n",
        "(3, 2)\n",
        "\t2.24195427247 B->C C->B\n",
        "\t1.89475931795 B->C C->D\n",
        "\t1.57302825311 B->C C->C\n",
        "\n",
        "(3, 3)\n",
        "\t1.8092842728 B->D C->F\n",
        "\t1.77257826979 B->D C->A\n",
        "\t1.61034782245 B->D C->B\n",
        "\n",
        "(3, 4)\n",
        "\t1.9454460321 B->E C->E\n",
        "\t1.73996693567 B->E C->B\n",
        "\t1.70051088588 B->E C->A\n",
        "\n",
        "(3, 5)\n",
        "\n",
        "Group 4\n",
        "(4, 0)\n",
        "\t2.95638867952 B->C C->B F->A\n",
        "\t2.87392635232 B->E C->E F->A\n",
        "\n",
        "(4, 1)\n",
        "\t2.6525567485 B->D C->F F->B\n",
        "\t2.61585074549 B->D C->A F->B\n",
        "\t2.45362029815 B->D C->B F->B\n",
        "\t2.2469409819 B->C C->B F->B\n",
        "\n",
        "(4, 2)\n",
        "\n",
        "(4, 3)\n",
        "\n",
        "(4, 4)\n",
        "\n",
        "(4, 5)\n",
        "\t2.93832707877 B->E C->E F->F\n",
        "\t2.73284798234 B->E C->B F->F\n",
        "\t2.69339193255 B->E C->A F->F\n",
        "\t2.54517201547 B->C C->B F->F\n",
        "\n",
        "Group 5\n",
        "(5, 5)\n",
        "\t3.57626402014 B->D C->F F->B\n",
        "\n"
       ]
      }
     ],
     "prompt_number": 37
    },
    {
     "cell_type": "code",
     "collapsed": false,
     "input": [],
     "language": "python",
     "outputs": [],
     "prompt_number": 37
    }
   ]
  }
 ]
}