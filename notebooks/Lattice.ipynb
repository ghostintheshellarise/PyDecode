{
 "metadata": {
  "name": ""
 },
 "nbformat": 3,
 "nbformat_minor": 0,
 "worksheets": [
  {
   "cells": [
    {
     "cell_type": "code",
     "collapsed": false,
     "input": [
      "n = 6"
     ],
     "language": "python",
     "outputs": [],
     "prompt_number": 24
    },
    {
     "cell_type": "code",
     "collapsed": false,
     "input": [
      "import pydecode.hyper as ph\n",
      "import pydecode.chart as chart\n",
      "import pydecode.constraints as constraints\n",
      "import numpy as np"
     ],
     "language": "python",
     "outputs": [],
     "prompt_number": 45
    },
    {
     "cell_type": "code",
     "collapsed": false,
     "input": [
      "def make_lattice(c):\n",
      "    for k in range(n):\n",
      "        c.init((0,k))\n",
      "    for i in range(1,n):\n",
      "        for j in range(n):\n",
      "            c[(i,j)] = c.sum([c[i-1,k] for k in range(n if i > 1 else 1) ])\n",
      "    return c"
     ],
     "language": "python",
     "outputs": [],
     "prompt_number": 26
    },
    {
     "cell_type": "code",
     "collapsed": false,
     "input": [
      "c = chart.ChartBuilder(lambda a: a, semiring=chart.HypergraphSemiRing, build_hypergraph=True)\n",
      "h = make_lattice(c).finish()"
     ],
     "language": "python",
     "outputs": [],
     "prompt_number": 27
    },
    {
     "cell_type": "code",
     "collapsed": false,
     "input": [
      "# import pydecode.display as display\n",
      "# display.HypergraphFormatter(h).to_ipython()"
     ],
     "language": "python",
     "outputs": [],
     "prompt_number": 28
    },
    {
     "cell_type": "code",
     "collapsed": false,
     "input": [
      "p = np.random.random(len(h.edges))\n",
      "w = ph.LogViterbiPotentials(h).from_array(p)"
     ],
     "language": "python",
     "outputs": [],
     "prompt_number": 29
    },
    {
     "cell_type": "code",
     "collapsed": false,
     "input": [
      "ins = ph.inside(h, w)\n",
      "out = ph.outside(h, w, ins)"
     ],
     "language": "python",
     "outputs": [],
     "prompt_number": 30
    },
    {
     "cell_type": "code",
     "collapsed": false,
     "input": [
      "def build_constraints(edge):\n",
      "    b = ph.Bitset()\n",
      "    i, j = edge.head.label\n",
      "    b[j] = 1\n",
      "    return b\n",
      "cons3 = ph.BinaryVectorPotentials(h).from_vector([build_constraints(edge) for edge in h.edges])"
     ],
     "language": "python",
     "outputs": [],
     "prompt_number": 60
    },
    {
     "cell_type": "code",
     "collapsed": false,
     "input": [
      "def build_constraints(edge):\n",
      "    b = []\n",
      "    i, j = edge.head.label\n",
      "    b.append((j, 1))\n",
      "    return b\n",
      "cons1 = constraints.Constraints(h, [(i,1) for i in range(n)])\\\n",
      "            .from_vector([build_constraints(edge) for edge in h.edges])"
     ],
     "language": "python",
     "outputs": [],
     "prompt_number": 49
    },
    {
     "cell_type": "code",
     "collapsed": false,
     "input": [
      "k = [0, 1, 2, 1, 5, 2] \n",
      "def build_constraints(edge):\n",
      "    b = [-1] * 26\n",
      "    i, j = edge.head.label\n",
      "    b[k[i]] = j\n",
      "    return b\n",
      "cons2 = ph.AlphabetPotentials(h).from_vector([build_constraints(edge) \n",
      "                                             for edge in h.edges])"
     ],
     "language": "python",
     "outputs": [],
     "prompt_number": 32
    },
    {
     "cell_type": "code",
     "collapsed": false,
     "input": [
      "# for edge in h.edges:\n",
      "#     print cons[edge]"
     ],
     "language": "python",
     "outputs": [],
     "prompt_number": 33
    },
    {
     "cell_type": "code",
     "collapsed": false,
     "input": [
      "groups = [node.label[0] for node in h.nodes]\n",
      "num_groups = max(groups) + 1\n",
      "beam_chart = ph.beam_search_Alphabet(h, w, cons1, out, -10000, [node.label[0] for node in h.nodes], [1000] * num_groups, num_groups)"
     ],
     "language": "python",
     "outputs": [
      {
       "ename": "TypeError",
       "evalue": "Argument 'constraints' has incorrect type (expected pydecode.potentials.AlphabetPotentials, got instance)",
       "output_type": "pyerr",
       "traceback": [
        "\u001b[1;31m---------------------------------------------------------------------------\u001b[0m\n\u001b[1;31mTypeError\u001b[0m                                 Traceback (most recent call last)",
        "\u001b[1;32m<ipython-input-62-84c7e5c52ef3>\u001b[0m in \u001b[0;36m<module>\u001b[1;34m()\u001b[0m\n\u001b[0;32m      1\u001b[0m \u001b[0mgroups\u001b[0m \u001b[1;33m=\u001b[0m \u001b[1;33m[\u001b[0m\u001b[0mnode\u001b[0m\u001b[1;33m.\u001b[0m\u001b[0mlabel\u001b[0m\u001b[1;33m[\u001b[0m\u001b[1;36m0\u001b[0m\u001b[1;33m]\u001b[0m \u001b[1;32mfor\u001b[0m \u001b[0mnode\u001b[0m \u001b[1;32min\u001b[0m \u001b[0mh\u001b[0m\u001b[1;33m.\u001b[0m\u001b[0mnodes\u001b[0m\u001b[1;33m]\u001b[0m\u001b[1;33m\u001b[0m\u001b[0m\n\u001b[0;32m      2\u001b[0m \u001b[0mnum_groups\u001b[0m \u001b[1;33m=\u001b[0m \u001b[0mmax\u001b[0m\u001b[1;33m(\u001b[0m\u001b[0mgroups\u001b[0m\u001b[1;33m)\u001b[0m \u001b[1;33m+\u001b[0m \u001b[1;36m1\u001b[0m\u001b[1;33m\u001b[0m\u001b[0m\n\u001b[1;32m----> 3\u001b[1;33m \u001b[0mbeam_chart\u001b[0m \u001b[1;33m=\u001b[0m \u001b[0mph\u001b[0m\u001b[1;33m.\u001b[0m\u001b[0mbeam_search_Alphabet\u001b[0m\u001b[1;33m(\u001b[0m\u001b[0mh\u001b[0m\u001b[1;33m,\u001b[0m \u001b[0mw\u001b[0m\u001b[1;33m,\u001b[0m \u001b[0mcons1\u001b[0m\u001b[1;33m,\u001b[0m \u001b[0mout\u001b[0m\u001b[1;33m,\u001b[0m \u001b[1;33m-\u001b[0m\u001b[1;36m10000\u001b[0m\u001b[1;33m,\u001b[0m \u001b[1;33m[\u001b[0m\u001b[0mnode\u001b[0m\u001b[1;33m.\u001b[0m\u001b[0mlabel\u001b[0m\u001b[1;33m[\u001b[0m\u001b[1;36m0\u001b[0m\u001b[1;33m]\u001b[0m \u001b[1;32mfor\u001b[0m \u001b[0mnode\u001b[0m \u001b[1;32min\u001b[0m \u001b[0mh\u001b[0m\u001b[1;33m.\u001b[0m\u001b[0mnodes\u001b[0m\u001b[1;33m]\u001b[0m\u001b[1;33m,\u001b[0m \u001b[1;33m[\u001b[0m\u001b[1;36m1000\u001b[0m\u001b[1;33m]\u001b[0m \u001b[1;33m*\u001b[0m \u001b[0mnum_groups\u001b[0m\u001b[1;33m,\u001b[0m \u001b[0mnum_groups\u001b[0m\u001b[1;33m)\u001b[0m\u001b[1;33m\u001b[0m\u001b[0m\n\u001b[0m",
        "\u001b[1;31mTypeError\u001b[0m: Argument 'constraints' has incorrect type (expected pydecode.potentials.AlphabetPotentials, got instance)"
       ]
      }
     ],
     "prompt_number": 62
    },
    {
     "cell_type": "code",
     "collapsed": false,
     "input": [
      "groups = [node.label[0] for node in h.nodes]\n",
      "num_groups = max(groups) + 1\n",
      "beam_chart = ph.beam_search_BinaryVector(h, w, cons3, out, -10000, [node.label[0] for node in h.nodes], [1000] * num_groups, num_groups)"
     ],
     "language": "python",
     "outputs": [],
     "prompt_number": 63
    },
    {
     "cell_type": "code",
     "collapsed": false,
     "input": [
      "from collections import defaultdict\n",
      "d = defaultdict(list)\n",
      "for i, g in enumerate(groups):\n",
      "    d[g].append(i)"
     ],
     "language": "python",
     "outputs": [],
     "prompt_number": 35
    },
    {
     "cell_type": "code",
     "collapsed": false,
     "input": [
      "def show_alphabet(alpha):\n",
      "    for i, a in enumerate(alpha):\n",
      "        if a != -1:\n",
      "            print chr(ord(\"A\")+ i) + \"->\"+  chr(ord(\"A\")+ a),\n",
      "    print"
     ],
     "language": "python",
     "outputs": [],
     "prompt_number": 36
    },
    {
     "cell_type": "code",
     "collapsed": false,
     "input": [
      "for g in d:\n",
      "    print \"Group \" + str(g)\n",
      "    for node in [h.nodes[i] for i in d[g]] :\n",
      "        print node.label\n",
      "        for (hyp, score, future) in beam_chart[node]:\n",
      "            print \"\\t\", score, \n",
      "            # show_alphabet(hyp)\n",
      "            print \" \".join(str(hyp[i]) for i in range(10))\n",
      "        print "
     ],
     "language": "python",
     "outputs": [
      {
       "output_type": "stream",
       "stream": "stdout",
       "text": [
        "Group 0\n",
        "(0, 0)\n",
        "\t0.0 False False False False False False False False False False\n",
        "\n",
        "Group 1\n",
        "(1, 0)\n",
        "\t0.711710703161 True False False False False False False False False False\n",
        "\n",
        "(1, 1)\n",
        "\t0.0614356931475 False True False False False False False False False False\n",
        "\n",
        "(1, 2)\n",
        "\t0.53201036668 False False True False False False False False False False\n",
        "\n",
        "(1, 3)\n",
        "\t0.870028470961 False False False True False False False False False False\n",
        "\n",
        "(1, 4)\n",
        "\t0.789168176371 False False False False True False False False False False\n",
        "\n",
        "(1, 5)\n",
        "\t0.348823343084 False False False False False True False False False False\n",
        "\n",
        "Group 2\n",
        "(2, 0)\n",
        "\t1.24701335537 True False False False True False False False False False\n",
        "\t1.13047055222 True False False True False False False False False False\n",
        "\t0.972427469276 True False False False False True False False False False\n",
        "\t0.728442710113 True False True False False False False False False False\n",
        "\t0.14642782771 True True False False False False False False False False\n",
        "\n",
        "(2, 1)\n",
        "\t1.51168778018 False True False True False False False False False False\n",
        "\t1.38395191144 False True True False False False False False False False\n",
        "\t1.24395011809 True True False False False False False False False False\n",
        "\t1.18852761614 False True False False True False False False False False\n",
        "\t0.590532727102 False True False False False True False False False False\n",
        "\n",
        "(2, 2)\n",
        "\t1.11838698429 False False True False True False False False False False\n",
        "\t1.02227262522 False False True True False False False False False False\n",
        "\t0.933791556675 True False True False False False False False False False\n",
        "\t0.807354589496 False False True False False True False False False False\n",
        "\t0.160962414651 False True True False False False False False False False\n",
        "\n",
        "(2, 3)\n",
        "\t1.43315264511 False False True True False False False False False False\n",
        "\t1.11842380427 True False False True False False False False False False\n",
        "\t1.09446272076 False False False True True False False False False False\n",
        "\t0.975727622911 False True False True False False False False False False\n",
        "\t0.626445966287 False False False True False True False False False False\n",
        "\n",
        "(2, 4)\n",
        "\t1.36318337572 True False False False True False False False False False\n",
        "\t1.32944760984 False False False False True True False False False False\n",
        "\t1.26790348299 False False False True True False False False False False\n",
        "\t0.787519295867 False False True False True False False False False False\n",
        "\t0.51916439793 False True False False True False False False False False\n",
        "\n",
        "(2, 5)\n",
        "\t1.79868146674 False False False True False True False False False False\n",
        "\t1.37291898893 False False False False True True False False False False\n",
        "\t1.0925539013 False False True False False True False False False False\n",
        "\t0.885606156481 True False False False False True False False False False\n",
        "\t0.310343455085 False True False False False True False False False False\n",
        "\n",
        "Group 3\n",
        "(3, 0)\n",
        "\t2.24074715779 True False False False True True False False False False\n",
        "\t2.04413363832 True True False True False False False False False False\n",
        "\t1.91639776958 True True True False False False False False False False\n",
        "\t1.72097347429 True True False False True False False False False False\n",
        "\t2.17920303093 True False False True True False False False False False\n",
        "\t1.69881884381 True False True False True False False False False False\n",
        "\t1.85514174586 True False True True False False False False False False\n",
        "\t1.12297858525 True True False False False True False False False False\n",
        "\t2.56930182309 True False False True False True False False False False\n",
        "\t1.86317425765 True False True False False True False False False False\n",
        "\n",
        "(3, 1)\n",
        "\t2.01138208727 True True False False True False False False False False\n",
        "\t1.89483928411 True True False True False False False False False False\n",
        "\t1.73679620117 True True False False False True False False False False\n",
        "\t1.53032552893 False True False False True True False False False False\n",
        "\t1.49281144201 True True True False False False False False False False\n",
        "\t1.43699989392 False True False True True False False False False False\n",
        "\t1.16546454473 False True True False True False False False False False\n",
        "\t1.69634385238 False True True True False False False False False False\n",
        "\t1.95608800673 False True False True False True False False False False\n",
        "\t1.24996044129 False True True False False True False False False False\n",
        "\n",
        "(3, 2)\n",
        "\t2.36969014121 False True True True False False False False False False\n",
        "\t2.04652997717 False True True False True False False False False False\n",
        "\t1.55606939361 False False True True True False False False False False\n",
        "\t1.52869814117 False False True False True True False False False False\n",
        "\t1.44853508814 False True True False False True False False False False\n",
        "\t1.56243390705 True False True False True False False False False False\n",
        "\t1.58003047711 True False True True False False False False False False\n",
        "\t1.09130025198 True False True False False True False False False False\n",
        "\t1.87705251963 False False True True False True False False False False\n",
        "\t2.10195247912 True True True False False False False False False False\n",
        "\n",
        "(3, 3)\n",
        "\t1.88912107294 True False False True True False False False False False\n",
        "\t1.70235085991 False False False True True True False False False False\n",
        "\t1.64496906777 False False True True True False False False False False\n",
        "\t1.61453518685 True False False True False True False False False False\n",
        "\t1.48261195371 False True True True False False False False False False\n",
        "\t1.46037364016 True False True True False False False False False False\n",
        "\t1.33393667298 False False True True False True False False False False\n",
        "\t1.28718765841 False True False True True False False False False False\n",
        "\t1.34261016036 True True False True False False False False False False\n",
        "\t0.689192769376 False True False True False True False False False False\n",
        "\n",
        "(3, 4)\n",
        "\t2.06312709971 False True False True True False False False False False\n",
        "\t1.93539123097 False True True False True False False False False False\n",
        "\t1.58396808272 True False False True True False False False False False\n",
        "\t1.42592499978 True False False False True True False False False False\n",
        "\t1.18194024062 True False True False True False False False False False\n",
        "\t1.14197204664 False True False False True True False False False False\n",
        "\t1.80521951326 False False True True True False False False False False\n",
        "\t2.06983592861 False False False True True True False False False False\n",
        "\t1.36370836317 False False True False True True False False False False\n",
        "\t1.79538943762 True True False False True False False False False False\n",
        "\n",
        "(3, 5)\n",
        "\t1.72519929689 False False True False True True False False False False\n",
        "\t1.74426157806 False False True True False True False False False False\n",
        "\t1.56478316364 True False False False True True False False False False\n",
        "\t1.51338675812 False True False True False True False False False False\n",
        "\t1.44824036048 True False False True False True False False False False\n",
        "\t1.43096901433 False False False True True True False False False False\n",
        "\t1.38565088938 False True True False False True False False False False\n",
        "\t1.19022659408 False True False False True True False False False False\n",
        "\t1.54060386928 True False True False False True False False False False\n",
        "\t1.24564909603 True True False False False True False False False False\n",
        "\n",
        "Group 4\n",
        "(4, 0)\n",
        "\t2.59148692668 True False True True False True False False False False\n",
        "\t2.73369983347 True False True True True False False False False False\n",
        "\t2.29218868338 True False True False True True False False False False\n",
        "\t2.99831624882 True False False True True True False False False False\n",
        "\t2.07716402092 True True False True False True False False False False\n",
        "\t3.08412454826 True True True True False False False False False False\n",
        "\t2.07045236685 True True False False True True False False False False\n",
        "\t2.99160741993 True True False True True False False False False False\n",
        "\t2.16296949519 True True True False False True False False False False\n",
        "\t2.86387155119 True True True False True False False False False False\n",
        "\n",
        "(4, 1)\n",
        "\t2.6530735718 True True False True False True False False False False\n",
        "\t2.54562333561 False True False True True True False False False False\n",
        "\t2.3245189065 True True False False True True False False False False\n",
        "\t2.73239354865 True True False True True False False False False False\n",
        "\t1.98427050586 True True True False False True False False False False\n",
        "\t2.30364611586 True True True True False False False False False False\n",
        "\t2.18792821465 False True True True False True False False False False\n",
        "\t1.78259059253 True True True False True False False False False False\n",
        "\t2.48824154347 False True True True True False False False False False\n",
        "\t2.16886593348 False True True False True True False False False False\n",
        "\n",
        "(4, 2)\n",
        "\t2.94628181918 False True True True False True False False False False\n",
        "\t2.63722875279 True False True True False True False False False False\n",
        "\t2.52051934137 False True True False True True False False False False\n",
        "\t2.59926869399 False True True True True False False False False False\n",
        "\t2.49125476674 True False True False True True False False False False\n",
        "\t2.24712996064 True False True True True False False False False False\n",
        "\t2.88503309656 True True True True False False False False False False\n",
        "\t3.00157589971 True True True False True False False False False False\n",
        "\t2.72699001362 True True True False False True False False False False\n",
        "\t2.60597752289 False False True True True True False False False False\n",
        "\n",
        "(4, 3)\n",
        "\t2.43564281484 True False False True True True False False False False\n",
        "\t2.21504254753 True True True True False False False False False False\n",
        "\t2.05806991469 True False True True False True False False False False\n",
        "\t2.48457127324 True True False True True False False False False False\n",
        "\t1.89371450086 True False True True True False False False False False\n",
        "\t2.02417442187 True True False True False True False False False False\n",
        "\t1.83115388225 False True False True True True False False False False\n",
        "\t2.05289019878 False False True True True True False False False False\n",
        "\t1.56162515654 False True True True False True False False False False\n",
        "\t2.62457306659 False True True True True False False False False False\n",
        "\n",
        "(4, 4)\n",
        "\t2.80363067357 True False False True True True False False False False\n",
        "\t2.46053828079 False True False True True True False False False False\n",
        "\t2.39928955816 True True False True True False False False False False\n",
        "\t2.60257341924 False True True True True False False False False False\n",
        "\t2.33483575716 True True True False True False False False False False\n",
        "\t2.30989350377 False False True True True True False False False False\n",
        "\t2.09750310813 True False True False True True False False False False\n",
        "\t2.43633047094 True False True True True False False False False False\n",
        "\t2.24124647522 True True False False True True False False False False\n",
        "\t1.75441071534 False True True False True True False False False False\n",
        "\n",
        "(4, 5)\n",
        "\t2.57684912939 True False False True True True False False False False\n",
        "\t2.67290788421 False True True True False True False False False False\n",
        "\t2.36078219768 True True False True False True False False False False\n",
        "\t2.40517022212 True True True False False True False False False False\n",
        "\t3.05600814638 False True False True True True False False False False\n",
        "\t1.89399953075 True False True True False True False False False False\n",
        "\t2.79810055993 False False True True True True False False False False\n",
        "\t2.7882704843 True True False False True True False False False False\n",
        "\t2.17482128729 True False True False True True False False False False\n",
        "\t2.92827227764 False True True False True True False False False False\n",
        "\n",
        "Group 5\n",
        "(5, 5)\n",
        "\t3.46036274069 True True True True False True False False False False\n",
        "\t3.65610082028 True True False True True True False False False False\n",
        "\t3.41194881511 False True True True True True False False False False\n",
        "\t3.24010974361 True True True False True True False False False False\n",
        "\t3.1099380259 True False True True True True False False False False\n",
        "\n"
       ]
      }
     ],
     "prompt_number": 64
    },
    {
     "cell_type": "code",
     "collapsed": false,
     "input": [
      "import pydecode.lp as lp\n",
      "l = lp.HypergraphLP.make_lp(h, w, integral=True)\n",
      "l.solve()\n",
      "l.objective"
     ],
     "language": "python",
     "outputs": [
      {
       "output_type": "pyout",
       "prompt_number": 54,
       "text": [
        "3.8462270712818762"
       ]
      }
     ],
     "prompt_number": 54
    }
   ]
  }
 ]
}