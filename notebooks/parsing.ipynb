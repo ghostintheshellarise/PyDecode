{
 "metadata": {
  "name": ""
 },
 "nbformat": 3,
 "nbformat_minor": 0,
 "worksheets": [
  {
   "cells": [
    {
     "cell_type": "heading",
     "level": 1,
     "source": [
      "Tutorial 4: Dependency Parsing"
     ]
    },
    {
     "cell_type": "code",
     "collapsed": false,
     "input": [
      "sentence = \"the man walked to the park\""
     ],
     "language": "python",
     "outputs": [],
     "prompt_number": 1
    },
    {
     "cell_type": "code",
     "collapsed": false,
     "input": [
      "import pydecode.hyper as ph\n",
      "import pydecode.display as display\n",
      "from collections import namedtuple, defaultdict\n",
      "import random\n",
      "random.seed(0)"
     ],
     "language": "python",
     "outputs": [],
     "prompt_number": 2
    },
    {
     "cell_type": "code",
     "collapsed": false,
     "input": [
      "Tri = \"tri\"\n",
      "Trap = \"trap\"\n",
      "Right = \"right\"\n",
      "Left = \"left\"\n",
      "class NodeType(namedtuple(\"NodeType\", [\"type\", \"dir\", \"span\"])):\n",
      "    def __str__(self):\n",
      "        return \"%s %s %d-%d\"%(self.type, self.dir, self.span[0], self.span[1])\n",
      "\n",
      "class Arc(namedtuple(\"Arc\", [\"head_index\", \"modifier_index\"])):\n",
      "    pass"
     ],
     "language": "python",
     "outputs": [],
     "prompt_number": 3
    },
    {
     "cell_type": "code",
     "collapsed": false,
     "input": [
      "def first_order(sentence, c):\n",
      "    tokens = [\"*\"] + sentence.split()\n",
      "    n = len(tokens)\n",
      "\n",
      "    # Add terminal nodes.\n",
      "    [c.init(NodeType(sh, d, (s, s)))\n",
      "     for s in range(n) \n",
      "     for d in [Right, Left]\n",
      "     for sh in [Trap, Tri]]\n",
      "    \n",
      "    for k in range(1, n):\n",
      "        for s in range(n):\n",
      "            t = k + s\n",
      "            if t >= n: break\n",
      "            span = (s, t)\n",
      "            \n",
      "            # First create incomplete items.            \n",
      "            c[NodeType(Trap, Left, span)] = \\\n",
      "                c.sum([c[NodeType(Tri, Right, (s, r))] * c[NodeType(Tri, Left, (r+1, t))] * c.sr(Arc(r, s))\n",
      "                       for r in range(s, t)])\n",
      "\n",
      "            c[NodeType(Trap, Right, span)] = \\\n",
      "                c.sum([c[NodeType(Tri, Right, (s, r))] * c[NodeType(Tri, Left, (r+1, t))] * c.sr(Arc(head_index=s, modifier_index=r))\n",
      "                       for r in range(s, t)])\n",
      "            \n",
      "            # Second create complete items.\n",
      "            c[NodeType(Tri, Left, span)] = \\\n",
      "                c.sum([c[NodeType(Tri, Left, (s, r))] * c[NodeType(Trap, Left, (r, t))]\n",
      "                       for r in range(s, t)])\n",
      "\n",
      "            c[NodeType(Tri, Right, span)] = \\\n",
      "                c.sum([c[NodeType(Trap, Right, (s, r))] * c[NodeType(Tri, Right, (r, t))]\n",
      "                       for r in range(s + 1, t + 1)])\n",
      "    return c\n",
      "import pydecode.chart as chart\n",
      "sentence = \"fans went wild\"\n",
      "c = chart.ChartBuilder(lambda a: a, \n",
      "                       chart.HypergraphSemiRing, \n",
      "                       build_hypergraph = True, strict=False)\n",
      "the_chart = first_order(sentence, c)\n",
      "hypergraph = the_chart.finish()"
     ],
     "language": "python",
     "outputs": [
      {
       "ename": "TypeError",
       "evalue": "not all arguments converted during string formatting",
       "output_type": "pyerr",
       "traceback": [
        "\u001b[1;31m---------------------------------------------------------------------------\u001b[0m\n\u001b[1;31mTypeError\u001b[0m                                 Traceback (most recent call last)",
        "\u001b[1;32m<ipython-input-4-78d652f2fde9>\u001b[0m in \u001b[0;36m<module>\u001b[1;34m()\u001b[0m\n\u001b[0;32m     34\u001b[0m                        \u001b[0mchart\u001b[0m\u001b[1;33m.\u001b[0m\u001b[0mHypergraphSemiRing\u001b[0m\u001b[1;33m,\u001b[0m\u001b[1;33m\u001b[0m\u001b[0m\n\u001b[0;32m     35\u001b[0m                        build_hypergraph = True)\n\u001b[1;32m---> 36\u001b[1;33m \u001b[0mthe_chart\u001b[0m \u001b[1;33m=\u001b[0m \u001b[0mfirst_order\u001b[0m\u001b[1;33m(\u001b[0m\u001b[0msentence\u001b[0m\u001b[1;33m,\u001b[0m \u001b[0mc\u001b[0m\u001b[1;33m)\u001b[0m\u001b[1;33m\u001b[0m\u001b[0m\n\u001b[0m\u001b[0;32m     37\u001b[0m \u001b[0mhypergraph\u001b[0m \u001b[1;33m=\u001b[0m \u001b[0mthe_chart\u001b[0m\u001b[1;33m.\u001b[0m\u001b[0mfinish\u001b[0m\u001b[1;33m(\u001b[0m\u001b[1;33m)\u001b[0m\u001b[1;33m\u001b[0m\u001b[0m\n",
        "\u001b[1;32m<ipython-input-4-78d652f2fde9>\u001b[0m in \u001b[0;36mfirst_order\u001b[1;34m(sentence, c)\u001b[0m\n\u001b[0;32m     17\u001b[0m             \u001b[1;31m# First create incomplete items.\u001b[0m\u001b[1;33m\u001b[0m\u001b[1;33m\u001b[0m\u001b[0m\n\u001b[0;32m     18\u001b[0m             c[NodeType(Trap, Left, span)] =                 c.sum([c[NodeType(Tri, Right, (s, r))] * c[NodeType(Tri, Left, (r+1, t))] * c.sr(Arc(r, s))\n\u001b[1;32m---> 19\u001b[1;33m                        for r in range(s, t)])\n\u001b[0m\u001b[0;32m     20\u001b[0m \u001b[1;33m\u001b[0m\u001b[0m\n\u001b[0;32m     21\u001b[0m             c[NodeType(Trap, Right, span)] =                 c.sum([c[NodeType(Tri, Right, (s, r))] * c[NodeType(Tri, Left, (r+1, t))] * c.sr(Arc(head_index=s, modifier_index=r))\n",
        "\u001b[1;32m/home/srush/Projects/decoding/python/pydecode/chart.pyc\u001b[0m in \u001b[0;36m__getitem__\u001b[1;34m(self, label)\u001b[0m\n\u001b[0;32m    130\u001b[0m     \u001b[1;32mdef\u001b[0m \u001b[0m__getitem__\u001b[0m\u001b[1;33m(\u001b[0m\u001b[0mself\u001b[0m\u001b[1;33m,\u001b[0m \u001b[0mlabel\u001b[0m\u001b[1;33m)\u001b[0m\u001b[1;33m:\u001b[0m\u001b[1;33m\u001b[0m\u001b[0m\n\u001b[0;32m    131\u001b[0m         \u001b[1;32mif\u001b[0m \u001b[0mself\u001b[0m\u001b[1;33m.\u001b[0m\u001b[0m_strict\u001b[0m\u001b[1;33m:\u001b[0m\u001b[1;33m\u001b[0m\u001b[0m\n\u001b[1;32m--> 132\u001b[1;33m             \u001b[1;32mraise\u001b[0m \u001b[0mException\u001b[0m\u001b[1;33m(\u001b[0m\u001b[1;34m\"Label not in chart: %s\"\u001b[0m\u001b[1;33m%\u001b[0m\u001b[0mlabel\u001b[0m\u001b[1;33m)\u001b[0m\u001b[1;33m\u001b[0m\u001b[0m\n\u001b[0m\u001b[0;32m    133\u001b[0m         \u001b[1;32mif\u001b[0m \u001b[0mself\u001b[0m\u001b[1;33m.\u001b[0m\u001b[0m_debug\u001b[0m\u001b[1;33m:\u001b[0m\u001b[1;33m\u001b[0m\u001b[0m\n\u001b[0;32m    134\u001b[0m             \u001b[1;32mprint\u001b[0m \u001b[1;33m>>\u001b[0m\u001b[0msys\u001b[0m\u001b[1;33m.\u001b[0m\u001b[0mstderr\u001b[0m\u001b[1;33m,\u001b[0m \u001b[1;34m\"Getting\"\u001b[0m\u001b[1;33m,\u001b[0m \u001b[0mlabel\u001b[0m\u001b[1;33m,\u001b[0m \u001b[0mlabel\u001b[0m \u001b[1;32min\u001b[0m \u001b[0mself\u001b[0m\u001b[1;33m.\u001b[0m\u001b[0m_chart\u001b[0m\u001b[1;33m\u001b[0m\u001b[0m\n",
        "\u001b[1;31mTypeError\u001b[0m: not all arguments converted during string formatting"
       ]
      }
     ],
     "prompt_number": 4
    },
    {
     "cell_type": "code",
     "collapsed": false,
     "input": [
      "def build_potentials(arc):\n",
      "    print arc\n",
      "    return random.random()\n",
      "potentials = ph.Potentials(hypergraph).build(build_potentials)\n",
      "\n",
      "# phyper, ppotentials = ph.prune_hypergraph(hypergraph, potentials, 0.5)"
     ],
     "language": "python",
     "outputs": []
    },
    {
     "cell_type": "code",
     "collapsed": false,
     "input": [
      "path = ph.best_path(hypergraph, potentials)\n",
      "best = potentials.dot(path)\n",
      "maxmarginals = ph.compute_marginals(hypergraph, potentials)\n",
      "avg = 0.0\n",
      "for edge in hypergraph.edges:\n",
      "    avg += float(maxmarginals[edge])\n",
      "avg = avg / float(len(hypergraph.edges))\n",
      "thres = ((0.9) * best + (0.1) * avg)\n",
      "\n",
      "kept = set()\n",
      "for edge in hypergraph.edges:\n",
      "    score = float(maxmarginals[edge])\n",
      "    if score >= thres:\n",
      "        kept.add(edge.id)"
     ],
     "language": "python",
     "outputs": []
    },
    {
     "cell_type": "code",
     "collapsed": false,
     "input": [
      "potentials = ph.InsidePotentials(hypergraph).build(build_potentials)\n",
      "marginals = ph.compute_marginals(hypergraph, potentials)\n",
      "base = marginals[hypergraph.root]\n",
      "for edge in hypergraph.edges:\n",
      "    print marginals[edge].value / base.value"
     ],
     "language": "python",
     "outputs": []
    },
    {
     "cell_type": "code",
     "collapsed": false,
     "input": [
      "phyper, ppotentials = ph.prune_hypergraph(hypergraph, potentials, 0.1)"
     ],
     "language": "python",
     "outputs": []
    },
    {
     "cell_type": "code",
     "collapsed": false,
     "input": [
      "import pydecode.lp as lp\n",
      "hyperlp = lp.HypergraphLP.make_lp(phyper, ppotentials)\n",
      "hyperlp.lp.writeLP(\"parse.lp\")"
     ],
     "language": "python",
     "outputs": []
    },
    {
     "cell_type": "code",
     "collapsed": false,
     "input": [
      "class ParseFormat(display.HypergraphPathFormatter):\n",
      "    def __init__(self, hypergraph, sentence, path):\n",
      "        self.path = path\n",
      "        self.hypergraph = hypergraph\n",
      "        self.sentence = sentence\n",
      "    def graph_attrs(self):\n",
      "        return {\"rankdir\": \"TB\", \"clusterrank\": \"local\"}\n",
      "    def hypernode_attrs(self, node):\n",
      "        label = self.hypergraph.node_label(node)\n",
      "        return {\"image\": \n",
      "                (\"triangle\" if label.type == Tri else \"trap\") + \"-\" + \n",
      "                (\"right\" if label.dir == Right else \"left\") + \".png\",\n",
      "                \"labelloc\": \"t\",\n",
      "                \"shape\": \"rect\",\n",
      "                \"style\" : \"dashed\",\n",
      "                \"label\": \"%d-%d\"%(label.span[0], label.span[1]) \n",
      "                if label.span[0] != label.span[1] else \n",
      "                ([\"*\"] + sentence.split())[label.span[0]],\n",
      "\n",
      "                }\n",
      "    def hypernode_subgraph(self, node):\n",
      "        label = self.hypergraph.node_label(node)\n",
      "        if label.span[0] == label.span[1]:\n",
      "            return [(\"clust_terminals\", label.span[0] + (0.5 if label.dir == Right else 0))]\n",
      "        return []\n",
      "    def subgraph_format(self, subgraph):\n",
      "        return {\"rank\": \"same\"}\n",
      "    def hyperedge_node_attrs(self, edge):\n",
      "        return {\"shape\": \"point\"}\n",
      "    def hyperedge_attrs(self, edge):\n",
      "        return {\"arrowhead\": \"none\", \n",
      "                \"color\": \"orange\" if edge in self.path else \"black\",\n",
      "                \"penwidth\": 5 if edge in self.path else 1}\n",
      "\n",
      "ParseFormat(hypergraph, sentence, path).to_ipython()"
     ],
     "language": "python",
     "outputs": []
    },
    {
     "cell_type": "code",
     "collapsed": false,
     "input": [
      "import networkx as nx\n",
      "from networkx.readwrite import json_graph\n",
      "import json\n",
      "G = ParseFormat(hypergraph, sentence, path).to_graphviz()\n",
      "G2 = nx.from_agraph(G)\n",
      "d = json_graph.node_link_data(G2) # node-link format to serialize\n",
      "# write json \n",
      "json.dump(d, open('force.json','w'))\n",
      "#nx.write_gexf(G2, \"test_graph.gexf\")"
     ],
     "language": "python",
     "outputs": []
    }
   ]
  }
 ]
}