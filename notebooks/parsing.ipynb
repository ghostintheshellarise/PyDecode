{
 "metadata": {
  "name": ""
 },
 "nbformat": 3,
 "nbformat_minor": 0,
 "worksheets": [
  {
   "cells": [
    {
     "cell_type": "heading",
     "level": 1,
     "source": [
      "Tutorial 4: Dependency Parsing"
     ]
    },
    {
     "cell_type": "code",
     "collapsed": false,
     "input": [
      "sentence = \"the man walked to the park\""
     ],
     "language": "python",
     "outputs": [],
     "prompt_number": 12
    },
    {
     "cell_type": "code",
     "collapsed": false,
     "input": [
      "import pydecode.hyper as ph\n",
      "import pydecode.display as display\n",
      "from collections import namedtuple, defaultdict\n",
      "import random\n",
      "random.seed(0)"
     ],
     "language": "python",
     "outputs": [],
     "prompt_number": 13
    },
    {
     "cell_type": "code",
     "collapsed": false,
     "input": [
      "Tri = \"tri\"\n",
      "Trap = \"trap\"\n",
      "Right = \"right\"\n",
      "Left = \"left\"\n",
      "class NodeType(namedtuple(\"NodeType\", [\"type\", \"dir\", \"span\"])):\n",
      "    def __str__(self):\n",
      "        return \"%s %s %d-%d\"%(self.type, self.dir, self.span[0], self.span[1])\n",
      "\n",
      "class Arc(namedtuple(\"Arc\", [\"head_index\", \"modifier_index\"])):\n",
      "    pass"
     ],
     "language": "python",
     "outputs": [],
     "prompt_number": 14
    },
    {
     "cell_type": "code",
     "collapsed": false,
     "input": [
      "def first_order(sentence, c):\n",
      "    tokens = [\"*\"] + sentence.split()\n",
      "    n = len(tokens)\n",
      "\n",
      "    # Add terminal nodes.\n",
      "    [c.init(NodeType(sh, d, (s, s)))\n",
      "     for s in range(n) \n",
      "     for d in [Right, Left]\n",
      "     for sh in [Trap, Tri]]\n",
      "    \n",
      "    for k in range(1, n):\n",
      "        for s in range(n):\n",
      "            t = k + s\n",
      "            if t >= n: break\n",
      "            span = (s, t)\n",
      "            \n",
      "            # First create incomplete items.            \n",
      "            c[NodeType(Trap, Left, span)] = \\\n",
      "                c.sum([c[NodeType(Tri, Right, (s, r))] * c[NodeType(Tri, Left, (r+1, t))] * c.sr(Arc(r, s))\n",
      "                       for r in range(s, t)])\n",
      "\n",
      "            c[NodeType(Trap, Right, span)] = \\\n",
      "                c.sum([c[NodeType(Tri, Right, (s, r))] * c[NodeType(Tri, Left, (r+1, t))] * c.sr(Arc(head_index=s, modifier_index=r))\n",
      "                       for r in range(s, t)])\n",
      "            \n",
      "            # Second create complete items.\n",
      "            c[NodeType(Tri, Left, span)] = \\\n",
      "                c.sum([c[NodeType(Tri, Left, (s, r))] * c[NodeType(Trap, Left, (r, t))]\n",
      "                       for r in range(s, t)])\n",
      "\n",
      "            c[NodeType(Tri, Right, span)] = \\\n",
      "                c.sum([c[NodeType(Trap, Right, (s, r))] * c[NodeType(Tri, Right, (r, t))]\n",
      "                       for r in range(s + 1, t + 1)])\n",
      "    return c\n",
      "import pydecode.chart as chart\n",
      "sentence = \"fans went wild\"\n",
      "c = chart.ChartBuilder(lambda a: a, \n",
      "                       chart.HypergraphSemiRing, \n",
      "                       build_hypergraph = True)\n",
      "the_chart = first_order(sentence, c)\n",
      "hypergraph = the_chart.finish()"
     ],
     "language": "python",
     "outputs": [],
     "prompt_number": 15
    },
    {
     "cell_type": "code",
     "collapsed": false,
     "input": [
      "def build_weights(arc):\n",
      "    print arc\n",
      "    return random.random()\n",
      "weights = ph.Weights(hypergraph).build(build_weights)\n",
      "\n",
      "# phyper, pweights = ph.prune_hypergraph(hypergraph, weights, 0.5)"
     ],
     "language": "python",
     "outputs": [
      {
       "output_type": "stream",
       "stream": "stdout",
       "text": [
        "Arc(head_index=0, modifier_index=0)\n",
        "None\n",
        "Arc(head_index=1, modifier_index=1)\n",
        "Arc(head_index=1, modifier_index=1)\n",
        "None\n",
        "None\n",
        "Arc(head_index=2, modifier_index=2)\n",
        "Arc(head_index=2, modifier_index=2)\n",
        "None\n",
        "None\n",
        "Arc(head_index=0, modifier_index=0)\n",
        "Arc(head_index=0, modifier_index=1)\n",
        "None\n",
        "None\n",
        "Arc(head_index=1, modifier_index=1)\n",
        "Arc(head_index=2, modifier_index=1)\n",
        "Arc(head_index=1, modifier_index=1)\n",
        "Arc(head_index=1, modifier_index=2)\n",
        "None\n",
        "None\n",
        "None\n",
        "None\n",
        "Arc(head_index=0, modifier_index=0)\n",
        "Arc(head_index=0, modifier_index=1)\n",
        "Arc(head_index=0, modifier_index=2)\n",
        "None\n",
        "None\n",
        "None\n"
       ]
      }
     ],
     "prompt_number": 16
    },
    {
     "cell_type": "code",
     "collapsed": false,
     "input": [
      "path = ph.best_path(hypergraph, weights)\n",
      "best = weights.dot(path)\n",
      "maxmarginals = ph.compute_marginals(hypergraph, weights)\n",
      "avg = 0.0\n",
      "for edge in hypergraph.edges:\n",
      "    avg += float(maxmarginals[edge])\n",
      "avg = avg / float(len(hypergraph.edges))\n",
      "thres = ((0.9) * best + (0.1) * avg)\n",
      "\n",
      "kept = set()\n",
      "for edge in hypergraph.edges:\n",
      "    score = float(maxmarginals[edge])\n",
      "    if score >= thres:\n",
      "        kept.add(edge.id)"
     ],
     "language": "python",
     "outputs": [],
     "prompt_number": 17
    },
    {
     "cell_type": "code",
     "collapsed": false,
     "input": [
      "weights = ph.InsideWeights(hypergraph).build(build_weights)\n",
      "marginals = ph.compute_marginals(hypergraph, weights)\n",
      "base = marginals[hypergraph.root]\n",
      "for edge in hypergraph.edges:\n",
      "    print marginals[edge].value / base.value"
     ],
     "language": "python",
     "outputs": [
      {
       "output_type": "stream",
       "stream": "stdout",
       "text": [
        "Arc(head_index=0, modifier_index=0)\n",
        "None\n",
        "Arc(head_index=1, modifier_index=1)\n",
        "Arc(head_index=1, modifier_index=1)\n",
        "None\n",
        "None\n",
        "Arc(head_index=2, modifier_index=2)\n",
        "Arc(head_index=2, modifier_index=2)\n",
        "None\n",
        "None\n",
        "Arc(head_index=0, modifier_index=0)\n",
        "Arc(head_index=0, modifier_index=1)\n",
        "None\n",
        "None\n",
        "Arc(head_index=1, modifier_index=1)\n",
        "Arc(head_index=2, modifier_index=1)\n",
        "Arc(head_index=1, modifier_index=1)\n",
        "Arc(head_index=1, modifier_index=2)\n",
        "None\n",
        "None\n",
        "None\n",
        "None\n",
        "Arc(head_index=0, modifier_index=0)\n",
        "Arc(head_index=0, modifier_index=1)\n",
        "Arc(head_index=0, modifier_index=2)\n",
        "None\n",
        "None\n",
        "None\n",
        "0.779948580638"
       ]
      },
      {
       "output_type": "stream",
       "stream": "stdout",
       "text": [
        "\n",
        "0.349678242399\n",
        "0.0683792196704\n",
        "0.405492480145\n",
        "0.0683792196704\n",
        "0.404793998187\n",
        "0.537440203938\n",
        "0.00476857367489\n",
        "0.477511406896\n",
        "0.00476857367489\n",
        "0.00845045343262\n",
        "0.048616893289\n",
        "0.000112753943291\n",
        "0.0529972607802\n",
        "0.101391194316\n",
        "0.0502810477309\n",
        "0.0750588711706\n",
        "0.354400196062\n",
        "0.151672238196\n",
        "0.0599287662378\n",
        "0.000698488876544\n",
        "0.42945905183\n",
        "0.211601004434\n",
        "0.301061341409\n",
        "0.0531100151747\n",
        "0.430157564592\n",
        "0.00407008449753\n",
        "0.565772357168\n"
       ]
      }
     ],
     "prompt_number": 18
    },
    {
     "cell_type": "code",
     "collapsed": false,
     "input": [
      "phyper, pweights = ph.prune_hypergraph(hypergraph, weights, 0.1)"
     ],
     "language": "python",
     "outputs": [
      {
       "ename": "AttributeError",
       "evalue": "'pydecode.hyper._InsideMarginals' object has no attribute 'threshold'",
       "output_type": "pyerr",
       "traceback": [
        "\u001b[1;31m---------------------------------------------------------------------------\u001b[0m\n\u001b[1;31mAttributeError\u001b[0m                            Traceback (most recent call last)",
        "\u001b[1;32m<ipython-input-19-31b33f2f027c>\u001b[0m in \u001b[0;36m<module>\u001b[1;34m()\u001b[0m\n\u001b[1;32m----> 1\u001b[1;33m \u001b[0mphyper\u001b[0m\u001b[1;33m,\u001b[0m \u001b[0mpweights\u001b[0m \u001b[1;33m=\u001b[0m \u001b[0mph\u001b[0m\u001b[1;33m.\u001b[0m\u001b[0mprune_hypergraph\u001b[0m\u001b[1;33m(\u001b[0m\u001b[0mhypergraph\u001b[0m\u001b[1;33m,\u001b[0m \u001b[0mweights\u001b[0m\u001b[1;33m,\u001b[0m \u001b[1;36m0.1\u001b[0m\u001b[1;33m)\u001b[0m\u001b[1;33m\u001b[0m\u001b[0m\n\u001b[0m",
        "\u001b[1;32m/home/srush/Projects/decoding/python/pydecode/hyper.so\u001b[0m in \u001b[0;36mpydecode.hyper.prune_hypergraph (python/pydecode/hyper.cpp:21823)\u001b[1;34m()\u001b[0m\n",
        "\u001b[1;32m/home/srush/Projects/decoding/python/pydecode/hyper.so\u001b[0m in \u001b[0;36mpydecode.hyper.Inside.prune_hypergraph (python/pydecode/hyper.cpp:15301)\u001b[1;34m()\u001b[0m\n",
        "\u001b[1;31mAttributeError\u001b[0m: 'pydecode.hyper._InsideMarginals' object has no attribute 'threshold'"
       ]
      }
     ],
     "prompt_number": 19
    },
    {
     "cell_type": "code",
     "collapsed": false,
     "input": [
      "import pydecode.lp as lp\n",
      "hyperlp = lp.HypergraphLP.make_lp(phyper, pweights)\n",
      "hyperlp.lp.writeLP(\"parse.lp\")"
     ],
     "language": "python",
     "outputs": []
    },
    {
     "cell_type": "code",
     "collapsed": false,
     "input": [
      "class ParseFormat(display.HypergraphPathFormatter):\n",
      "    def __init__(self, hypergraph, sentence, path):\n",
      "        self.path = path\n",
      "        self.hypergraph = hypergraph\n",
      "        self.sentence = sentence\n",
      "    def graph_attrs(self):\n",
      "        return {\"rankdir\": \"TB\", \"clusterrank\": \"local\"}\n",
      "    def hypernode_attrs(self, node):\n",
      "        label = self.hypergraph.node_label(node)\n",
      "        return {\"image\": \n",
      "                (\"triangle\" if label.type == Tri else \"trap\") + \"-\" + \n",
      "                (\"right\" if label.dir == Right else \"left\") + \".png\",\n",
      "                \"labelloc\": \"t\",\n",
      "                \"shape\": \"rect\",\n",
      "                \"style\" : \"dashed\",\n",
      "                \"label\": \"%d-%d\"%(label.span[0], label.span[1]) \n",
      "                if label.span[0] != label.span[1] else \n",
      "                ([\"*\"] + sentence.split())[label.span[0]],\n",
      "\n",
      "                }\n",
      "    def hypernode_subgraph(self, node):\n",
      "        label = self.hypergraph.node_label(node)\n",
      "        if label.span[0] == label.span[1]:\n",
      "            return [(\"clust_terminals\", label.span[0] + (0.5 if label.dir == Right else 0))]\n",
      "        return []\n",
      "    def subgraph_format(self, subgraph):\n",
      "        return {\"rank\": \"same\"}\n",
      "    def hyperedge_node_attrs(self, edge):\n",
      "        return {\"shape\": \"point\"}\n",
      "    def hyperedge_attrs(self, edge):\n",
      "        return {\"arrowhead\": \"none\", \n",
      "                \"color\": \"orange\" if edge in self.path else \"black\",\n",
      "                \"penwidth\": 5 if edge in self.path else 1}\n",
      "\n",
      "ParseFormat(hypergraph, sentence, path).to_ipython()"
     ],
     "language": "python",
     "outputs": []
    },
    {
     "cell_type": "code",
     "collapsed": false,
     "input": [
      "import networkx as nx\n",
      "from networkx.readwrite import json_graph\n",
      "import json\n",
      "G = ParseFormat(hypergraph, sentence, path).to_graphviz()\n",
      "G2 = nx.from_agraph(G)\n",
      "d = json_graph.node_link_data(G2) # node-link format to serialize\n",
      "# write json \n",
      "json.dump(d, open('force.json','w'))\n",
      "#nx.write_gexf(G2, \"test_graph.gexf\")"
     ],
     "language": "python",
     "outputs": []
    }
   ]
  }
 ]
}