{
 "metadata": {
  "name": ""
 },
 "nbformat": 3,
 "nbformat_minor": 0,
 "worksheets": [
  {
   "cells": [
    {
     "cell_type": "heading",
     "level": 1,
     "source": [
      "pydecode.binarize"
     ]
    },
    {
     "cell_type": "raw",
     "source": [
      ".. currentmodule:: pydecode                             \n",
      ".. autofunction:: binarize"
     ]
    },
    {
     "cell_type": "heading",
     "level": 2,
     "source": [
      "Examples"
     ]
    },
    {
     "cell_type": "code",
     "collapsed": false,
     "input": [],
     "language": "python",
     "outputs": []
    }
   ]
  }
 ]
}