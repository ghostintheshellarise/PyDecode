{
 "metadata": {
  "name": ""
 },
 "nbformat": 3,
 "nbformat_minor": 0,
 "worksheets": [
  {
   "cells": [
    {
     "cell_type": "heading",
     "level": 1,
     "source": [
      "pydecode.marginals"
     ]
    },
    {
     "cell_type": "raw",
     "source": [
      ".. currentmodule:: pydecode                             \n",
      ".. autofunction:: marginals "
     ]
    },
    {
     "cell_type": "heading",
     "level": 2,
     "source": [
      "Example"
     ]
    },
    {
     "cell_type": "code",
     "collapsed": false,
     "input": [
      "import pydecode\n",
      "import pydecode.test.utils\n",
      "import numpy as np"
     ],
     "language": "python",
     "outputs": [],
     "prompt_number": 2
    },
    {
     "cell_type": "heading",
     "level": 2,
     "source": [
      "Invariants"
     ]
    },
    {
     "cell_type": "code",
     "collapsed": false,
     "input": [
      "import numpy.testing as test\n",
      "import pydecode.test.utils as test_utils\n",
      "\n",
      "graph, weights, weight_type = test_utils.random_setup()\n",
      "marginals = pydecode.marginals(graph, weights, weight_type=weight_type)"
     ],
     "language": "python",
     "outputs": [],
     "prompt_number": 12
    },
    {
     "cell_type": "markdown",
     "source": [
      "Marginals represent to the sum of all paths through each edge."
     ]
    },
    {
     "cell_type": "code",
     "collapsed": false,
     "input": [
      "marginals2 = [weight_type.Value.zero()] * len(graph.edges)\n",
      "for path in test_utils.all_paths(graph):\n",
      "    score = test_utils.path_score(path, weights, weight_type)\n",
      "    for edge in path:\n",
      "        marginals2[edge.id] += score\n",
      "for i in range(len(marginals2)):\n",
      "    marginals2[i] = marginals2[i].value\n",
      "\n",
      "test.assert_almost_equal(marginals, np.array(marginals2), 5)"
     ],
     "language": "python",
     "outputs": [],
     "prompt_number": 13
    }
   ]
  }
 ]
}