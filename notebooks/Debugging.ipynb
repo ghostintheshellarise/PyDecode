{
 "metadata": {
  "name": ""
 },
 "nbformat": 3,
 "nbformat_minor": 0,
 "worksheets": [
  {
   "cells": [
    {
     "cell_type": "code",
     "collapsed": false,
     "input": [
      "c = chart.ChartBuilder(lambda a:a, chart.HypergraphSemiRing, \n",
      "                       build_hypergraph=True, debug=True)\n",
      "hypergraph = edit_distance(c, (\"aab\", \"bbb\")).finish()"
     ],
     "language": "python",
     "outputs": []
    }
   ]
  }
 ]
}